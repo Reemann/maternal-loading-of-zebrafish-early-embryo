{
 "cells": [
  {
   "cell_type": "code",
   "execution_count": null,
   "metadata": {},
   "outputs": [],
   "source": []
  },
  {
   "cell_type": "markdown",
   "metadata": {},
   "source": [
    "# generate slide window for CNV analysis"
   ]
  },
  {
   "cell_type": "code",
   "execution_count": null,
   "metadata": {},
   "outputs": [],
   "source": [
    "import subprocess\n",
    "import os\n",
    "import numpy as np\n",
    "import pandas as pd\n",
    "import matplotlib as mpl\n",
    "mpl.rcParams['pdf.fonttype'] = 42\n",
    "mpl.rcParams['ps.fonttype'] = 42\n",
    "mpl.rcParams['font.sans-serif'] = 'Arial'\n",
    "import matplotlib.pyplot as plt\n",
    "import seaborn as sns\n",
    "from pprint import pprint\n",
    "from matplotlib.backends.backend_pdf import PdfPages\n",
    "%matplotlib inline"
   ]
  },
  {
   "cell_type": "markdown",
   "metadata": {},
   "source": [
    "# gen slide window bed"
   ]
  },
  {
   "cell_type": "code",
   "execution_count": 3,
   "metadata": {},
   "outputs": [
    {
     "data": {
      "text/plain": [
       "{'chr1': 59578282,\n",
       " 'chr10': 45420867,\n",
       " 'chr11': 45484837,\n",
       " 'chr12': 49182954,\n",
       " 'chr13': 52186027,\n",
       " 'chr14': 52660232,\n",
       " 'chr15': 48040578,\n",
       " 'chr16': 55266484,\n",
       " 'chr17': 53461100,\n",
       " 'chr18': 51023478,\n",
       " 'chr19': 48449771,\n",
       " 'chr2': 59640629,\n",
       " 'chr20': 55201332,\n",
       " 'chr21': 45934066,\n",
       " 'chr22': 39133080,\n",
       " 'chr23': 46223584,\n",
       " 'chr24': 42172926,\n",
       " 'chr25': 37502051,\n",
       " 'chr3': 62628489,\n",
       " 'chr4': 74498832,\n",
       " 'chr5': 72500376,\n",
       " 'chr6': 60270059,\n",
       " 'chr7': 74282399,\n",
       " 'chr8': 54304671,\n",
       " 'chr9': 56459846,\n",
       " 'chrM': 16596}"
      ]
     },
     "execution_count": 3,
     "metadata": {},
     "output_type": "execute_result"
    }
   ],
   "source": [
    "chromSizes = pd.read_csv('/mnt/Storage/home/wangyiman/source/bySpecies/danRer11_2/chromSizes/danRer11_2_main.chrom.sizes', \n",
    "                         sep = \"\\t\", header = None, names = ['chr', 'length'])\n",
    "chromSizes.index = chromSizes['chr']\n",
    "chromSizes = chromSizes.drop('chr', axis = 1).to_dict()['length']\n",
    "chromSizes"
   ]
  },
  {
   "cell_type": "code",
   "execution_count": 4,
   "metadata": {},
   "outputs": [
    {
     "data": {
      "text/html": [
       "<div>\n",
       "<style scoped>\n",
       "    .dataframe tbody tr th:only-of-type {\n",
       "        vertical-align: middle;\n",
       "    }\n",
       "\n",
       "    .dataframe tbody tr th {\n",
       "        vertical-align: top;\n",
       "    }\n",
       "\n",
       "    .dataframe thead th {\n",
       "        text-align: right;\n",
       "    }\n",
       "</style>\n",
       "<table border=\"1\" class=\"dataframe\">\n",
       "  <thead>\n",
       "    <tr style=\"text-align: right;\">\n",
       "      <th></th>\n",
       "      <th>chr</th>\n",
       "      <th>start</th>\n",
       "      <th>end</th>\n",
       "      <th>bin_name</th>\n",
       "    </tr>\n",
       "  </thead>\n",
       "  <tbody>\n",
       "    <tr>\n",
       "      <th>0</th>\n",
       "      <td>chr1</td>\n",
       "      <td>0</td>\n",
       "      <td>200000</td>\n",
       "      <td>bin_chr1_0</td>\n",
       "    </tr>\n",
       "    <tr>\n",
       "      <th>1</th>\n",
       "      <td>chr1</td>\n",
       "      <td>10000</td>\n",
       "      <td>210000</td>\n",
       "      <td>bin_chr1_1</td>\n",
       "    </tr>\n",
       "    <tr>\n",
       "      <th>2</th>\n",
       "      <td>chr1</td>\n",
       "      <td>20000</td>\n",
       "      <td>220000</td>\n",
       "      <td>bin_chr1_2</td>\n",
       "    </tr>\n",
       "    <tr>\n",
       "      <th>3</th>\n",
       "      <td>chr1</td>\n",
       "      <td>30000</td>\n",
       "      <td>230000</td>\n",
       "      <td>bin_chr1_3</td>\n",
       "    </tr>\n",
       "    <tr>\n",
       "      <th>4</th>\n",
       "      <td>chr1</td>\n",
       "      <td>40000</td>\n",
       "      <td>240000</td>\n",
       "      <td>bin_chr1_4</td>\n",
       "    </tr>\n",
       "    <tr>\n",
       "      <th>...</th>\n",
       "      <td>...</td>\n",
       "      <td>...</td>\n",
       "      <td>...</td>\n",
       "      <td>...</td>\n",
       "    </tr>\n",
       "    <tr>\n",
       "      <th>133687</th>\n",
       "      <td>chr9</td>\n",
       "      <td>56230000</td>\n",
       "      <td>56430000</td>\n",
       "      <td>bin_chr9_5623</td>\n",
       "    </tr>\n",
       "    <tr>\n",
       "      <th>133688</th>\n",
       "      <td>chr9</td>\n",
       "      <td>56240000</td>\n",
       "      <td>56440000</td>\n",
       "      <td>bin_chr9_5624</td>\n",
       "    </tr>\n",
       "    <tr>\n",
       "      <th>133689</th>\n",
       "      <td>chr9</td>\n",
       "      <td>56250000</td>\n",
       "      <td>56450000</td>\n",
       "      <td>bin_chr9_5625</td>\n",
       "    </tr>\n",
       "    <tr>\n",
       "      <th>133690</th>\n",
       "      <td>chr9</td>\n",
       "      <td>56260000</td>\n",
       "      <td>56459846</td>\n",
       "      <td>bin_chr9_5626</td>\n",
       "    </tr>\n",
       "    <tr>\n",
       "      <th>133691</th>\n",
       "      <td>chrM</td>\n",
       "      <td>0</td>\n",
       "      <td>16596</td>\n",
       "      <td>bin_chrM_0</td>\n",
       "    </tr>\n",
       "  </tbody>\n",
       "</table>\n",
       "<p>133692 rows × 4 columns</p>\n",
       "</div>"
      ],
      "text/plain": [
       "         chr     start       end       bin_name\n",
       "0       chr1         0    200000     bin_chr1_0\n",
       "1       chr1     10000    210000     bin_chr1_1\n",
       "2       chr1     20000    220000     bin_chr1_2\n",
       "3       chr1     30000    230000     bin_chr1_3\n",
       "4       chr1     40000    240000     bin_chr1_4\n",
       "...      ...       ...       ...            ...\n",
       "133687  chr9  56230000  56430000  bin_chr9_5623\n",
       "133688  chr9  56240000  56440000  bin_chr9_5624\n",
       "133689  chr9  56250000  56450000  bin_chr9_5625\n",
       "133690  chr9  56260000  56459846  bin_chr9_5626\n",
       "133691  chrM         0     16596     bin_chrM_0\n",
       "\n",
       "[133692 rows x 4 columns]"
      ]
     },
     "execution_count": 4,
     "metadata": {},
     "output_type": "execute_result"
    }
   ],
   "source": [
    "slide_window_df = pd.DataFrame()\n",
    "for chrom in list(chromSizes.keys()) :\n",
    "    start = list(range(0, chromSizes[chrom] - 200000 + 10000, 10000))\n",
    "    end = list(range(200000, chromSizes[chrom], 10000)) + [chromSizes[chrom]]\n",
    "    df = pd.DataFrame()\n",
    "    df['start'] = start\n",
    "    df['end'] = end\n",
    "    df['chr'] = chrom\n",
    "    slide_window_df = pd.concat([slide_window_df, df])\n",
    "    \n",
    "slide_window_df = slide_window_df.reset_index()\n",
    "slide_window_df['bin_name'] = 'bin_' + slide_window_df['chr'] + '_' + slide_window_df['index'].astype(str)\n",
    "slide_window_df = slide_window_df[['chr', 'start', 'end', 'bin_name']]\n",
    "slide_window_df = slide_window_df.fillna(0)\n",
    "slide_window_df['start'] = slide_window_df['start'].astype(int)\n",
    "slide_window_df"
   ]
  },
  {
   "cell_type": "code",
   "execution_count": 5,
   "metadata": {},
   "outputs": [],
   "source": [
    "slide_window_df.to_csv('/mnt/Storage/home/wangyiman/source/bySpecies/danRer11_2/genome_bin/danRer11_2_main.200kWin.10kStep.bed', header = False, index = False, sep = \"\\t\")\n"
   ]
  },
  {
   "cell_type": "markdown",
   "metadata": {},
   "source": [
    "# window coverage"
   ]
  },
  {
   "cell_type": "code",
   "execution_count": null,
   "metadata": {},
   "outputs": [],
   "source": [
    "%%bash\n",
    "cd ~/maternal_loading/1.private_data/20221209_WGS/analysis\n",
    "slide_window=/mnt/Storage/home/wangyiman/source/bySpecies/danRer11_2/genome_bin/danRer11_2_main.200kWin.10kStep.bed\n",
    "for bdg in $(ls ../2_signal/*.bedGraph);do\n",
    "    name1=$(basename $bdg)\n",
    "    name=${name1%%.bedGraph}\n",
    "    bedtools intersect -b $bdg -a $slide_window -wa -wb -sorted > ${name}.intersect_SlideWin.bed\n",
    "done"
   ]
  },
  {
   "cell_type": "code",
   "execution_count": null,
   "metadata": {},
   "outputs": [],
   "source": []
  }
 ],
 "metadata": {
  "kernelspec": {
   "display_name": "Python [conda env:root] *",
   "language": "python",
   "name": "conda-root-py"
  },
  "language_info": {
   "codemirror_mode": {
    "name": "ipython",
    "version": 3
   },
   "file_extension": ".py",
   "mimetype": "text/x-python",
   "name": "python",
   "nbconvert_exporter": "python",
   "pygments_lexer": "ipython3",
   "version": "3.8.5"
  }
 },
 "nbformat": 4,
 "nbformat_minor": 4
}
