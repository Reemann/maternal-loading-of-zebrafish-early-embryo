{
 "cells": [
  {
   "cell_type": "code",
   "execution_count": null,
   "metadata": {},
   "outputs": [],
   "source": []
  },
  {
   "cell_type": "code",
   "execution_count": 1,
   "metadata": {},
   "outputs": [],
   "source": [
    "import subprocess\n",
    "import os\n",
    "import numpy as np\n",
    "import pandas as pd\n",
    "import matplotlib as mpl\n",
    "mpl.rcParams['pdf.fonttype'] = 42\n",
    "mpl.rcParams['ps.fonttype'] = 42\n",
    "mpl.rcParams['font.sans-serif'] = 'Arial'\n",
    "import matplotlib.pyplot as plt\n",
    "import seaborn as sns\n",
    "from pprint import pprint\n",
    "from matplotlib.backends.backend_pdf import PdfPages\n",
    "%matplotlib inline"
   ]
  },
  {
   "cell_type": "code",
   "execution_count": null,
   "metadata": {},
   "outputs": [],
   "source": [
    "%%bash\n",
    "### bam to wig\n",
    "cd ~/maternal_loading/1.private_data/20221209_WGS/1_mapping\n",
    "\n",
    "### runned on zhanglab3\n",
    "\n",
    "java -jar ~/software/jvarkit/dist/jvarkit.jar bam2wig Npm2a-1k-2N_20221209.sorted.bam > ../2_signal/wig_fis/Npm2a-1k-2N_20221209.sorted.wig\n",
    "java -jar ~/software/jvarkit/dist/jvarkit.jar bam2wig Npm2a-1k-2N_20221216.sorted.bam > ../2_signal/wig_fis/Npm2a-1k-2N_20221216.sorted.wig\n",
    "java -jar ~/software/jvarkit/dist/jvarkit.jar bam2wig Npm2a-1k-4N_20221209.sorted.bam > ../2_signal/wig_fis/Npm2a-1k-4N_20221209.sorted.wig\n",
    "java -jar ~/software/jvarkit/dist/jvarkit.jar bam2wig Npm2a-1k-4N_20221216.sorted.bam > ../2_signal/wig_fis/Npm2a-1k-4N_20221216.sorted.wig\n",
    "java -jar ~/software/jvarkit/dist/jvarkit.jar bam2wig Npm2a-256-2N_20221209.sorted.bam > ../2_signal/wig_fis/Npm2a-256-2N_20221209.sorted.wig\n",
    "java -jar ~/software/jvarkit/dist/jvarkit.jar bam2wig Npm2a-256-2N_20221216.sorted.bam > ../2_signal/wig_fis/Npm2a-256-2N_20221216.sorted.wig\n",
    "java -jar ~/software/jvarkit/dist/jvarkit.jar bam2wig Npm2a-256-4N_20221209.sorted.bam > ../2_signal/wig_fis/Npm2a-256-4N_20221209.sorted.wig\n",
    "java -jar ~/software/jvarkit/dist/jvarkit.jar bam2wig Npm2a-256-4N_20221216.sorted.bam > ../2_signal/wig_fis/Npm2a-256-4N_20221216.sorted.wig\n",
    "java -jar ~/software/jvarkit/dist/jvarkit.jar bam2wig Npm2a-4-5h-1-2N_20221216.sorted.bam > ../2_signal/wig_fis/Npm2a-4-5h-1-2N_20221216.sorted.wig\n",
    "java -jar ~/software/jvarkit/dist/jvarkit.jar bam2wig Npm2a-4-5h-1-4N_20221216.sorted.bam > ../2_signal/wig_fis/Npm2a-4-5h-1-4N_20221216.sorted.wig\n",
    "java -jar ~/software/jvarkit/dist/jvarkit.jar bam2wig Npm2a-4-5h-2-2N_20221216.sorted.bam > ../2_signal/wig_fis/Npm2a-4-5h-2-2N_20221216.sorted.wig\n",
    "java -jar ~/software/jvarkit/dist/jvarkit.jar bam2wig Npm2a-4-5h-2-4N_20221216.sorted.bam > ../2_signal/wig_fis/Npm2a-4-5h-2-4N_20221216.sorted.wig\n",
    "java -jar ~/software/jvarkit/dist/jvarkit.jar bam2wig Npm2a-4-5h-2N_20221209.sorted.bam > ../2_signal/wig_fis/Npm2a-4-5h-2N_20221209.sorted.wig\n",
    "java -jar ~/software/jvarkit/dist/jvarkit.jar bam2wig Npm2a-4-5h-4N_20221209.sorted.bam > ../2_signal/wig_fis/Npm2a-4-5h-4N_20221209.sorted.wig\n",
    "java -jar ~/software/jvarkit/dist/jvarkit.jar bam2wig Npm2a-5-5h-1-2N_20221209.sorted.bam > ../2_signal/wig_fis/Npm2a-5-5h-1-2N_20221209.sorted.wig\n",
    "java -jar ~/software/jvarkit/dist/jvarkit.jar bam2wig Npm2a-5-5h-1-4N_20221209.sorted.bam > ../2_signal/wig_fis/Npm2a-5-5h-1-4N_20221209.sorted.wig\n",
    "java -jar ~/software/jvarkit/dist/jvarkit.jar bam2wig Npm2a-5-5h-2-2N_20221209.sorted.bam > ../2_signal/wig_fis/Npm2a-5-5h-2-2N_20221209.sorted.wig\n",
    "java -jar ~/software/jvarkit/dist/jvarkit.jar bam2wig Npm2a-5-5h-2-4N_20221209.sorted.bam > ../2_signal/wig_fis/Npm2a-5-5h-2-4N_20221209.sorted.wig\n"
   ]
  },
  {
   "cell_type": "code",
   "execution_count": 1,
   "metadata": {},
   "outputs": [
    {
     "name": "stdout",
     "output_type": "stream",
     "text": [
      "Npm2a-1k-2N_20221209.sorted.wig:46258439:fixedStep chrom=chr7 start=1 step=25 span=100\n",
      "Npm2a-1k-2N_20221216.sorted.wig:46258439:fixedStep chrom=chr7 start=1 step=25 span=100\n",
      "Npm2a-1k-4N_20221209.sorted.wig:46258439:fixedStep chrom=chr7 start=1 step=25 span=100\n",
      "Npm2a-1k-4N_20221216.sorted.wig:46258439:fixedStep chrom=chr7 start=1 step=25 span=100\n",
      "Npm2a-256-2N_20221209.sorted.wig:46258439:fixedStep chrom=chr7 start=1 step=25 span=100\n",
      "Npm2a-256-2N_20221216.sorted.wig:46258439:fixedStep chrom=chr7 start=1 step=25 span=100\n",
      "Npm2a-256-4N_20221209.sorted.wig:46258439:fixedStep chrom=chr7 start=1 step=25 span=100\n",
      "Npm2a-256-4N_20221216.sorted.wig:46258439:fixedStep chrom=chr7 start=1 step=25 span=100\n",
      "Npm2a-4-5h-1-2N_20221216.sorted.wig:46258439:fixedStep chrom=chr7 start=1 step=25 span=100\n",
      "Npm2a-4-5h-1-4N_20221216.sorted.wig:46258439:fixedStep chrom=chr7 start=1 step=25 span=100\n",
      "Npm2a-4-5h-2-2N_20221216.sorted.wig:46258439:fixedStep chrom=chr7 start=1 step=25 span=100\n",
      "Npm2a-4-5h-2-4N_20221216.sorted.wig:46258439:fixedStep chrom=chr7 start=1 step=25 span=100\n",
      "Npm2a-4-5h-2N_20221209.sorted.wig:46258439:fixedStep chrom=chr7 start=1 step=25 span=100\n",
      "Npm2a-4-5h-4N_20221209.sorted.wig:46258439:fixedStep chrom=chr7 start=1 step=25 span=100\n",
      "Npm2a-5-5h-1-2N_20221209.sorted.wig:46258439:fixedStep chrom=chr7 start=1 step=25 span=100\n",
      "Npm2a-5-5h-1-4N_20221209.sorted.wig:46258439:fixedStep chrom=chr7 start=1 step=25 span=100\n",
      "Npm2a-5-5h-2-2N_20221209.sorted.wig:46258439:fixedStep chrom=chr7 start=1 step=25 span=100\n",
      "Npm2a-5-5h-2-4N_20221209.sorted.wig:46258439:fixedStep chrom=chr7 start=1 step=25 span=100\n"
     ]
    }
   ],
   "source": [
    "%%bash\n",
    "\n",
    "cd ~/maternal_loading/1.private_data/20221209_WGS/2_signal/wig_fis\n",
    "grep -n chr7 *.wig"
   ]
  },
  {
   "cell_type": "code",
   "execution_count": 2,
   "metadata": {},
   "outputs": [
    {
     "name": "stdout",
     "output_type": "stream",
     "text": [
      "Npm2a-1k-2N_20221209.sorted.wig:49229736:fixedStep chrom=chr8 start=1 step=25 span=100\n",
      "Npm2a-1k-2N_20221216.sorted.wig:49229736:fixedStep chrom=chr8 start=1 step=25 span=100\n",
      "Npm2a-1k-4N_20221209.sorted.wig:49229736:fixedStep chrom=chr8 start=1 step=25 span=100\n",
      "Npm2a-1k-4N_20221216.sorted.wig:49229736:fixedStep chrom=chr8 start=1 step=25 span=100\n",
      "Npm2a-256-2N_20221209.sorted.wig:49229736:fixedStep chrom=chr8 start=1 step=25 span=100\n",
      "Npm2a-256-2N_20221216.sorted.wig:49229736:fixedStep chrom=chr8 start=1 step=25 span=100\n",
      "Npm2a-256-4N_20221209.sorted.wig:49229736:fixedStep chrom=chr8 start=1 step=25 span=100\n",
      "Npm2a-256-4N_20221216.sorted.wig:49229736:fixedStep chrom=chr8 start=1 step=25 span=100\n",
      "Npm2a-4-5h-1-2N_20221216.sorted.wig:49229736:fixedStep chrom=chr8 start=1 step=25 span=100\n",
      "Npm2a-4-5h-1-4N_20221216.sorted.wig:49229736:fixedStep chrom=chr8 start=1 step=25 span=100\n",
      "Npm2a-4-5h-2-2N_20221216.sorted.wig:49229736:fixedStep chrom=chr8 start=1 step=25 span=100\n",
      "Npm2a-4-5h-2-4N_20221216.sorted.wig:49229736:fixedStep chrom=chr8 start=1 step=25 span=100\n",
      "Npm2a-4-5h-2N_20221209.sorted.wig:49229736:fixedStep chrom=chr8 start=1 step=25 span=100\n",
      "Npm2a-4-5h-4N_20221209.sorted.wig:49229736:fixedStep chrom=chr8 start=1 step=25 span=100\n",
      "Npm2a-5-5h-1-2N_20221209.sorted.wig:49229736:fixedStep chrom=chr8 start=1 step=25 span=100\n",
      "Npm2a-5-5h-1-4N_20221209.sorted.wig:49229736:fixedStep chrom=chr8 start=1 step=25 span=100\n",
      "Npm2a-5-5h-2-2N_20221209.sorted.wig:49229736:fixedStep chrom=chr8 start=1 step=25 span=100\n",
      "Npm2a-5-5h-2-4N_20221209.sorted.wig:49229736:fixedStep chrom=chr8 start=1 step=25 span=100\n"
     ]
    }
   ],
   "source": [
    "%%bash\n",
    "\n",
    "cd ~/maternal_loading/1.private_data/20221209_WGS/2_signal/wig_fis\n",
    "grep -n chr8 *.wig"
   ]
  },
  {
   "cell_type": "code",
   "execution_count": 11,
   "metadata": {},
   "outputs": [
    {
     "name": "stdout",
     "output_type": "stream",
     "text": [
      "49229736\n",
      "46258439\n",
      "49229736\n",
      "46258439\n"
     ]
    }
   ],
   "source": [
    "%%bash\n",
    "\n",
    "### select one chromosome in wig files\n",
    "\n",
    "cd ~/maternal_loading/1.private_data/20221209_WGS/2_signal/wig_fis\n",
    "grep_one_chr(){\n",
    "    name=$1\n",
    "    chr_num=$2\n",
    "    case $chr_num in\n",
    "        1)\n",
    "            next_chr_num=10\n",
    "            ;;\n",
    "        19)\n",
    "            next_chr_num=2\n",
    "            ;;\n",
    "        2)\n",
    "            next_chr_num=20\n",
    "            ;;\n",
    "        25)\n",
    "            next_chr_num=3\n",
    "            ;;\n",
    "        9)\n",
    "            next_chr_num=M\n",
    "            ;;\n",
    "        *)\n",
    "            next_chr_num=`bc <<< \"${chr_num} +1\"`\n",
    "            ;;\n",
    "    esac\n",
    "    \n",
    "    start_row=$(grep -n chr${chr_num} ${name}.sorted.wig | cut -f 1 -d ':')\n",
    "    end_row_plus1=$(grep -n chr${next_chr_num} ${name}.sorted.wig | cut -f 1 -d ':')\n",
    "    \n",
    "    head_num=`bc <<< \"${end_row_plus1} -1\"`\n",
    "    head -${head_num} ${name}.sorted.wig | tail -n+${start_row} > ${name}.chr${chr_num}.sorted.wig\n",
    "    echo $end_row_plus1\n",
    "    echo $start_row\n",
    "}\n",
    "\n",
    "\n",
    "# grep_one_chr Npm2a-1k-2N_20221209 7\n",
    "grep_one_chr Npm2a-1k-2N_20221216 7\n",
    "# grep_one_chr Npm2a-1k-4N_20221209 7\n",
    "grep_one_chr Npm2a-1k-4N_20221216 7\n",
    "# grep_one_chr Npm2a-256-2N_20221209 7\n",
    "# grep_one_chr Npm2a-256-2N_20221216 7\n",
    "# grep_one_chr Npm2a-256-4N_20221209 7\n",
    "# grep_one_chr Npm2a-256-4N_20221216 7\n",
    "# grep_one_chr Npm2a-4-5h-1-2N_20221216 7\n",
    "# grep_one_chr Npm2a-4-5h-1-4N_20221216 7\n",
    "# grep_one_chr Npm2a-4-5h-2-2N_20221216 7\n",
    "# grep_one_chr Npm2a-4-5h-2-4N_20221216 7\n",
    "# grep_one_chr Npm2a-4-5h-2N_20221209 7\n",
    "# grep_one_chr Npm2a-4-5h-4N_20221209 7\n",
    "# grep_one_chr Npm2a-5-5h-1-2N_20221209 7\n",
    "# grep_one_chr Npm2a-5-5h-1-4N_20221209 7\n",
    "# grep_one_chr Npm2a-5-5h-2-2N_20221209 7\n",
    "# grep_one_chr Npm2a-5-5h-2-4N_20221209 7\n"
   ]
  },
  {
   "cell_type": "code",
   "execution_count": 9,
   "metadata": {},
   "outputs": [],
   "source": [
    "%%bash\n",
    "\n",
    "cd ~/maternal_loading/1.private_data/20221209_WGS/2_signal/wig_fis\n",
    "for chrom in $(cut -f 1 /mnt/Storage/home/wangyiman/source/bySpecies/danRer11_2/chromSizes/danRer11_2_main.chrom.sizes);do\n",
    "    grep $chrom /mnt/Storage/home/wangyiman/source/bySpecies/danRer11_2/chromSizes/danRer11_2_main.chrom.sizes > danRer11_2_main_${chrom}.chrom.sizes\n",
    "\n",
    "done"
   ]
  },
  {
   "cell_type": "code",
   "execution_count": null,
   "metadata": {},
   "outputs": [],
   "source": [
    "%%bash\n",
    "\n",
    "### need to run in tmux\n",
    "cd ~/maternal_loading/1.private_data/20221209_WGS/2_signal/wig_fis\n",
    "HilbertCurve_20190520.py -w Npm2a-1k-2N_20221209.chr7.sorted.wig -g danRer11_2_main_chr7.chrom.sizes --dif-scale False -n Npm2a-1k-2N_20221209.chr7\n",
    "HilbertCurve_20190520.py -w Npm2a-1k-2N_20221216.chr7.sorted.wig -g danRer11_2_main_chr7.chrom.sizes --dif-scale False -n Npm2a-1k-2N_20221216.chr7\n",
    "# HilbertCurve_20190520.py -w Npm2a-1k-4N_20221209.chr7.sorted.wig -g danRer11_2_main_chr7.chrom.sizes --dif-scale False -n Npm2a-1k-4N_20221209.chr7\n",
    "HilbertCurve_20190520.py -w Npm2a-1k-4N_20221216.chr7.sorted.wig -g danRer11_2_main_chr7.chrom.sizes --dif-scale False -n Npm2a-1k-4N_20221216.chr7\n"
   ]
  },
  {
   "cell_type": "code",
   "execution_count": null,
   "metadata": {},
   "outputs": [],
   "source": [
    "%%bash\n",
    "\n",
    "### need to run in tmux\n",
    "cd ~/maternal_loading/1.private_data/20221209_WGS/2_signal/wig_fis\n",
    "HilbertCurve_20190520.py -w Npm2a-1k-2N_20221209.chr7.sorted.wig -g danRer11_2_main_chr7.chrom.sizes --dif-scale False -n Npm2a-1k-2N_20221209.chr7_region --region chr7:21890000-23100000 -l 5\n",
    "HilbertCurve_20190520.py -w Npm2a-1k-4N_20221209.chr7.sorted.wig -g danRer11_2_main_chr7.chrom.sizes --dif-scale False -n Npm2a-1k-4N_20221209.chr7_region --region chr7:21890000-23100000 -l 5\n"
   ]
  },
  {
   "cell_type": "code",
   "execution_count": 14,
   "metadata": {},
   "outputs": [
    {
     "data": {
      "text/html": [
       "<div>\n",
       "<style scoped>\n",
       "    .dataframe tbody tr th:only-of-type {\n",
       "        vertical-align: middle;\n",
       "    }\n",
       "\n",
       "    .dataframe tbody tr th {\n",
       "        vertical-align: top;\n",
       "    }\n",
       "\n",
       "    .dataframe thead th {\n",
       "        text-align: right;\n",
       "    }\n",
       "</style>\n",
       "<table border=\"1\" class=\"dataframe\">\n",
       "  <thead>\n",
       "    <tr style=\"text-align: right;\">\n",
       "      <th></th>\n",
       "      <th>0</th>\n",
       "      <th>1</th>\n",
       "    </tr>\n",
       "  </thead>\n",
       "  <tbody>\n",
       "    <tr>\n",
       "      <th>0</th>\n",
       "      <td>1</td>\n",
       "      <td>2</td>\n",
       "    </tr>\n",
       "    <tr>\n",
       "      <th>1</th>\n",
       "      <td>3</td>\n",
       "      <td>4</td>\n",
       "    </tr>\n",
       "  </tbody>\n",
       "</table>\n",
       "</div>"
      ],
      "text/plain": [
       "   0  1\n",
       "0  1  2\n",
       "1  3  4"
      ]
     },
     "execution_count": 14,
     "metadata": {},
     "output_type": "execute_result"
    }
   ],
   "source": [
    "pd.DataFrame([[1,2],[3,4]])"
   ]
  },
  {
   "cell_type": "code",
   "execution_count": 13,
   "metadata": {},
   "outputs": [],
   "source": [
    "import pandas as pd"
   ]
  },
  {
   "cell_type": "code",
   "execution_count": null,
   "metadata": {},
   "outputs": [],
   "source": []
  }
 ],
 "metadata": {
  "kernelspec": {
   "display_name": "Python [conda env:root] *",
   "language": "python",
   "name": "conda-root-py"
  },
  "language_info": {
   "codemirror_mode": {
    "name": "ipython",
    "version": 3
   },
   "file_extension": ".py",
   "mimetype": "text/x-python",
   "name": "python",
   "nbconvert_exporter": "python",
   "pygments_lexer": "ipython3",
   "version": "3.8.5"
  }
 },
 "nbformat": 4,
 "nbformat_minor": 4
}
