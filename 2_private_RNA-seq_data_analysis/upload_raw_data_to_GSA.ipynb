{
 "cells": [
  {
   "cell_type": "code",
   "execution_count": 8,
   "metadata": {},
   "outputs": [],
   "source": [
    "%%bash\n",
    "cd ~/maternal_loading/1.private_data/upload_data\n",
    "\n",
    "### RNA-seq oblong\n",
    "### R1\n",
    "ln -s   ~/maternal_loading/1.private_data/genes4_ko_analysis/RNAseq/0_raw_data/TU-TL-RNA-N2-oblong_combined_R1.fastq.gz Mnpm2a_3p66h_rep1_R1.fastq.gz \n",
    "ln -s ~/maternal_loading/1.private_data/genes4_ko_analysis/RNAseq/0_raw_data/TU-TL-npm2a-oblongRNA_combined_R1.fastq.gz Mnpm2a_3p66h_rep2_R1.fastq.gz\n",
    "ln -s   ~/maternal_loading/1.private_data/genes4_ko_analysis/RNAseq/0_raw_data/oblong-wt-2-RNA_FRRA190043064-1a_1.fq.gz     WT_3p66h_rep1_R1.fastq.gz\n",
    "ln -s   ~/maternal_loading/1.private_data/genes4_ko_analysis/RNAseq/0_raw_data/TU-TL-RNA-wt-oblong_combined_R1.fastq.gz     WT_3p66h_rep2_R1.fastq.gz\n",
    "### R2\n",
    "ln -s   ~/maternal_loading/1.private_data/genes4_ko_analysis/RNAseq/0_raw_data/TU-TL-RNA-N2-oblong_combined_R2.fastq.gz Mnpm2a_3p66h_rep1_R2.fastq.gz \n",
    "ln -s ~/maternal_loading/1.private_data/genes4_ko_analysis/RNAseq/0_raw_data/TU-TL-npm2a-oblongRNA_combined_R2.fastq.gz Mnpm2a_3p66h_rep2_R2.fastq.gz\n",
    "ln -s   ~/maternal_loading/1.private_data/genes4_ko_analysis/RNAseq/0_raw_data/oblong-wt-2-RNA_FRRA190043064-1a_2.fq.gz     WT_3p66h_rep1_R2.fastq.gz\n",
    "ln -s   ~/maternal_loading/1.private_data/genes4_ko_analysis/RNAseq/0_raw_data/TU-TL-RNA-wt-oblong_combined_R2.fastq.gz     WT_3p66h_rep2_R2.fastq.gz\n",
    "\n"
   ]
  },
  {
   "cell_type": "code",
   "execution_count": 7,
   "metadata": {},
   "outputs": [],
   "source": [
    "%%bash\n",
    "cd ~/maternal_loading/1.private_data/upload_data\n",
    "### 256-cell\n",
    "### R1\n",
    "ln -s ~/maternal_loading/1.private_data/20221209_WGS/0_raw_data/Npm2a-256-2N_L1_M002.R1.fastq.gz Mnpm2a_2p5h_2N_rep1_R1.fastq.gz\n",
    "ln -s ~/maternal_loading/1.private_data/20221209_WGS/0_raw_data/Npm2a-256-4N_L1_M004.R1.fastq.gz Mnpm2a_2p5h_4N_rep1_R1.fastq.gz\n",
    "ln -s ~/maternal_loading/1.private_data/20221209_WGS/0_raw_data/Npm2a-256-2N_L4_M002.R1.fastq.gz Mnpm2a_2p5h_2N_rep2_R1.fastq.gz\n",
    "ln -s ~/maternal_loading/1.private_data/20221209_WGS/0_raw_data/Npm2a-256-4N_L2_M004.R1.fastq.gz Mnpm2a_2p5h_4N_rep2_R1.fastq.gz\n",
    "### R2\n",
    "ln -s ~/maternal_loading/1.private_data/20221209_WGS/0_raw_data/Npm2a-256-2N_L1_M002.R2.fastq.gz Mnpm2a_2p5h_2N_rep1_R2.fastq.gz\n",
    "ln -s ~/maternal_loading/1.private_data/20221209_WGS/0_raw_data/Npm2a-256-4N_L1_M004.R2.fastq.gz Mnpm2a_2p5h_4N_rep1_R2.fastq.gz\n",
    "ln -s ~/maternal_loading/1.private_data/20221209_WGS/0_raw_data/Npm2a-256-2N_L4_M002.R2.fastq.gz Mnpm2a_2p5h_2N_rep2_R2.fastq.gz\n",
    "ln -s ~/maternal_loading/1.private_data/20221209_WGS/0_raw_data/Npm2a-256-4N_L2_M004.R2.fastq.gz Mnpm2a_2p5h_4N_rep2_R2.fastq.gz\n",
    "\n",
    "### 1k-cell\n",
    "### R1\n",
    "ln -s ~/maternal_loading/1.private_data/20221209_WGS/0_raw_data/Npm2a-1k-2N_L3_M002.R1.fastq.gz Mnpm2a_3h_2N_rep1_R1.fastq.gz # 20221209\n",
    "ln -s ~/maternal_loading/1.private_data/20221209_WGS/0_raw_data/Npm2a-1k-4N_L3_M004.R1.fastq.gz Mnpm2a_3h_4N_rep1_R1.fastq.gz # 20221209\n",
    "ln -s ~/maternal_loading/1.private_data/20221209_WGS/0_raw_data/Npm2a-1k-2N_L2_M005.R1.fastq.gz Mnpm2a_3h_2N_rep2_R1.fastq.gz # 20221216\n",
    "ln -s ~/maternal_loading/1.private_data/20221209_WGS/0_raw_data/Npm2a-1k-4N_L2_M006.R1.fastq.gz Mnpm2a_3h_4N_rep2_R1.fastq.gz # 20221216\n",
    "### R2\n",
    "ln -s ~/maternal_loading/1.private_data/20221209_WGS/0_raw_data/Npm2a-1k-2N_L3_M002.R2.fastq.gz Mnpm2a_3h_2N_rep1_R2.fastq.gz # 20221209\n",
    "ln -s ~/maternal_loading/1.private_data/20221209_WGS/0_raw_data/Npm2a-1k-4N_L3_M004.R2.fastq.gz Mnpm2a_3h_4N_rep1_R2.fastq.gz # 20221209\n",
    "ln -s ~/maternal_loading/1.private_data/20221209_WGS/0_raw_data/Npm2a-1k-2N_L2_M005.R2.fastq.gz Mnpm2a_3h_2N_rep2_R2.fastq.gz # 20221216\n",
    "ln -s ~/maternal_loading/1.private_data/20221209_WGS/0_raw_data/Npm2a-1k-4N_L2_M006.R2.fastq.gz Mnpm2a_3h_4N_rep2_R2.fastq.gz # 20221216\n",
    "\n",
    "### 4.5 hpf\n",
    "### R1\n",
    "ln -s ~/maternal_loading/1.private_data/20221209_WGS/0_raw_data/Npm2a-4-5h-1-2N_L3_M007.R1.fastq.gz Mnpm2a_4p5h_2N_rep1_R1.fastq.gz  # 20221216\n",
    "ln -s ~/maternal_loading/1.private_data/20221209_WGS/0_raw_data/Npm2a-4-5h-1-4N_L2_M012.R1.fastq.gz Mnpm2a_4p5h_4N_rep1_R1.fastq.gz  # 20221216\n",
    "ln -s  ~/maternal_loading/1.private_data/20221209_WGS/0_raw_data/Npm2a-4-5h-2-2N_L2_913.R1.fastq.gz Mnpm2a_4p5h_2N_rep2_R1.fastq.gz  # 20221216\n",
    "ln -s  ~/maternal_loading/1.private_data/20221209_WGS/0_raw_data/Npm2a-4-5h-2-4N_L2_914.R1.fastq.gz Mnpm2a_4p5h_4N_rep2_R1.fastq.gz  # 20221216\n",
    "### R2\n",
    "ln -s ~/maternal_loading/1.private_data/20221209_WGS/0_raw_data/Npm2a-4-5h-1-2N_L3_M007.R2.fastq.gz Mnpm2a_4p5h_2N_rep1_R2.fastq.gz  # 20221216\n",
    "ln -s ~/maternal_loading/1.private_data/20221209_WGS/0_raw_data/Npm2a-4-5h-1-4N_L2_M012.R2.fastq.gz Mnpm2a_4p5h_4N_rep1_R2.fastq.gz  # 20221216\n",
    "ln -s  ~/maternal_loading/1.private_data/20221209_WGS/0_raw_data/Npm2a-4-5h-2-2N_L2_913.R2.fastq.gz Mnpm2a_4p5h_2N_rep2_R2.fastq.gz  # 20221216\n",
    "ln -s  ~/maternal_loading/1.private_data/20221209_WGS/0_raw_data/Npm2a-4-5h-2-4N_L2_914.R2.fastq.gz Mnpm2a_4p5h_4N_rep2_R2.fastq.gz  # 20221216\n",
    "\n",
    "### 5.5 hpf\n",
    "### R1\n",
    "ln -s ~/maternal_loading/1.private_data/20221209_WGS/0_raw_data/Npm2a-5-5h-1-2N_L1_M005.R1.fastq.gz Mnpm2a_5p5h_2N_rep1_R1.fastq.gz  # 20221209\n",
    "ln -s ~/maternal_loading/1.private_data/20221209_WGS/0_raw_data/Npm2a-5-5h-1-4N_L2_M006.R1.fastq.gz Mnpm2a_5p5h_4N_rep1_R1.fastq.gz  # 20221209\n",
    "ln -s ~/maternal_loading/1.private_data/20221209_WGS/0_raw_data/Npm2a-5-5h-2-2N_L2_M007.R1.fastq.gz Mnpm2a_5p5h_2N_rep2_R1.fastq.gz  # 20221209\n",
    "ln -s ~/maternal_loading/1.private_data/20221209_WGS/0_raw_data/Npm2a-5-5h-2-4N_L2_M012.R1.fastq.gz Mnpm2a_5p5h_4N_rep2_R1.fastq.gz  # 20221209\n",
    "### R2\n",
    "ln -s ~/maternal_loading/1.private_data/20221209_WGS/0_raw_data/Npm2a-5-5h-1-2N_L1_M005.R2.fastq.gz Mnpm2a_5p5h_2N_rep1_R2.fastq.gz  # 20221209\n",
    "ln -s ~/maternal_loading/1.private_data/20221209_WGS/0_raw_data/Npm2a-5-5h-1-4N_L2_M006.R2.fastq.gz Mnpm2a_5p5h_4N_rep1_R2.fastq.gz  # 20221209\n",
    "ln -s ~/maternal_loading/1.private_data/20221209_WGS/0_raw_data/Npm2a-5-5h-2-2N_L2_M007.R2.fastq.gz Mnpm2a_5p5h_2N_rep2_R2.fastq.gz  # 20221209\n",
    "ln -s ~/maternal_loading/1.private_data/20221209_WGS/0_raw_data/Npm2a-5-5h-2-4N_L2_M012.R2.fastq.gz Mnpm2a_5p5h_4N_rep2_R2.fastq.gz  # 20221209\n"
   ]
  },
  {
   "cell_type": "code",
   "execution_count": null,
   "metadata": {},
   "outputs": [],
   "source": [
    "ftp -p submit.big.ac.cn\n",
    "# user name : yzhang@tongji.edu.cn\n",
    "# password : Zhanglab2021\n",
    "ftp> cd GSA\n",
    "ftp> binary\n",
    "ftp> prompt\n",
    "ftp> mput *.fastq.gz"
   ]
  }
 ],
 "metadata": {
  "kernelspec": {
   "display_name": "base",
   "language": "python",
   "name": "python3"
  },
  "language_info": {
   "codemirror_mode": {
    "name": "ipython",
    "version": 3
   },
   "file_extension": ".py",
   "mimetype": "text/x-python",
   "name": "python",
   "nbconvert_exporter": "python",
   "pygments_lexer": "ipython3",
   "version": "3.8.5"
  },
  "orig_nbformat": 4
 },
 "nbformat": 4,
 "nbformat_minor": 2
}
