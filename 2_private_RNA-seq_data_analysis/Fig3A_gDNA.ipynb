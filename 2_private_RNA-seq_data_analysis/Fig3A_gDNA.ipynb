{
 "cells": [
  {
   "cell_type": "code",
   "execution_count": 10,
   "metadata": {},
   "outputs": [],
   "source": [
    "import pandas as pd\n",
    "import matplotlib.pyplot as plt\n",
    "import matplotlib as mpl\n",
    "import seaborn as sns\n",
    "\n",
    "mpl.rcParams['pdf.fonttype'] = 42\n",
    "mpl.rcParams['ps.fonttype'] = 42\n",
    "mpl.rcParams['font.sans-serif'] = 'Arial'"
   ]
  },
  {
   "cell_type": "code",
   "execution_count": null,
   "metadata": {},
   "outputs": [],
   "source": [
    "df = [\n",
    "    {\"Stage\": \"1.5 hpf\", \"WT\": 9.5285, \"mcm6l\": 11.0545},\n",
    "    {\"Stage\": \"2.0 hpf\", \"WT\": 12.9275, \"mcm6l\": 8.579},\n",
    "    {\"Stage\": \"3.0 hpf\", \"WT\": 43.126, \"mcm6l\": 8.1105},\n",
    "    {\"Stage\": \"4.0 hpf\", \"WT\": 94.3915, \"mcm6l\": 8.9555},\n",
    "    \n",
    "]\n",
    "# Stage\t1.5 hpf\t2.0 hpf\t3.0 hpf\t4.0 hpf\n",
    "# WT\t9.5285\t12.9275\t43.126\t94.3915\n",
    "# mcm6l\t11.0545\t8.579\t8.1105\t8.9555\n",
    "\n",
    "df = pd.DataFrame(df)"
   ]
  },
  {
   "cell_type": "code",
   "execution_count": 2,
   "metadata": {},
   "outputs": [
    {
     "data": {
      "text/html": [
       "<div>\n",
       "<style scoped>\n",
       "    .dataframe tbody tr th:only-of-type {\n",
       "        vertical-align: middle;\n",
       "    }\n",
       "\n",
       "    .dataframe tbody tr th {\n",
       "        vertical-align: top;\n",
       "    }\n",
       "\n",
       "    .dataframe thead th {\n",
       "        text-align: right;\n",
       "    }\n",
       "</style>\n",
       "<table border=\"1\" class=\"dataframe\">\n",
       "  <thead>\n",
       "    <tr style=\"text-align: right;\">\n",
       "      <th></th>\n",
       "      <th>Stage</th>\n",
       "      <th>WT</th>\n",
       "      <th>mcm6l</th>\n",
       "    </tr>\n",
       "  </thead>\n",
       "  <tbody>\n",
       "    <tr>\n",
       "      <th>0</th>\n",
       "      <td>1.5 hpf</td>\n",
       "      <td>9.5285</td>\n",
       "      <td>11.0545</td>\n",
       "    </tr>\n",
       "    <tr>\n",
       "      <th>1</th>\n",
       "      <td>2.0 hpf</td>\n",
       "      <td>12.9275</td>\n",
       "      <td>8.5790</td>\n",
       "    </tr>\n",
       "    <tr>\n",
       "      <th>2</th>\n",
       "      <td>3.0 hpf</td>\n",
       "      <td>43.1260</td>\n",
       "      <td>8.1105</td>\n",
       "    </tr>\n",
       "    <tr>\n",
       "      <th>3</th>\n",
       "      <td>4.0 hpf</td>\n",
       "      <td>94.3915</td>\n",
       "      <td>8.9555</td>\n",
       "    </tr>\n",
       "  </tbody>\n",
       "</table>\n",
       "</div>"
      ],
      "text/plain": [
       "     Stage       WT    mcm6l\n",
       "0  1.5 hpf   9.5285  11.0545\n",
       "1  2.0 hpf  12.9275   8.5790\n",
       "2  3.0 hpf  43.1260   8.1105\n",
       "3  4.0 hpf  94.3915   8.9555"
      ]
     },
     "execution_count": 2,
     "metadata": {},
     "output_type": "execute_result"
    }
   ],
   "source": [
    "df"
   ]
  },
  {
   "cell_type": "code",
   "execution_count": 12,
   "metadata": {},
   "outputs": [
    {
     "data": {
      "image/png": "[encoded data removed]",
      "text/plain": [
       "<Figure size 309x150 with 1 Axes>"
      ]
     },
     "metadata": {},
     "output_type": "display_data"
    }
   ],
   "source": [
    "fig, ax = plt.subplots(figsize=(3.09, 1.5), tight_layout=True)\n",
    "sns.lineplot(data=df, x=\"Stage\", y=\"WT\", marker=\"o\", label=\"WT\", ax=ax)\n",
    "sns.lineplot(data=df, x=\"Stage\", y=\"mcm6l\", marker=\"o\", label=\"mcm6l\", ax=ax)\n",
    "ax.set_ylabel(\"Relative expression\")\n",
    "ax.set_xlabel(\"\")\n",
    "\n",
    "fig.savefig('/mnt/Storage/home/wangyiman/maternal_loading/Revision_CommuBio/figures_revision2/make3_Fig3A_gDNA_mcm6l_WT.pdf',\n",
    "            transparent=True)"
   ]
  },
  {
   "cell_type": "code",
   "execution_count": null,
   "metadata": {},
   "outputs": [],
   "source": []
  }
 ],
 "metadata": {
  "kernelspec": {
   "display_name": "base",
   "language": "python",
   "name": "python3"
  },
  "language_info": {
   "codemirror_mode": {
    "name": "ipython",
    "version": 3
   },
   "file_extension": ".py",
   "mimetype": "text/x-python",
   "name": "python",
   "nbconvert_exporter": "python",
   "pygments_lexer": "ipython3",
   "version": "3.8.5"
  }
 },
 "nbformat": 4,
 "nbformat_minor": 2
}
