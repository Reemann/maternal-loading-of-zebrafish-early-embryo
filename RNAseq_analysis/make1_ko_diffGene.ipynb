{
 "cells": [
  {
   "cell_type": "markdown",
   "metadata": {},
   "source": [
    "# load module"
   ]
  },
  {
   "cell_type": "code",
   "execution_count": 1,
   "metadata": {},
   "outputs": [],
   "source": [
    "import subprocess\n",
    "import os\n",
    "import numpy as np\n",
    "import pandas as pd\n",
    "import matplotlib as mpl\n",
    "mpl.rcParams['pdf.fonttype'] = 42\n",
    "mpl.rcParams['ps.fonttype'] = 42\n",
    "mpl.rcParams['font.sans-serif'] = 'Arial'\n",
    "import matplotlib.pyplot as plt\n",
    "import seaborn as sns\n",
    "from pprint import pprint\n",
    "from matplotlib.backends.backend_pdf import PdfPages\n",
    "%matplotlib inline"
   ]
  },
  {
   "cell_type": "markdown",
   "metadata": {},
   "source": [
    "# diff expr genes"
   ]
  },
  {
   "cell_type": "code",
   "execution_count": 2,
   "metadata": {},
   "outputs": [],
   "source": [
    "diff_gene_dict = {}"
   ]
  },
  {
   "cell_type": "code",
   "execution_count": 3,
   "metadata": {},
   "outputs": [],
   "source": [
    "diff_gene_ls_dict = {}"
   ]
  },
  {
   "cell_type": "code",
   "execution_count": 4,
   "metadata": {},
   "outputs": [],
   "source": [
    "diff_gene_dict['oocyte'] = {}"
   ]
  },
  {
   "cell_type": "code",
   "execution_count": 5,
   "metadata": {},
   "outputs": [],
   "source": [
    "diff_gene_ls_dict['oocyte'] = {}"
   ]
  },
  {
   "cell_type": "markdown",
   "metadata": {},
   "source": [
    "## oocyte"
   ]
  },
  {
   "cell_type": "code",
   "execution_count": 133,
   "metadata": {},
   "outputs": [
    {
     "name": "stdout",
     "output_type": "stream",
     "text": [
      "32916\n",
      "259 186\n",
      "33125\n",
      "243 177\n",
      "30357\n",
      "150 150\n"
     ]
    }
   ],
   "source": [
    "for gene in ['mcm6l', 'npm2a', 'orc1'] :\n",
    "    diff_gene_dict['oocyte'][gene] = pd.read_table(f'/mnt/Storage/home/wangyiman/maternal_loading/1.private_data/genes4_ko_analysis/RNAseq/diff_byTrans/WT_VS_{gene}_oocyte_ensGene.diff',\n",
    "                                                   comment = '#', header = None, sep = '\\t'\n",
    "                                                  )\n",
    "    diff_gene_dict['oocyte'][gene].columns = ['GeneSymbol','GeneName','GFOLD(0.01)','E-FDR','log2fdc','1stRPKM','2ndRPKM']\n",
    "    diff_gene_dict['oocyte'][gene] = diff_gene_dict['oocyte'][gene].loc[(diff_gene_dict['oocyte'][gene]['1stRPKM'] > 0.58) | (diff_gene_dict['oocyte'][gene]['2ndRPKM'] > 0)]\n",
    "    print(diff_gene_dict['oocyte'][gene].shape[0])\n",
    "    diff_gene_ls_dict['oocyte'][gene] = {}\n",
    "    diff_gene_ls_dict['oocyte'][gene]['up'] = diff_gene_dict['oocyte'][gene].loc[diff_gene_dict['oocyte'][gene]['GFOLD(0.01)'] > 0.58]['GeneSymbol'].str.split(\".\", expand = True)[0].tolist()\n",
    "    diff_gene_ls_dict['oocyte'][gene]['down'] = diff_gene_dict['oocyte'][gene].loc[diff_gene_dict['oocyte'][gene]['GFOLD(0.01)'] < -0.58]['GeneSymbol'].str.split(\".\", expand = True)[0].tolist()\n",
    "    print(len(diff_gene_ls_dict['oocyte'][gene]['up']), len(diff_gene_ls_dict['oocyte'][gene]['down']))"
   ]
  },
  {
   "cell_type": "code",
   "execution_count": 134,
   "metadata": {},
   "outputs": [
    {
     "data": {
      "text/plain": [
       "0.5849625007211562"
      ]
     },
     "execution_count": 134,
     "metadata": {},
     "output_type": "execute_result"
    }
   ],
   "source": [
    "np.log2(1.5)"
   ]
  },
  {
   "cell_type": "markdown",
   "metadata": {},
   "source": [
    "## 64-cell"
   ]
  },
  {
   "cell_type": "code",
   "execution_count": 135,
   "metadata": {},
   "outputs": [],
   "source": [
    "stage = '64'"
   ]
  },
  {
   "cell_type": "code",
   "execution_count": 136,
   "metadata": {},
   "outputs": [],
   "source": [
    "diff_gene_dict[stage] = {}"
   ]
  },
  {
   "cell_type": "code",
   "execution_count": 137,
   "metadata": {},
   "outputs": [],
   "source": [
    "diff_gene_ls_dict[stage] = {}"
   ]
  },
  {
   "cell_type": "code",
   "execution_count": 138,
   "metadata": {},
   "outputs": [
    {
     "name": "stdout",
     "output_type": "stream",
     "text": [
      "31976\n",
      "116 388\n",
      "36648\n",
      "287 303\n"
     ]
    }
   ],
   "source": [
    "for gene in ['mcm6l', 'npm2a', ] :\n",
    "    diff_gene_dict[stage][gene] = pd.read_table(f'/mnt/Storage/home/wangyiman/maternal_loading/1.private_data/genes4_ko_analysis/RNAseq/diff_byTrans/WT_VS_{gene}_{stage}_ensGene.diff',\n",
    "                                                   comment = '#', header = None, sep = '\\t'\n",
    "                                                  )\n",
    "    diff_gene_dict[stage][gene].columns = ['GeneSymbol','GeneName','GFOLD(0.01)','E-FDR','log2fdc','1stRPKM','2ndRPKM']\n",
    "    diff_gene_dict[stage][gene] = diff_gene_dict[stage][gene].loc[(diff_gene_dict[stage][gene]['1stRPKM'] > 0.58) | (diff_gene_dict[stage][gene]['2ndRPKM'] > 0)]\n",
    "    print(diff_gene_dict[stage][gene].shape[0])\n",
    "    diff_gene_ls_dict[stage][gene] = {}\n",
    "    diff_gene_ls_dict[stage][gene]['up'] = diff_gene_dict[stage][gene].loc[diff_gene_dict[stage][gene]['GFOLD(0.01)'] > 0.58]['GeneSymbol'].str.split(\".\", expand = True)[0].tolist()\n",
    "    diff_gene_ls_dict[stage][gene]['down'] = diff_gene_dict[stage][gene].loc[diff_gene_dict[stage][gene]['GFOLD(0.01)'] < -0.58]['GeneSymbol'].str.split(\".\", expand = True)[0].tolist()\n",
    "    print(len(diff_gene_ls_dict[stage][gene]['up']), len(diff_gene_ls_dict[stage][gene]['down']))"
   ]
  },
  {
   "cell_type": "code",
   "execution_count": null,
   "metadata": {},
   "outputs": [],
   "source": []
  },
  {
   "cell_type": "markdown",
   "metadata": {},
   "source": [
    "## 256-cell"
   ]
  },
  {
   "cell_type": "code",
   "execution_count": 139,
   "metadata": {},
   "outputs": [],
   "source": [
    "stage = '256'"
   ]
  },
  {
   "cell_type": "code",
   "execution_count": 140,
   "metadata": {},
   "outputs": [],
   "source": [
    "diff_gene_dict[stage] = {}"
   ]
  },
  {
   "cell_type": "code",
   "execution_count": 141,
   "metadata": {},
   "outputs": [],
   "source": [
    "diff_gene_ls_dict[stage] = {}"
   ]
  },
  {
   "cell_type": "code",
   "execution_count": 142,
   "metadata": {},
   "outputs": [
    {
     "name": "stdout",
     "output_type": "stream",
     "text": [
      "32696\n",
      "164 433\n",
      "38734\n",
      "281 309\n"
     ]
    }
   ],
   "source": [
    "for gene in ['mcm6l', 'npm2a', ] :\n",
    "    diff_gene_dict[stage][gene] = pd.read_table(f'/mnt/Storage/home/wangyiman/maternal_loading/1.private_data/genes4_ko_analysis/RNAseq/diff_byTrans/WT_VS_{gene}_{stage}_ensGene.diff',\n",
    "                                                   comment = '#', header = None, sep = '\\t'\n",
    "                                                  )\n",
    "    diff_gene_dict[stage][gene].columns = ['GeneSymbol','GeneName','GFOLD(0.01)','E-FDR','log2fdc','1stRPKM','2ndRPKM']\n",
    "    diff_gene_dict[stage][gene] = diff_gene_dict[stage][gene].loc[(diff_gene_dict[stage][gene]['1stRPKM'] > 0.58) | (diff_gene_dict[stage][gene]['2ndRPKM'] > 0)]\n",
    "    print(diff_gene_dict[stage][gene].shape[0])\n",
    "    diff_gene_ls_dict[stage][gene] = {}\n",
    "    diff_gene_ls_dict[stage][gene]['up'] = diff_gene_dict[stage][gene].loc[diff_gene_dict[stage][gene]['GFOLD(0.01)'] > 0.58]['GeneSymbol'].str.split(\".\", expand = True)[0].tolist()\n",
    "    diff_gene_ls_dict[stage][gene]['down'] = diff_gene_dict[stage][gene].loc[diff_gene_dict[stage][gene]['GFOLD(0.01)'] < -0.58]['GeneSymbol'].str.split(\".\", expand = True)[0].tolist()\n",
    "    print(len(diff_gene_ls_dict[stage][gene]['up']), len(diff_gene_ls_dict[stage][gene]['down']))"
   ]
  },
  {
   "cell_type": "code",
   "execution_count": null,
   "metadata": {},
   "outputs": [],
   "source": []
  },
  {
   "cell_type": "markdown",
   "metadata": {},
   "source": [
    "## 1k-cell"
   ]
  },
  {
   "cell_type": "code",
   "execution_count": 143,
   "metadata": {},
   "outputs": [],
   "source": [
    "stage = '1k'"
   ]
  },
  {
   "cell_type": "code",
   "execution_count": 144,
   "metadata": {},
   "outputs": [],
   "source": [
    "diff_gene_dict[stage] = {}"
   ]
  },
  {
   "cell_type": "code",
   "execution_count": 145,
   "metadata": {},
   "outputs": [],
   "source": [
    "diff_gene_ls_dict[stage] = {}"
   ]
  },
  {
   "cell_type": "code",
   "execution_count": 146,
   "metadata": {},
   "outputs": [
    {
     "name": "stdout",
     "output_type": "stream",
     "text": [
      "32418\n",
      "1562 770\n",
      "38225\n",
      "260 438\n",
      "41416\n",
      "222 226\n",
      "34916\n",
      "333 427\n"
     ]
    }
   ],
   "source": [
    "for gene in ['mcm3l', 'mcm6l', 'npm2a', 'orc1'] :\n",
    "    diff_gene_dict[stage][gene] = pd.read_table(f'/mnt/Storage/home/wangyiman/maternal_loading/1.private_data/genes4_ko_analysis/RNAseq/diff_byTrans/WT_VS_{gene}_{stage}_ensGene.diff',\n",
    "                                                   comment = '#', header = None, sep = '\\t'\n",
    "                                                  )\n",
    "    diff_gene_dict[stage][gene].columns = ['GeneSymbol','GeneName','GFOLD(0.01)','E-FDR','log2fdc','1stRPKM','2ndRPKM']\n",
    "    diff_gene_dict[stage][gene] = diff_gene_dict[stage][gene].loc[(diff_gene_dict[stage][gene]['1stRPKM'] > 0.58) | (diff_gene_dict[stage][gene]['2ndRPKM'] > 0)]\n",
    "    print(diff_gene_dict[stage][gene].shape[0])\n",
    "    diff_gene_ls_dict[stage][gene] = {}\n",
    "    diff_gene_ls_dict[stage][gene]['up'] = diff_gene_dict[stage][gene].loc[diff_gene_dict[stage][gene]['GFOLD(0.01)'] > 0.58]['GeneSymbol'].str.split(\".\", expand = True)[0].tolist()\n",
    "    diff_gene_ls_dict[stage][gene]['down'] = diff_gene_dict[stage][gene].loc[diff_gene_dict[stage][gene]['GFOLD(0.01)'] < -0.58]['GeneSymbol'].str.split(\".\", expand = True)[0].tolist()\n",
    "    print(len(diff_gene_ls_dict[stage][gene]['up']), len(diff_gene_ls_dict[stage][gene]['down']))"
   ]
  },
  {
   "cell_type": "code",
   "execution_count": null,
   "metadata": {},
   "outputs": [],
   "source": []
  },
  {
   "cell_type": "markdown",
   "metadata": {},
   "source": [
    "## oblong"
   ]
  },
  {
   "cell_type": "code",
   "execution_count": 147,
   "metadata": {},
   "outputs": [],
   "source": [
    "stage = 'oblong'"
   ]
  },
  {
   "cell_type": "code",
   "execution_count": 148,
   "metadata": {},
   "outputs": [],
   "source": [
    "diff_gene_dict[stage] = {}"
   ]
  },
  {
   "cell_type": "code",
   "execution_count": 149,
   "metadata": {},
   "outputs": [],
   "source": [
    "diff_gene_ls_dict[stage] = {}"
   ]
  },
  {
   "cell_type": "code",
   "execution_count": 150,
   "metadata": {},
   "outputs": [
    {
     "name": "stdout",
     "output_type": "stream",
     "text": [
      "34059\n",
      "142 758\n",
      "40434\n",
      "191 416\n"
     ]
    }
   ],
   "source": [
    "for gene in ['mcm6l', 'npm2a', ] :\n",
    "    diff_gene_dict[stage][gene] = pd.read_table(f'/mnt/Storage/home/wangyiman/maternal_loading/1.private_data/genes4_ko_analysis/RNAseq/diff_byTrans/WT_VS_{gene}_{stage}_ensGene.diff',\n",
    "                                                   comment = '#', header = None, sep = '\\t'\n",
    "                                                  )\n",
    "    diff_gene_dict[stage][gene].columns = ['GeneSymbol','GeneName','GFOLD(0.01)','E-FDR','log2fdc','1stRPKM','2ndRPKM']\n",
    "    diff_gene_dict[stage][gene] = diff_gene_dict[stage][gene].loc[(diff_gene_dict[stage][gene]['1stRPKM'] > 0.58) | (diff_gene_dict[stage][gene]['2ndRPKM'] > 0)]\n",
    "    print(diff_gene_dict[stage][gene].shape[0])\n",
    "    diff_gene_ls_dict[stage][gene] = {}\n",
    "    diff_gene_ls_dict[stage][gene]['up'] = diff_gene_dict[stage][gene].loc[diff_gene_dict[stage][gene]['GFOLD(0.01)'] > 0.58]['GeneSymbol'].str.split(\".\", expand = True)[0].tolist()\n",
    "    diff_gene_ls_dict[stage][gene]['down'] = diff_gene_dict[stage][gene].loc[diff_gene_dict[stage][gene]['GFOLD(0.01)'] < -0.58]['GeneSymbol'].str.split(\".\", expand = True)[0].tolist()\n",
    "    print(len(diff_gene_ls_dict[stage][gene]['up']), len(diff_gene_ls_dict[stage][gene]['down']))"
   ]
  },
  {
   "cell_type": "markdown",
   "metadata": {},
   "source": [
    "## 6hpf"
   ]
  },
  {
   "cell_type": "code",
   "execution_count": 151,
   "metadata": {},
   "outputs": [],
   "source": [
    "stage = '6hpf'"
   ]
  },
  {
   "cell_type": "code",
   "execution_count": 152,
   "metadata": {},
   "outputs": [],
   "source": [
    "diff_gene_dict[stage] = {}"
   ]
  },
  {
   "cell_type": "code",
   "execution_count": 153,
   "metadata": {},
   "outputs": [],
   "source": [
    "diff_gene_ls_dict[stage] = {}"
   ]
  },
  {
   "cell_type": "code",
   "execution_count": 154,
   "metadata": {},
   "outputs": [
    {
     "name": "stdout",
     "output_type": "stream",
     "text": [
      "32881\n",
      "9759 7349\n"
     ]
    }
   ],
   "source": [
    "for gene in ['mcm6l', ] :\n",
    "    diff_gene_dict[stage][gene] = pd.read_table(f'/mnt/Storage/home/wangyiman/maternal_loading/1.private_data/genes4_ko_analysis/RNAseq/diff_byTrans/WT_VS_{gene}_{stage}_ensGene.diff',\n",
    "                                                   comment = '#', header = None, sep = '\\t'\n",
    "                                                  )\n",
    "    diff_gene_dict[stage][gene].columns = ['GeneSymbol','GeneName','GFOLD(0.01)','E-FDR','log2fdc','1stRPKM','2ndRPKM']\n",
    "    diff_gene_dict[stage][gene] = diff_gene_dict[stage][gene].loc[(diff_gene_dict[stage][gene]['1stRPKM'] > 0.58) | (diff_gene_dict[stage][gene]['2ndRPKM'] > 0)]\n",
    "    print(diff_gene_dict[stage][gene].shape[0])\n",
    "    diff_gene_ls_dict[stage][gene] = {}\n",
    "    diff_gene_ls_dict[stage][gene]['up'] = diff_gene_dict[stage][gene].loc[diff_gene_dict[stage][gene]['GFOLD(0.01)'] > 0.58]['GeneSymbol'].str.split(\".\", expand = True)[0].tolist()\n",
    "    diff_gene_ls_dict[stage][gene]['down'] = diff_gene_dict[stage][gene].loc[diff_gene_dict[stage][gene]['GFOLD(0.01)'] < -0.58]['GeneSymbol'].str.split(\".\", expand = True)[0].tolist()\n",
    "    print(len(diff_gene_ls_dict[stage][gene]['up']), len(diff_gene_ls_dict[stage][gene]['down']))"
   ]
  },
  {
   "cell_type": "code",
   "execution_count": 154,
   "metadata": {},
   "outputs": [
    {
     "name": "stdout",
     "output_type": "stream",
     "text": [
      "32881\n",
      "9759 7349\n"
     ]
    }
   ],
   "source": [
    "for gene in ['mcm6l', 'npm2a', 'mcm6l'] :\n",
    "    diff_gene_dict[stage][gene] = pd.read_table(f'/mnt/Storage/home/wangyiman/maternal_loading/1.private_data/genes4_ko_analysis/RNAseq/diff_byTrans/WT_VS_{gene}_{stage}_ensGene.diff',\n",
    "                                                   comment = '#', header = None, sep = '\\t'\n",
    "                                                  )\n",
    "    diff_gene_dict[stage][gene].columns = ['GeneSymbol','GeneName','GFOLD(0.01)','E-FDR','log2fdc','1stRPKM','2ndRPKM']\n",
    "    diff_gene_dict[stage][gene] = diff_gene_dict[stage][gene].loc[(diff_gene_dict[stage][gene]['1stRPKM'] > 0.58) | (diff_gene_dict[stage][gene]['2ndRPKM'] > 0)]\n",
    "    print(diff_gene_dict[stage][gene].shape[0])\n",
    "    diff_gene_ls_dict[stage][gene] = {}\n",
    "    diff_gene_ls_dict[stage][gene]['up'] = diff_gene_dict[stage][gene].loc[diff_gene_dict[stage][gene]['GFOLD(0.01)'] > 0.58]['GeneSymbol'].str.split(\".\", expand = True)[0].tolist()\n",
    "    diff_gene_ls_dict[stage][gene]['down'] = diff_gene_dict[stage][gene].loc[diff_gene_dict[stage][gene]['GFOLD(0.01)'] < -0.58]['GeneSymbol'].str.split(\".\", expand = True)[0].tolist()\n",
    "    print(len(diff_gene_ls_dict[stage][gene]['up']), len(diff_gene_ls_dict[stage][gene]['down']))"
   ]
  },
  {
   "cell_type": "markdown",
   "metadata": {},
   "source": [
    "# regulated-genes' promoter BED"
   ]
  },
  {
   "cell_type": "code",
   "execution_count": 172,
   "metadata": {},
   "outputs": [
    {
     "data": {
      "text/html": [
       "<div>\n",
       "<style scoped>\n",
       "    .dataframe tbody tr th:only-of-type {\n",
       "        vertical-align: middle;\n",
       "    }\n",
       "\n",
       "    .dataframe tbody tr th {\n",
       "        vertical-align: top;\n",
       "    }\n",
       "\n",
       "    .dataframe thead th {\n",
       "        text-align: right;\n",
       "    }\n",
       "</style>\n",
       "<table border=\"1\" class=\"dataframe\">\n",
       "  <thead>\n",
       "    <tr style=\"text-align: right;\">\n",
       "      <th></th>\n",
       "      <th>chr</th>\n",
       "      <th>start</th>\n",
       "      <th>end</th>\n",
       "      <th>transcript_id</th>\n",
       "      <th>score</th>\n",
       "      <th>strand</th>\n",
       "      <th>transcript_id_clean</th>\n",
       "    </tr>\n",
       "  </thead>\n",
       "  <tbody>\n",
       "    <tr>\n",
       "      <th>0</th>\n",
       "      <td>chr1</td>\n",
       "      <td>10026</td>\n",
       "      <td>14026</td>\n",
       "      <td>ENSDART00000164359.1</td>\n",
       "      <td>0</td>\n",
       "      <td>-</td>\n",
       "      <td>ENSDART00000164359</td>\n",
       "    </tr>\n",
       "    <tr>\n",
       "      <th>1</th>\n",
       "      <td>chr1</td>\n",
       "      <td>5334</td>\n",
       "      <td>9334</td>\n",
       "      <td>ENSDART00000158290.1</td>\n",
       "      <td>0</td>\n",
       "      <td>-</td>\n",
       "      <td>ENSDART00000158290</td>\n",
       "    </tr>\n",
       "    <tr>\n",
       "      <th>2</th>\n",
       "      <td>chr1</td>\n",
       "      <td>7918</td>\n",
       "      <td>11918</td>\n",
       "      <td>ENSDART00000157701.1</td>\n",
       "      <td>0</td>\n",
       "      <td>-</td>\n",
       "      <td>ENSDART00000157701</td>\n",
       "    </tr>\n",
       "    <tr>\n",
       "      <th>3</th>\n",
       "      <td>chr1</td>\n",
       "      <td>9724</td>\n",
       "      <td>13724</td>\n",
       "      <td>ENSDART00000167898.1</td>\n",
       "      <td>0</td>\n",
       "      <td>-</td>\n",
       "      <td>ENSDART00000167898</td>\n",
       "    </tr>\n",
       "    <tr>\n",
       "      <th>4</th>\n",
       "      <td>chr1</td>\n",
       "      <td>9821</td>\n",
       "      <td>13821</td>\n",
       "      <td>ENSDART00000166393.1</td>\n",
       "      <td>0</td>\n",
       "      <td>+</td>\n",
       "      <td>ENSDART00000166393</td>\n",
       "    </tr>\n",
       "    <tr>\n",
       "      <th>...</th>\n",
       "      <td>...</td>\n",
       "      <td>...</td>\n",
       "      <td>...</td>\n",
       "      <td>...</td>\n",
       "      <td>...</td>\n",
       "      <td>...</td>\n",
       "      <td>...</td>\n",
       "    </tr>\n",
       "    <tr>\n",
       "      <th>58201</th>\n",
       "      <td>chr4</td>\n",
       "      <td>74090372</td>\n",
       "      <td>74094372</td>\n",
       "      <td>ENSDART00000174118.2</td>\n",
       "      <td>0</td>\n",
       "      <td>-</td>\n",
       "      <td>ENSDART00000174118</td>\n",
       "    </tr>\n",
       "    <tr>\n",
       "      <th>58202</th>\n",
       "      <td>chr4</td>\n",
       "      <td>74074507</td>\n",
       "      <td>74078507</td>\n",
       "      <td>ENSDART00000174237.2</td>\n",
       "      <td>0</td>\n",
       "      <td>-</td>\n",
       "      <td>ENSDART00000174237</td>\n",
       "    </tr>\n",
       "    <tr>\n",
       "      <th>58203</th>\n",
       "      <td>chr4</td>\n",
       "      <td>74052685</td>\n",
       "      <td>74056685</td>\n",
       "      <td>ENSDART00000159559.2</td>\n",
       "      <td>0</td>\n",
       "      <td>+</td>\n",
       "      <td>ENSDART00000159559</td>\n",
       "    </tr>\n",
       "    <tr>\n",
       "      <th>58204</th>\n",
       "      <td>chr4</td>\n",
       "      <td>74052685</td>\n",
       "      <td>74056685</td>\n",
       "      <td>ENSDART00000162341.2</td>\n",
       "      <td>0</td>\n",
       "      <td>+</td>\n",
       "      <td>ENSDART00000162341</td>\n",
       "    </tr>\n",
       "    <tr>\n",
       "      <th>58205</th>\n",
       "      <td>chr4</td>\n",
       "      <td>74064396</td>\n",
       "      <td>74068396</td>\n",
       "      <td>ENSDART00000168273.2</td>\n",
       "      <td>0</td>\n",
       "      <td>+</td>\n",
       "      <td>ENSDART00000168273</td>\n",
       "    </tr>\n",
       "  </tbody>\n",
       "</table>\n",
       "<p>58206 rows × 7 columns</p>\n",
       "</div>"
      ],
      "text/plain": [
       "        chr     start       end         transcript_id  score strand  \\\n",
       "0      chr1     10026     14026  ENSDART00000164359.1      0      -   \n",
       "1      chr1      5334      9334  ENSDART00000158290.1      0      -   \n",
       "2      chr1      7918     11918  ENSDART00000157701.1      0      -   \n",
       "3      chr1      9724     13724  ENSDART00000167898.1      0      -   \n",
       "4      chr1      9821     13821  ENSDART00000166393.1      0      +   \n",
       "...     ...       ...       ...                   ...    ...    ...   \n",
       "58201  chr4  74090372  74094372  ENSDART00000174118.2      0      -   \n",
       "58202  chr4  74074507  74078507  ENSDART00000174237.2      0      -   \n",
       "58203  chr4  74052685  74056685  ENSDART00000159559.2      0      +   \n",
       "58204  chr4  74052685  74056685  ENSDART00000162341.2      0      +   \n",
       "58205  chr4  74064396  74068396  ENSDART00000168273.2      0      +   \n",
       "\n",
       "      transcript_id_clean  \n",
       "0      ENSDART00000164359  \n",
       "1      ENSDART00000158290  \n",
       "2      ENSDART00000157701  \n",
       "3      ENSDART00000167898  \n",
       "4      ENSDART00000166393  \n",
       "...                   ...  \n",
       "58201  ENSDART00000174118  \n",
       "58202  ENSDART00000174237  \n",
       "58203  ENSDART00000159559  \n",
       "58204  ENSDART00000162341  \n",
       "58205  ENSDART00000168273  \n",
       "\n",
       "[58206 rows x 7 columns]"
      ]
     },
     "execution_count": 172,
     "metadata": {},
     "output_type": "execute_result"
    }
   ],
   "source": [
    "promoter_bed_df = pd.read_table('/mnt/Storage/home/wangyiman/source/bySpecies/danRer11_2/ensGene/danRer11_2.ensGene.promoter.bed', \n",
    "                                sep = \"\\t\", header = None\n",
    "                               )\n",
    "promoter_bed_df.columns = ['chr', 'start', 'end', 'transcript_id', 'score', 'strand']\n",
    "promoter_bed_df['transcript_id_clean'] = promoter_bed_df['transcript_id'].str.split('.', expand = True)[0]\n",
    "promoter_bed_df['start'] = promoter_bed_df['start'].astype(int)\n",
    "promoter_bed_df['end'] = promoter_bed_df['end'].astype(int)\n",
    "promoter_bed_df"
   ]
  },
  {
   "cell_type": "code",
   "execution_count": 181,
   "metadata": {},
   "outputs": [
    {
     "data": {
      "text/plain": [
       "1000"
      ]
     },
     "execution_count": 181,
     "metadata": {},
     "output_type": "execute_result"
    }
   ],
   "source": [
    "len(unchanged_1000)"
   ]
  },
  {
   "cell_type": "code",
   "execution_count": 184,
   "metadata": {},
   "outputs": [
    {
     "data": {
      "text/plain": [
       "985"
      ]
     },
     "execution_count": 184,
     "metadata": {},
     "output_type": "execute_result"
    }
   ],
   "source": [
    "len(set(unchanged_1000))"
   ]
  },
  {
   "cell_type": "code",
   "execution_count": 186,
   "metadata": {},
   "outputs": [],
   "source": [
    "for stage in diff_gene_ls_dict.keys() :\n",
    "    for gene in diff_gene_ls_dict[stage].keys() :\n",
    "        regulated_ls = []\n",
    "        for regulate in diff_gene_ls_dict[stage][gene].keys() :\n",
    "            trans_ls = diff_gene_ls_dict[stage][gene][regulate]\n",
    "            promoter_bed_df.loc[promoter_bed_df['transcript_id_clean'].isin(trans_ls)].to_csv(f'/mnt/Storage/home/wangyiman/maternal_loading/1.private_data/genes4_ko_analysis/RNAseq/analysis/{gene}_{stage}_{regulate}.promoter.bed', \n",
    "                                                                                        sep = \"\\t\", header = False, index = False\n",
    "                                                                                       )\n",
    "            regulated_ls += trans_ls\n",
    "        unchanged = list(set(promoter_bed_df['transcript_id_clean'].tolist()) - set(regulated_ls))\n",
    "        unchanged_1000 = np.random.choice(unchanged, 1000, replace=False)\n",
    "        promoter_bed_df.loc[promoter_bed_df['transcript_id_clean'].isin(unchanged_1000)].to_csv(f'/mnt/Storage/home/wangyiman/maternal_loading/1.private_data/genes4_ko_analysis/RNAseq/analysis/{gene}_{stage}_unchanged1000.promoter.bed', \n",
    "                                                                                        sep = \"\\t\", header = False, index = False\n",
    "                                                                                       )\n",
    "        "
   ]
  },
  {
   "cell_type": "code",
   "execution_count": 187,
   "metadata": {},
   "outputs": [
    {
     "name": "stdout",
     "output_type": "stream",
     "text": [
      "    757 mcm3l_1k_down.promoter.bed\n",
      "   1000 mcm3l_1k_unchanged1000.promoter.bed\n",
      "   1504 mcm3l_1k_up.promoter.bed\n",
      "    426 mcm6l_1k_down.promoter.bed\n",
      "   1000 mcm6l_1k_unchanged1000.promoter.bed\n",
      "    260 mcm6l_1k_up.promoter.bed\n",
      "    430 mcm6l_256_down.promoter.bed\n",
      "   1000 mcm6l_256_unchanged1000.promoter.bed\n",
      "    163 mcm6l_256_up.promoter.bed\n",
      "    383 mcm6l_64_down.promoter.bed\n",
      "   1000 mcm6l_64_unchanged1000.promoter.bed\n",
      "    116 mcm6l_64_up.promoter.bed\n",
      "   7244 mcm6l_6hpf_down.promoter.bed\n",
      "   1000 mcm6l_6hpf_unchanged1000.promoter.bed\n",
      "   9751 mcm6l_6hpf_up.promoter.bed\n",
      "    724 mcm6l_oblong_down.promoter.bed\n",
      "   1000 mcm6l_oblong_unchanged1000.promoter.bed\n",
      "    141 mcm6l_oblong_up.promoter.bed\n",
      "    183 mcm6l_oocyte_down.promoter.bed\n",
      "   1000 mcm6l_oocyte_unchanged1000.promoter.bed\n",
      "    257 mcm6l_oocyte_up.promoter.bed\n",
      "    224 npm2a_1k_down.promoter.bed\n",
      "   1000 npm2a_1k_unchanged1000.promoter.bed\n",
      "    220 npm2a_1k_up.promoter.bed\n",
      "    305 npm2a_256_down.promoter.bed\n",
      "   1000 npm2a_256_unchanged1000.promoter.bed\n",
      "    278 npm2a_256_up.promoter.bed\n",
      "    297 npm2a_64_down.promoter.bed\n",
      "   1000 npm2a_64_unchanged1000.promoter.bed\n",
      "    282 npm2a_64_up.promoter.bed\n",
      "    399 npm2a_oblong_down.promoter.bed\n",
      "   1000 npm2a_oblong_unchanged1000.promoter.bed\n",
      "    190 npm2a_oblong_up.promoter.bed\n",
      "    175 npm2a_oocyte_down.promoter.bed\n",
      "   1000 npm2a_oocyte_unchanged1000.promoter.bed\n",
      "    239 npm2a_oocyte_up.promoter.bed\n",
      "    415 orc1_1k_down.promoter.bed\n",
      "   1000 orc1_1k_unchanged1000.promoter.bed\n",
      "    332 orc1_1k_up.promoter.bed\n",
      "    150 orc1_oocyte_down.promoter.bed\n",
      "   1000 orc1_oocyte_unchanged1000.promoter.bed\n",
      "    148 orc1_oocyte_up.promoter.bed\n",
      "  39993 total\n"
     ]
    }
   ],
   "source": [
    "%%bash\n",
    "cd ~/maternal_loading/1.private_data/genes4_ko_analysis/RNAseq/analysis/\n",
    "wc -l *.promoter.bed"
   ]
  },
  {
   "cell_type": "markdown",
   "metadata": {},
   "source": [
    "# query"
   ]
  },
  {
   "cell_type": "code",
   "execution_count": 101,
   "metadata": {},
   "outputs": [],
   "source": [
    "query = {}\n",
    "for stage in diff_gene_ls_dict.keys() :\n",
    "    for gene in diff_gene_ls_dict[stage].keys() :\n",
    "        for regulate in diff_gene_ls_dict[stage][gene].keys() :\n",
    "            query[f\"{stage}_{gene}_{regulate}\"] = diff_gene_ls_dict[stage][gene][regulate]\n"
   ]
  },
  {
   "cell_type": "code",
   "execution_count": 102,
   "metadata": {},
   "outputs": [
    {
     "data": {
      "text/plain": [
       "dict_keys(['oocyte_mcm6l_up', 'oocyte_mcm6l_down', 'oocyte_npm2a_up', 'oocyte_npm2a_down', 'oocyte_orc1_up', 'oocyte_orc1_down', '64_mcm6l_up', '64_mcm6l_down', '64_npm2a_up', '64_npm2a_down', '256_mcm6l_up', '256_mcm6l_down', '256_npm2a_up', '256_npm2a_down', '1k_mcm3l_up', '1k_mcm3l_down', '1k_mcm6l_up', '1k_mcm6l_down', '1k_npm2a_up', '1k_npm2a_down', '1k_orc1_up', '1k_orc1_down', 'oblong_mcm6l_up', 'oblong_mcm6l_down', 'oblong_npm2a_up', 'oblong_npm2a_down'])"
      ]
     },
     "execution_count": 102,
     "metadata": {},
     "output_type": "execute_result"
    }
   ],
   "source": [
    "query.keys()"
   ]
  },
  {
   "cell_type": "code",
   "execution_count": 103,
   "metadata": {
    "ExecuteTime": {
     "end_time": "2021-04-08T08:15:28.760086Z",
     "start_time": "2021-04-08T08:13:23.527293Z"
    }
   },
   "outputs": [],
   "source": [
    "from gprofiler import GProfiler\n",
    "\n",
    "gp = GProfiler(return_dataframe=True)\n",
    "GO_output = gp.profile(\n",
    "    organism='drerio',\n",
    "    sources=['GO:CC','GO:MF','GO:BP'],\n",
    "    query=query,\n",
    "    all_results=True,\n",
    "    no_evidences=False,\n",
    ")\n"
   ]
  },
  {
   "cell_type": "code",
   "execution_count": 104,
   "metadata": {
    "ExecuteTime": {
     "end_time": "2021-04-08T08:12:50.806679Z",
     "start_time": "2021-04-08T08:12:50.800150Z"
    }
   },
   "outputs": [
    {
     "name": "stdout",
     "output_type": "stream",
     "text": [
      "Help on method profile in module gprofiler.gprofiler:\n",
      "\n",
      "profile(query: Union[str, List[str], Dict[str, List[str]]], organism: str = 'hsapiens', sources: List[str] = (), user_threshold: float = 0.05, all_results: bool = False, ordered: bool = False, no_evidences: bool = True, combined: bool = False, measure_underrepresentation: bool = False, no_iea: bool = False, domain_scope: str = 'annotated', numeric_namespace: str = '', significance_threshold_method: str = 'g_SCS', background: str = None) -> List[Dict[str, Any]] method of gprofiler.gprofiler.GProfiler instance\n",
      "    performs functional profiling of gene lists using various kinds of biological evidence.\n",
      "    The tool performs statistical enrichment analysis to find over-representation of information from Gene Ontology terms,\n",
      "    biological pathways, regulatory DNA elements, human disease gene annotations, and protein-protein interaction networks.\n",
      "    \n",
      "    \n",
      "    \n",
      "    :param query: list of genes to profile. For running multiple queries at once, accepts a dictionary of lists as well.\n",
      "    :param organism: Organism id for profiling. For full list see https://biit.cs.ut.ee/gprofiler/page/organism-list\n",
      "    :param sources: List of annotation sources to include in analysis. Defaults to all known.\n",
      "    :param user_threshold: Significance threshold for analysis.\n",
      "    :param all_results: If True, return all analysis results regardless of statistical significance.\n",
      "    :param ordered: If True, considers the order of input query to be significant. See https://biit.cs.ut.ee/gprofiler/page/docs#ordered_gene_lists\n",
      "    :param no_evidences: If False, the results include lists of intersections and evidences for the intersections\n",
      "    :param combined: If True, performs all queries and combines the results into a single table. NB! changes the output format.\n",
      "    :param measure_underrepresentation: if True, performs test for significantly under-represented functional terms.\n",
      "    :param no_iea: If True, excludes electronically annotated Gene Ontology terms before analysis.\n",
      "    :param domain_scope: \"known\" for using all known genes as background, \"annotated\" to use all genes annotated for particular datasource.\n",
      "    :param numeric_namespace: name for the numeric namespace to use if there are numeric values in the query.\n",
      "    :param significance_threshold_method: method for multiple correction. \"g_SCS\"|\"bonferroni\"|\"fdr\". https://biit.cs.ut.ee/gprofiler/page/docs#significance_threhshold\n",
      "    :param background: List of genes to use as a statistical background.\n",
      "    :return:\n",
      "\n"
     ]
    }
   ],
   "source": [
    "help(gp.profile)"
   ]
  },
  {
   "cell_type": "code",
   "execution_count": 106,
   "metadata": {
    "ExecuteTime": {
     "end_time": "2021-04-08T08:17:18.427303Z",
     "start_time": "2021-04-08T08:17:18.229013Z"
    }
   },
   "outputs": [
    {
     "data": {
      "text/html": [
       "<div>\n",
       "<style scoped>\n",
       "    .dataframe tbody tr th:only-of-type {\n",
       "        vertical-align: middle;\n",
       "    }\n",
       "\n",
       "    .dataframe tbody tr th {\n",
       "        vertical-align: top;\n",
       "    }\n",
       "\n",
       "    .dataframe thead th {\n",
       "        text-align: right;\n",
       "    }\n",
       "</style>\n",
       "<table border=\"1\" class=\"dataframe\">\n",
       "  <thead>\n",
       "    <tr style=\"text-align: right;\">\n",
       "      <th></th>\n",
       "      <th>source</th>\n",
       "      <th>native</th>\n",
       "      <th>name</th>\n",
       "      <th>p_value</th>\n",
       "      <th>significant</th>\n",
       "      <th>description</th>\n",
       "      <th>term_size</th>\n",
       "      <th>query_size</th>\n",
       "      <th>intersection_size</th>\n",
       "      <th>effective_domain_size</th>\n",
       "      <th>precision</th>\n",
       "      <th>recall</th>\n",
       "      <th>query</th>\n",
       "      <th>parents</th>\n",
       "      <th>intersections</th>\n",
       "      <th>evidences</th>\n",
       "      <th>enrichment</th>\n",
       "      <th>-log10 P-value</th>\n",
       "    </tr>\n",
       "  </thead>\n",
       "  <tbody>\n",
       "    <tr>\n",
       "      <th>0</th>\n",
       "      <td>GO:MF</td>\n",
       "      <td>GO:0000977</td>\n",
       "      <td>RNA polymerase II transcription regulatory reg...</td>\n",
       "      <td>2.607701e-21</td>\n",
       "      <td>True</td>\n",
       "      <td>\"Binding to a specific sequence of DNA that is...</td>\n",
       "      <td>1443</td>\n",
       "      <td>510</td>\n",
       "      <td>95</td>\n",
       "      <td>24485</td>\n",
       "      <td>0.186275</td>\n",
       "      <td>0.065835</td>\n",
       "      <td>oblong_mcm6l_down</td>\n",
       "      <td>[GO:0000976]</td>\n",
       "      <td>[ENSDARG00000015906, ENSDARG00000007329, ENSDA...</td>\n",
       "      <td>[[IBA], [IBA], [IBA], [IBA], [IBA], [IBA], [IB...</td>\n",
       "      <td>3.160729</td>\n",
       "      <td>20.583742</td>\n",
       "    </tr>\n",
       "    <tr>\n",
       "      <th>1</th>\n",
       "      <td>GO:MF</td>\n",
       "      <td>GO:0003700</td>\n",
       "      <td>DNA-binding transcription factor activity</td>\n",
       "      <td>1.299048e-20</td>\n",
       "      <td>True</td>\n",
       "      <td>\"A transcription regulator activity that modul...</td>\n",
       "      <td>1843</td>\n",
       "      <td>510</td>\n",
       "      <td>108</td>\n",
       "      <td>24485</td>\n",
       "      <td>0.211765</td>\n",
       "      <td>0.058600</td>\n",
       "      <td>oblong_mcm6l_down</td>\n",
       "      <td>[GO:0140110]</td>\n",
       "      <td>[ENSDARG00000015906, ENSDARG00000007329, ENSDA...</td>\n",
       "      <td>[[IBA], [IBA, IEA], [IBA], [IBA, IEA], [IEA], ...</td>\n",
       "      <td>2.813380</td>\n",
       "      <td>19.886375</td>\n",
       "    </tr>\n",
       "    <tr>\n",
       "      <th>2</th>\n",
       "      <td>GO:MF</td>\n",
       "      <td>GO:0000976</td>\n",
       "      <td>transcription cis-regulatory region binding</td>\n",
       "      <td>2.613028e-20</td>\n",
       "      <td>True</td>\n",
       "      <td>\"Binding to a specific sequence of DNA that is...</td>\n",
       "      <td>1490</td>\n",
       "      <td>510</td>\n",
       "      <td>95</td>\n",
       "      <td>24485</td>\n",
       "      <td>0.186275</td>\n",
       "      <td>0.063758</td>\n",
       "      <td>oblong_mcm6l_down</td>\n",
       "      <td>[GO:0001067, GO:1990837]</td>\n",
       "      <td>[ENSDARG00000015906, ENSDARG00000007329, ENSDA...</td>\n",
       "      <td>[[IBA], [IDA, IBA], [IBA], [IBA], [IBA], [IBA]...</td>\n",
       "      <td>3.061028</td>\n",
       "      <td>19.582856</td>\n",
       "    </tr>\n",
       "    <tr>\n",
       "      <th>3</th>\n",
       "      <td>GO:MF</td>\n",
       "      <td>GO:0001067</td>\n",
       "      <td>transcription regulatory region nucleic acid b...</td>\n",
       "      <td>2.613028e-20</td>\n",
       "      <td>True</td>\n",
       "      <td>\"Binding to a nucleic acid region that regulat...</td>\n",
       "      <td>1490</td>\n",
       "      <td>510</td>\n",
       "      <td>95</td>\n",
       "      <td>24485</td>\n",
       "      <td>0.186275</td>\n",
       "      <td>0.063758</td>\n",
       "      <td>oblong_mcm6l_down</td>\n",
       "      <td>[GO:0003676]</td>\n",
       "      <td>[ENSDARG00000015906, ENSDARG00000007329, ENSDA...</td>\n",
       "      <td>[[IBA], [IDA, IBA], [IBA], [IBA], [IBA], [IBA]...</td>\n",
       "      <td>3.061028</td>\n",
       "      <td>19.582856</td>\n",
       "    </tr>\n",
       "    <tr>\n",
       "      <th>4</th>\n",
       "      <td>GO:MF</td>\n",
       "      <td>GO:1990837</td>\n",
       "      <td>sequence-specific double-stranded DNA binding</td>\n",
       "      <td>8.144942e-20</td>\n",
       "      <td>True</td>\n",
       "      <td>\"Binding to double-stranded DNA of a specific ...</td>\n",
       "      <td>1514</td>\n",
       "      <td>510</td>\n",
       "      <td>95</td>\n",
       "      <td>24485</td>\n",
       "      <td>0.186275</td>\n",
       "      <td>0.062748</td>\n",
       "      <td>oblong_mcm6l_down</td>\n",
       "      <td>[GO:0003690, GO:0043565]</td>\n",
       "      <td>[ENSDARG00000015906, ENSDARG00000007329, ENSDA...</td>\n",
       "      <td>[[IBA], [IDA, IBA], [IBA], [IBA], [IBA], [IBA]...</td>\n",
       "      <td>3.012504</td>\n",
       "      <td>19.089112</td>\n",
       "    </tr>\n",
       "  </tbody>\n",
       "</table>\n",
       "</div>"
      ],
      "text/plain": [
       "  source      native                                               name  \\\n",
       "0  GO:MF  GO:0000977  RNA polymerase II transcription regulatory reg...   \n",
       "1  GO:MF  GO:0003700          DNA-binding transcription factor activity   \n",
       "2  GO:MF  GO:0000976        transcription cis-regulatory region binding   \n",
       "3  GO:MF  GO:0001067  transcription regulatory region nucleic acid b...   \n",
       "4  GO:MF  GO:1990837      sequence-specific double-stranded DNA binding   \n",
       "\n",
       "        p_value  significant  \\\n",
       "0  2.607701e-21         True   \n",
       "1  1.299048e-20         True   \n",
       "2  2.613028e-20         True   \n",
       "3  2.613028e-20         True   \n",
       "4  8.144942e-20         True   \n",
       "\n",
       "                                         description  term_size  query_size  \\\n",
       "0  \"Binding to a specific sequence of DNA that is...       1443         510   \n",
       "1  \"A transcription regulator activity that modul...       1843         510   \n",
       "2  \"Binding to a specific sequence of DNA that is...       1490         510   \n",
       "3  \"Binding to a nucleic acid region that regulat...       1490         510   \n",
       "4  \"Binding to double-stranded DNA of a specific ...       1514         510   \n",
       "\n",
       "   intersection_size  effective_domain_size  precision    recall  \\\n",
       "0                 95                  24485   0.186275  0.065835   \n",
       "1                108                  24485   0.211765  0.058600   \n",
       "2                 95                  24485   0.186275  0.063758   \n",
       "3                 95                  24485   0.186275  0.063758   \n",
       "4                 95                  24485   0.186275  0.062748   \n",
       "\n",
       "               query                   parents  \\\n",
       "0  oblong_mcm6l_down              [GO:0000976]   \n",
       "1  oblong_mcm6l_down              [GO:0140110]   \n",
       "2  oblong_mcm6l_down  [GO:0001067, GO:1990837]   \n",
       "3  oblong_mcm6l_down              [GO:0003676]   \n",
       "4  oblong_mcm6l_down  [GO:0003690, GO:0043565]   \n",
       "\n",
       "                                       intersections  \\\n",
       "0  [ENSDARG00000015906, ENSDARG00000007329, ENSDA...   \n",
       "1  [ENSDARG00000015906, ENSDARG00000007329, ENSDA...   \n",
       "2  [ENSDARG00000015906, ENSDARG00000007329, ENSDA...   \n",
       "3  [ENSDARG00000015906, ENSDARG00000007329, ENSDA...   \n",
       "4  [ENSDARG00000015906, ENSDARG00000007329, ENSDA...   \n",
       "\n",
       "                                           evidences  enrichment  \\\n",
       "0  [[IBA], [IBA], [IBA], [IBA], [IBA], [IBA], [IB...    3.160729   \n",
       "1  [[IBA], [IBA, IEA], [IBA], [IBA, IEA], [IEA], ...    2.813380   \n",
       "2  [[IBA], [IDA, IBA], [IBA], [IBA], [IBA], [IBA]...    3.061028   \n",
       "3  [[IBA], [IDA, IBA], [IBA], [IBA], [IBA], [IBA]...    3.061028   \n",
       "4  [[IBA], [IDA, IBA], [IBA], [IBA], [IBA], [IBA]...    3.012504   \n",
       "\n",
       "   -log10 P-value  \n",
       "0       20.583742  \n",
       "1       19.886375  \n",
       "2       19.582856  \n",
       "3       19.582856  \n",
       "4       19.089112  "
      ]
     },
     "execution_count": 106,
     "metadata": {},
     "output_type": "execute_result"
    }
   ],
   "source": [
    "GO_output['enrichment'] = GO_output['intersection_size'] / GO_output['query_size'] / (GO_output['term_size'] / GO_output['effective_domain_size'])\n",
    "GO_output['-log10 P-value'] = -np.log10(GO_output['p_value'])\n",
    "GO_output.head()\n"
   ]
  },
  {
   "cell_type": "code",
   "execution_count": 175,
   "metadata": {},
   "outputs": [],
   "source": [
    "GO_output_filtered = GO_output.loc[(GO_output['term_size'] > 10) & (GO_output['term_size'] < 1000) & (GO_output['enrichment'] >= 0) & (GO_output['-log10 P-value'] > 1.3)]"
   ]
  },
  {
   "cell_type": "code",
   "execution_count": 178,
   "metadata": {},
   "outputs": [
    {
     "name": "stdout",
     "output_type": "stream",
     "text": [
      "0 oocyte_mcm6l_up\n",
      "0 oocyte_mcm6l_down\n",
      "0 oocyte_npm2a_up\n",
      "0 oocyte_npm2a_down\n",
      "0 oocyte_orc1_up\n",
      "0 oocyte_orc1_down\n",
      "0 64_mcm6l_up\n",
      "0 64_mcm6l_down\n",
      "1 64_npm2a_up\n",
      "0 64_npm2a_down\n",
      "0 256_mcm6l_up\n",
      "3 256_mcm6l_down\n",
      "1 256_npm2a_up\n",
      "3 256_npm2a_down\n",
      "32 1k_mcm3l_up\n",
      "4 1k_mcm3l_down\n",
      "3 1k_mcm6l_up\n",
      "13 1k_mcm6l_down\n",
      "5 1k_npm2a_up\n",
      "0 1k_npm2a_down\n",
      "5 1k_orc1_up\n",
      "3 1k_orc1_down\n",
      "0 oblong_mcm6l_up\n",
      "68 oblong_mcm6l_down\n",
      "0 oblong_npm2a_up\n",
      "1 oblong_npm2a_down\n"
     ]
    }
   ],
   "source": [
    "for k in query.keys() :\n",
    "    print(GO_output_filtered.loc[GO_output_filtered['query'] == k].shape[0], k)"
   ]
  },
  {
   "cell_type": "markdown",
   "metadata": {},
   "source": [
    "# dot plot"
   ]
  },
  {
   "cell_type": "markdown",
   "metadata": {},
   "source": [
    "## functions"
   ]
  },
  {
   "cell_type": "code",
   "execution_count": 223,
   "metadata": {
    "ExecuteTime": {
     "end_time": "2021-04-08T07:13:19.079239Z",
     "start_time": "2021-04-08T07:13:19.058531Z"
    }
   },
   "outputs": [],
   "source": [
    "def linked(gene_list1, gene_list2, threshold=0.7):\n",
    "    return True if len(set(gene_list1) & set(gene_list2)) / len(\n",
    "        set(gene_list1) | set(gene_list2)) > threshold else False\n",
    "\n",
    "\n",
    "def term_merge(GO_results,\n",
    "               query_name,\n",
    "               index,\n",
    "               selected_term_index,\n",
    "               threshold={\n",
    "                   'merge': 0.6,\n",
    "                   'term_size': (15, 500),\n",
    "                   'p_value': 0.001\n",
    "               }):\n",
    "    current_selected_term_index = set([index])\n",
    "    current_index = [index]\n",
    "    next_index = []\n",
    "    _round = 0\n",
    "    while current_index:\n",
    "        _round += 1\n",
    "#         print(f'round: {_round}, term size: {len(current_selected_term_index)}, next index: {current_index}')\n",
    "        for i in GO_results.index:\n",
    "            if i in selected_term_index or i in current_selected_term_index or GO_results.loc[\n",
    "                    i, 'query'] != query_name or GO_results.loc[\n",
    "                        i, 'term_size'] < threshold['term_size'][\n",
    "                            0] or GO_results.loc[i, 'term_size'] > threshold[\n",
    "                                'term_size'][1]:\n",
    "                continue\n",
    "            if linked(GO_results.loc[index, 'intersections'],\n",
    "                      GO_results.loc[i, 'intersections'],\n",
    "                      threshold=threshold['merge']):\n",
    "                current_selected_term_index.add(i)\n",
    "                next_index.append(i)\n",
    "        current_index, next_index = next_index[:], []\n",
    "    return current_selected_term_index\n",
    "\n",
    "\n",
    "def single_query_cluster_gen(GO_results,\n",
    "                             query_name,\n",
    "                             threshold={\n",
    "                                 'merge': 0.6,\n",
    "                                 'term_size': (15, 500),\n",
    "                                 'p_value': 0.001\n",
    "                             }):\n",
    "    '''\n",
    "    return: gen(DataFrame)\n",
    "    '''\n",
    "    filteres = [\n",
    "        True if x < threshold['p_value'] and y == query_name\n",
    "        and threshold['term_size'][0] <= z <= threshold['term_size'][1] else\n",
    "        False for x, y, z in zip(\n",
    "            GO_results['p_value'],\n",
    "            GO_results['query'],\n",
    "            GO_results['term_size']\n",
    "        )\n",
    "    ]\n",
    "    filtered_terms = GO_results.loc[filteres, :].sort_values(by='enrichment',\n",
    "                                                             ascending=False)\n",
    "    cluster = pd.DataFrame(columns=GO_results.columns)\n",
    "    selected_term_index = set()\n",
    "    current_selected_term_index = set()\n",
    "    for index in filtered_terms.index:\n",
    "        if index in selected_term_index:\n",
    "            continue\n",
    "        current_selected_term_index = term_merge(GO_results, query_name, index,\n",
    "                                                 selected_term_index,\n",
    "                                                 threshold)\n",
    "        print(current_selected_term_index)\n",
    "        yield GO_results.iloc[list(current_selected_term_index\n",
    "                                   ), :].sort_values(by='enrichment',\n",
    "                                                     ascending=False)\n",
    "        selected_term_index = selected_term_index | current_selected_term_index\n",
    "        current_selected_term_index = set()"
   ]
  },
  {
   "cell_type": "code",
   "execution_count": 205,
   "metadata": {
    "ExecuteTime": {
     "end_time": "2021-04-08T11:29:08.239573Z",
     "start_time": "2021-04-08T11:28:59.944802Z"
    }
   },
   "outputs": [],
   "source": [
    "def query_cluster(GO_results, query, natives):\n",
    "    for query_name in query.keys():\n",
    "        try :\n",
    "            index, row = next(GO_results.loc[[\n",
    "                True if x in natives and y == query_name else False\n",
    "                for x, y in zip(GO_results['native'], GO_results['query'])\n",
    "            ], ['-log10 P-value', 'enrichment']].sort_values(\n",
    "                by='enrichment', ascending=False).head(1).iterrows())\n",
    "        except StopIteration :\n",
    "            continue\n",
    "        yield query_name, row['-log10 P-value'], row['enrichment']\n",
    "\n",
    "\n",
    "def gen_top_K_cluster(GO_results,\n",
    "                      query,\n",
    "                      K=3,\n",
    "                      threshold={\n",
    "                          'merge': 0.6,\n",
    "                          'term_size': (15, 500),\n",
    "                          'p_value': 0.001\n",
    "                      }):\n",
    "    import csv\n",
    "    import numpy as np\n",
    "    from collections import defaultdict\n",
    "    query_name_list = list(query.keys())\n",
    "    GO_cluster = {\n",
    "        query_name: {\n",
    "            'term_id': [],\n",
    "            '-log10 P-value': [],\n",
    "            'enrichment score': [],\n",
    "            'name': [],\n",
    "        }\n",
    "        for query_name in query_name_list\n",
    "    }\n",
    "    for index, query_name in enumerate(query_name_list):\n",
    "        with open(f'/mnt/Storage/home/wangyiman/maternal_loading/1.private_data/genes4_ko_analysis/RNAseq/analysis/GO/GO_{query_name}_top{K}_cluster.csv', 'w') as fhd:\n",
    "            f_csv = csv.writer(fhd)\n",
    "            f_csv.writerow([\n",
    "                'source', 'native', 'name', '-log10 p-value',\n",
    "                'enrichment score', 'intersection genes', 'term size',\n",
    "                'quer size', 'intersection size', 'effective domain size'\n",
    "            ])\n",
    "            go_results_cluster_gen = single_query_cluster_gen(\n",
    "                GO_results, query_name)\n",
    "            for i in range(K):\n",
    "                try:\n",
    "                    cluster = next(go_results_cluster_gen)\n",
    "                except StopIteration:\n",
    "                    break\n",
    "                    \n",
    "                if cluster.shape[0] == 0:\n",
    "                    break\n",
    "                    \n",
    "                f_csv.writerow(['#', '-----', f'cluster {i+1}'] +\n",
    "                               ['-----'] * 7)\n",
    "                go_term_name = ''\n",
    "                count = 0\n",
    "                for _, row in cluster.iterrows():\n",
    "                    count += 1\n",
    "                    f_csv.writerow([\n",
    "                        row['source'], row['native'], row['name'],\n",
    "                        -np.log10(row['p_value']), row['enrichment'],\n",
    "                        ','.join(row['intersections']), row['term_size'],\n",
    "                        row['query_size'], row['intersection_size'],\n",
    "                        row['effective_domain_size']\n",
    "                    ])\n",
    "                    if count == 1:\n",
    "                        go_term_name = row['name']\n",
    "                        \n",
    "                term_ids = list(cluster['native'])\n",
    "                for row in query_cluster(GO_results, query, term_ids):\n",
    "                    GO_cluster[row[0]]['term_id'].append(set(term_ids))\n",
    "                    GO_cluster[row[0]]['-log10 P-value'].append(row[1])\n",
    "                    GO_cluster[row[0]]['enrichment score'].append(row[2])\n",
    "                    GO_cluster[row[0]]['name'].append(go_term_name)\n",
    "    \n",
    "    merge_cluster = []\n",
    "    indexes_to_be_merged = set(\n",
    "        range(len(GO_cluster[query_name_list[0]]['term_id'])))\n",
    "    ###BFS\n",
    "    # get edges\n",
    "    edges = defaultdict(list)\n",
    "    for i in range(len(indexes_to_be_merged)):\n",
    "        for j in range(i + 1, len(indexes_to_be_merged)):\n",
    "            if len(GO_cluster[query_name_list[0]]['term_id'][i]\n",
    "                   & GO_cluster[query_name_list[0]]['term_id'][j]) > 0:\n",
    "                edges[i].append(j)\n",
    "                edges[j].append(i)\n",
    "    # merge\n",
    "    merged_indexex = set()\n",
    "    while len(indexes_to_be_merged - merged_indexex) > 0:\n",
    "        merge_cluster.append([])\n",
    "        current_index = [list(indexes_to_be_merged - merged_indexex)[0]]\n",
    "        merged_indexex.add(current_index[0])\n",
    "        while current_index:\n",
    "            merge_cluster[-1].extend(current_index)\n",
    "            next_index = []\n",
    "            for index in current_index:\n",
    "                for next_node in edges[index]:\n",
    "                    if next_node in merged_indexex:\n",
    "                        continue\n",
    "                        \n",
    "                    next_index.append(next_node)\n",
    "                    merged_indexex.add(next_node)\n",
    "                    \n",
    "            current_index = next_index[:]\n",
    "            \n",
    "    print(merge_cluster)\n",
    "    for mc in merge_cluster:\n",
    "        for query_name in query_name_list:\n",
    "            if max(mc) < len(GO_cluster[query_name]['enrichment score']) :\n",
    "                target_index = mc[np.array([\n",
    "                    GO_cluster[query_name]['enrichment score'][i] for i in mc\n",
    "                ]).argmax()]\n",
    "                yield GO_cluster[query_name]['name'][mc[0]], GO_cluster[\n",
    "                    query_name]['-log10 P-value'][target_index], GO_cluster[\n",
    "                        query_name]['enrichment score'][target_index], query_name\n",
    "            else :\n",
    "                continue\n",
    "\n"
   ]
  },
  {
   "cell_type": "markdown",
   "metadata": {},
   "source": [
    "## total queries"
   ]
  },
  {
   "cell_type": "code",
   "execution_count": 243,
   "metadata": {},
   "outputs": [
    {
     "name": "stdout",
     "output_type": "stream",
     "text": [
      "{35, 36, 37, 12, 16, 22, 31}\n",
      "{64, 96, 11075, 70, 140, 142, 144, 113, 49488, 88, 89, 91, 95}\n",
      "{130, 101, 166, 102, 293, 272, 209, 273, 407, 248, 380, 189}\n",
      "{63}\n",
      "{143}\n",
      "{192, 148, 127}\n",
      "{97}\n",
      "{59, 38}\n",
      "{75}\n",
      "{48}\n",
      "{52, 54, 60}\n",
      "{137, 234, 303, 304, 305, 382}\n",
      "[[0], [1], [2], [3], [4], [5], [8], [9], [6], [7]]\n"
     ]
    },
    {
     "data": {
      "text/html": [
       "<div>\n",
       "<style scoped>\n",
       "    .dataframe tbody tr th:only-of-type {\n",
       "        vertical-align: middle;\n",
       "    }\n",
       "\n",
       "    .dataframe tbody tr th {\n",
       "        vertical-align: top;\n",
       "    }\n",
       "\n",
       "    .dataframe thead th {\n",
       "        text-align: right;\n",
       "    }\n",
       "</style>\n",
       "<table border=\"1\" class=\"dataframe\">\n",
       "  <thead>\n",
       "    <tr style=\"text-align: right;\">\n",
       "      <th></th>\n",
       "      <th>name</th>\n",
       "      <th>-log10 P-value</th>\n",
       "      <th>enrichment score</th>\n",
       "      <th>sample</th>\n",
       "    </tr>\n",
       "  </thead>\n",
       "  <tbody>\n",
       "    <tr>\n",
       "      <th>0</th>\n",
       "      <td>pre-mRNA 5'-splice site binding</td>\n",
       "      <td>-0.0</td>\n",
       "      <td>0.641136</td>\n",
       "      <td>oocyte_mcm6l_up</td>\n",
       "    </tr>\n",
       "    <tr>\n",
       "      <th>1</th>\n",
       "      <td>axonogenesis</td>\n",
       "      <td>-0.0</td>\n",
       "      <td>2.688707</td>\n",
       "      <td>oocyte_mcm6l_down</td>\n",
       "    </tr>\n",
       "    <tr>\n",
       "      <th>2</th>\n",
       "      <td>pre-mRNA 5'-splice site binding</td>\n",
       "      <td>-0.0</td>\n",
       "      <td>0.733831</td>\n",
       "      <td>oocyte_npm2a_up</td>\n",
       "    </tr>\n",
       "    <tr>\n",
       "      <th>3</th>\n",
       "      <td>pre-mRNA 5'-splice site binding</td>\n",
       "      <td>-0.0</td>\n",
       "      <td>1.991424</td>\n",
       "      <td>oocyte_npm2a_down</td>\n",
       "    </tr>\n",
       "    <tr>\n",
       "      <th>4</th>\n",
       "      <td>axonogenesis</td>\n",
       "      <td>-0.0</td>\n",
       "      <td>2.899729</td>\n",
       "      <td>oocyte_orc1_up</td>\n",
       "    </tr>\n",
       "  </tbody>\n",
       "</table>\n",
       "</div>"
      ],
      "text/plain": [
       "                              name  -log10 P-value  enrichment score  \\\n",
       "0  pre-mRNA 5'-splice site binding            -0.0          0.641136   \n",
       "1                     axonogenesis            -0.0          2.688707   \n",
       "2  pre-mRNA 5'-splice site binding            -0.0          0.733831   \n",
       "3  pre-mRNA 5'-splice site binding            -0.0          1.991424   \n",
       "4                     axonogenesis            -0.0          2.899729   \n",
       "\n",
       "              sample  \n",
       "0    oocyte_mcm6l_up  \n",
       "1  oocyte_mcm6l_down  \n",
       "2    oocyte_npm2a_up  \n",
       "3  oocyte_npm2a_down  \n",
       "4     oocyte_orc1_up  "
      ]
     },
     "execution_count": 243,
     "metadata": {},
     "output_type": "execute_result"
    }
   ],
   "source": [
    "GO_cluster = pd.DataFrame(\n",
    "    gen_top_K_cluster(GO_output,\n",
    "                      query,\n",
    "                      K=10,\n",
    "                      threshold={\n",
    "                          'merge': 0.6,\n",
    "                          'term_size': (15, 500),\n",
    "                          'p_value': 0.001\n",
    "                      }),\n",
    "    columns=['name', '-log10 P-value', 'enrichment score', 'sample'])\n",
    "GO_cluster.head()"
   ]
  },
  {
   "cell_type": "code",
   "execution_count": 244,
   "metadata": {},
   "outputs": [
    {
     "data": {
      "text/html": [
       "<div>\n",
       "<style scoped>\n",
       "    .dataframe tbody tr th:only-of-type {\n",
       "        vertical-align: middle;\n",
       "    }\n",
       "\n",
       "    .dataframe tbody tr th {\n",
       "        vertical-align: top;\n",
       "    }\n",
       "\n",
       "    .dataframe thead th {\n",
       "        text-align: right;\n",
       "    }\n",
       "</style>\n",
       "<table border=\"1\" class=\"dataframe\">\n",
       "  <thead>\n",
       "    <tr style=\"text-align: right;\">\n",
       "      <th></th>\n",
       "      <th>name</th>\n",
       "      <th>-log10 P-value</th>\n",
       "      <th>enrichment score</th>\n",
       "      <th>sample</th>\n",
       "    </tr>\n",
       "  </thead>\n",
       "  <tbody>\n",
       "    <tr>\n",
       "      <th>0</th>\n",
       "      <td>pre-mRNA 5'-splice site binding</td>\n",
       "      <td>-0.000000</td>\n",
       "      <td>0.641136</td>\n",
       "      <td>oocyte_mcm6l_up</td>\n",
       "    </tr>\n",
       "    <tr>\n",
       "      <th>1</th>\n",
       "      <td>axonogenesis</td>\n",
       "      <td>-0.000000</td>\n",
       "      <td>2.688707</td>\n",
       "      <td>oocyte_mcm6l_down</td>\n",
       "    </tr>\n",
       "    <tr>\n",
       "      <th>2</th>\n",
       "      <td>pre-mRNA 5'-splice site binding</td>\n",
       "      <td>-0.000000</td>\n",
       "      <td>0.733831</td>\n",
       "      <td>oocyte_npm2a_up</td>\n",
       "    </tr>\n",
       "    <tr>\n",
       "      <th>3</th>\n",
       "      <td>pre-mRNA 5'-splice site binding</td>\n",
       "      <td>-0.000000</td>\n",
       "      <td>1.991424</td>\n",
       "      <td>oocyte_npm2a_down</td>\n",
       "    </tr>\n",
       "    <tr>\n",
       "      <th>4</th>\n",
       "      <td>axonogenesis</td>\n",
       "      <td>-0.000000</td>\n",
       "      <td>2.899729</td>\n",
       "      <td>oocyte_orc1_up</td>\n",
       "    </tr>\n",
       "    <tr>\n",
       "      <th>...</th>\n",
       "      <td>...</td>\n",
       "      <td>...</td>\n",
       "      <td>...</td>\n",
       "      <td>...</td>\n",
       "    </tr>\n",
       "    <tr>\n",
       "      <th>226</th>\n",
       "      <td>brain development</td>\n",
       "      <td>-0.000000</td>\n",
       "      <td>2.266196</td>\n",
       "      <td>1k_orc1_up</td>\n",
       "    </tr>\n",
       "    <tr>\n",
       "      <th>227</th>\n",
       "      <td>anterior/posterior pattern specification</td>\n",
       "      <td>-0.000000</td>\n",
       "      <td>3.117296</td>\n",
       "      <td>1k_orc1_down</td>\n",
       "    </tr>\n",
       "    <tr>\n",
       "      <th>228</th>\n",
       "      <td>gastrulation</td>\n",
       "      <td>5.962134</td>\n",
       "      <td>5.165750</td>\n",
       "      <td>oblong_mcm6l_down</td>\n",
       "    </tr>\n",
       "    <tr>\n",
       "      <th>229</th>\n",
       "      <td>pattern specification process</td>\n",
       "      <td>-0.000000</td>\n",
       "      <td>1.370245</td>\n",
       "      <td>oblong_npm2a_up</td>\n",
       "    </tr>\n",
       "    <tr>\n",
       "      <th>230</th>\n",
       "      <td>gastrulation</td>\n",
       "      <td>-0.000000</td>\n",
       "      <td>1.393277</td>\n",
       "      <td>oblong_npm2a_down</td>\n",
       "    </tr>\n",
       "  </tbody>\n",
       "</table>\n",
       "<p>231 rows × 4 columns</p>\n",
       "</div>"
      ],
      "text/plain": [
       "                                         name  -log10 P-value  \\\n",
       "0             pre-mRNA 5'-splice site binding       -0.000000   \n",
       "1                                axonogenesis       -0.000000   \n",
       "2             pre-mRNA 5'-splice site binding       -0.000000   \n",
       "3             pre-mRNA 5'-splice site binding       -0.000000   \n",
       "4                                axonogenesis       -0.000000   \n",
       "..                                        ...             ...   \n",
       "226                         brain development       -0.000000   \n",
       "227  anterior/posterior pattern specification       -0.000000   \n",
       "228                              gastrulation        5.962134   \n",
       "229             pattern specification process       -0.000000   \n",
       "230                              gastrulation       -0.000000   \n",
       "\n",
       "     enrichment score             sample  \n",
       "0            0.641136    oocyte_mcm6l_up  \n",
       "1            2.688707  oocyte_mcm6l_down  \n",
       "2            0.733831    oocyte_npm2a_up  \n",
       "3            1.991424  oocyte_npm2a_down  \n",
       "4            2.899729     oocyte_orc1_up  \n",
       "..                ...                ...  \n",
       "226          2.266196         1k_orc1_up  \n",
       "227          3.117296       1k_orc1_down  \n",
       "228          5.165750  oblong_mcm6l_down  \n",
       "229          1.370245    oblong_npm2a_up  \n",
       "230          1.393277  oblong_npm2a_down  \n",
       "\n",
       "[231 rows x 4 columns]"
      ]
     },
     "execution_count": 244,
     "metadata": {},
     "output_type": "execute_result"
    }
   ],
   "source": [
    "GO_cluster"
   ]
  },
  {
   "cell_type": "code",
   "execution_count": 192,
   "metadata": {},
   "outputs": [
    {
     "data": {
      "text/plain": [
       "array(['oocyte_mcm6l_up', 'oocyte_mcm6l_down', 'oocyte_npm2a_up',\n",
       "       'oocyte_npm2a_down', 'oocyte_orc1_up', 'oocyte_orc1_down',\n",
       "       '64_mcm6l_up', '64_mcm6l_down', '64_npm2a_up', '64_npm2a_down',\n",
       "       '256_mcm6l_up', '256_mcm6l_down', '256_npm2a_up', '256_npm2a_down',\n",
       "       '1k_mcm3l_up', '1k_mcm3l_down', '1k_mcm6l_up', '1k_mcm6l_down',\n",
       "       '1k_npm2a_up', '1k_npm2a_down', '1k_orc1_up', '1k_orc1_down',\n",
       "       'oblong_mcm6l_up', 'oblong_mcm6l_down', 'oblong_npm2a_up',\n",
       "       'oblong_npm2a_down'], dtype=object)"
      ]
     },
     "execution_count": 192,
     "metadata": {},
     "output_type": "execute_result"
    }
   ],
   "source": [
    "GO_cluster['sample'].unique()"
   ]
  },
  {
   "cell_type": "code",
   "execution_count": 223,
   "metadata": {},
   "outputs": [],
   "source": [
    "# sample_order = []\n",
    "# for sample in GO_cluster['sample'] :\n",
    "#     if sample == 'pre-MBT' :\n",
    "#         sample_order.append(1)\n",
    "#     elif sample == 'NBC target pre-MBT' :\n",
    "#         sample_order.append(2)\n",
    "#     elif sample == 'other target pre-MBT' :\n",
    "#         sample_order.append(3)\n",
    "#     elif sample == 'MBT' :\n",
    "#         sample_order.append(4)\n",
    "#     elif sample == 'post-MBT' :\n",
    "#         sample_order.append(5)\n",
    "        \n",
    "# GO_cluster['sample_order'] = sample_order\n",
    "# GO_cluster.sort_values(by=['sample_order', 'enrichment score'],ascending=True,inplace=True)"
   ]
  },
  {
   "cell_type": "code",
   "execution_count": 245,
   "metadata": {
    "ExecuteTime": {
     "end_time": "2021-04-08T11:36:46.452074Z",
     "start_time": "2021-04-08T11:36:46.005599Z"
    }
   },
   "outputs": [
    {
     "data": {
      "image/png": "[encoded data removed]",
      "text/plain": [
       "<Figure size 1152x345.6 with 1 Axes>"
      ]
     },
     "metadata": {},
     "output_type": "display_data"
    }
   ],
   "source": [
    "with sns.axes_style('white', rc={\n",
    "        'xtick.bottom': True,\n",
    "        'ytick.left': True\n",
    "}), sns.plotting_context('paper',\n",
    "                         rc={\n",
    "                             'axes.titlesize': 14,\n",
    "                             'axes.labelsize': 12,\n",
    "                             'xtick.labelsize': 10,\n",
    "                             'ytick.labelsize': 10,\n",
    "                             'legend.fontsize': 10\n",
    "                         }):\n",
    "\n",
    "    fig, ax = plt.subplots(figsize=(6.4 * 2.5, 4.8 * 1))\n",
    "    sns.scatterplot(\n",
    "        x='sample',\n",
    "        y='name',\n",
    "        size='enrichment score',\n",
    "        hue='-log10 P-value',\n",
    "        data=GO_cluster,\n",
    "        palette='YlGnBu',\n",
    "        sizes=(0, 700),\n",
    "        edgecolor='k',\n",
    "        ax=ax,\n",
    "    )\n",
    "    ax.legend(bbox_to_anchor=(1, 0), loc='lower left')\n",
    "#     ax.set_xticks(range(5))\n",
    "\n",
    "    plt.setp(ax.get_xticklabels(), rotation=45, ha='right')\n",
    "    ax.set_xlabel('Affected gene class')\n",
    "    ax.set_ylabel('GO term name')\n",
    "    fig.tight_layout()\n",
    "    fig.savefig(f'/mnt/Storage/home/wangyiman/maternal_loading/1.private_data/genes4_ko_analysis/RNAseq/figures/make1_Scatterplot_GO_upDownGenes.pdf', \n",
    "                transparent=True)\n"
   ]
  },
  {
   "cell_type": "markdown",
   "metadata": {},
   "source": [
    "## by genes"
   ]
  },
  {
   "cell_type": "code",
   "execution_count": null,
   "metadata": {},
   "outputs": [],
   "source": [
    "GO_cluster = pd.DataFrame(\n",
    "    gen_top_K_cluster(GO_output,\n",
    "                      query,\n",
    "                      K=3,\n",
    "                      threshold={\n",
    "                          'merge': 0.6,\n",
    "                          'term_size': (15, 500),\n",
    "                          'p_value': 0.001\n",
    "                      }),\n",
    "    columns=['name', '-log10 P-value', 'enrichment score', 'sample'])\n",
    "GO_cluster.head()"
   ]
  },
  {
   "cell_type": "code",
   "execution_count": 237,
   "metadata": {},
   "outputs": [
    {
     "name": "stdout",
     "output_type": "stream",
     "text": [
      "[]\n"
     ]
    },
    {
     "data": {
      "text/html": [
       "<div>\n",
       "<style scoped>\n",
       "    .dataframe tbody tr th:only-of-type {\n",
       "        vertical-align: middle;\n",
       "    }\n",
       "\n",
       "    .dataframe tbody tr th {\n",
       "        vertical-align: top;\n",
       "    }\n",
       "\n",
       "    .dataframe thead th {\n",
       "        text-align: right;\n",
       "    }\n",
       "</style>\n",
       "<table border=\"1\" class=\"dataframe\">\n",
       "  <thead>\n",
       "    <tr style=\"text-align: right;\">\n",
       "      <th></th>\n",
       "    </tr>\n",
       "  </thead>\n",
       "  <tbody>\n",
       "  </tbody>\n",
       "</table>\n",
       "</div>"
      ],
      "text/plain": [
       "Empty DataFrame\n",
       "Columns: []\n",
       "Index: []"
      ]
     },
     "execution_count": 237,
     "metadata": {},
     "output_type": "execute_result"
    }
   ],
   "source": [
    "pd.DataFrame(gen_top_K_cluster(GO_output_tmp,\n",
    "                          query_subset,\n",
    "                          K=2,\n",
    "                          threshold={\n",
    "                              'merge': 0.5,\n",
    "                              'term_size': (0, 1000),\n",
    "                              'p_value': 0.05\n",
    "                          }))"
   ]
  },
  {
   "cell_type": "code",
   "execution_count": 240,
   "metadata": {},
   "outputs": [
    {
     "name": "stderr",
     "output_type": "stream",
     "text": [
      "<ipython-input-240-4284032ed763>:4: SettingWithCopyWarning: \n",
      "A value is trying to be set on a copy of a slice from a DataFrame.\n",
      "Try using .loc[row_indexer,col_indexer] = value instead\n",
      "\n",
      "See the caveats in the documentation: https://pandas.pydata.org/pandas-docs/stable/user_guide/indexing.html#returning-a-view-versus-a-copy\n",
      "  GO_output_tmp['-log10 P-value'] = GO_output_tmp['-log10 P-value'].astype(float)\n"
     ]
    },
    {
     "name": "stdout",
     "output_type": "stream",
     "text": [
      "{35, 36, 37, 12, 16, 22, 31}\n",
      "{64, 96, 11075, 70, 140, 142, 144, 113, 49488, 88, 89, 91, 95}\n",
      "{130, 101, 166, 102, 293, 272, 209, 273, 407, 248, 380, 189}\n",
      "{63}\n",
      "{143}\n",
      "{192, 148, 127}\n",
      "{97}\n",
      "{59, 38}\n",
      "{75}\n",
      "{48}\n",
      "{52, 54, 60}\n",
      "{137, 234, 303, 304, 305, 382}\n",
      "[[0, 7], [1], [2], [3], [4], [8], [9], [5], [6]]\n",
      "[]\n",
      "[]\n"
     ]
    },
    {
     "data": {
      "text/html": [
       "<div>\n",
       "<style scoped>\n",
       "    .dataframe tbody tr th:only-of-type {\n",
       "        vertical-align: middle;\n",
       "    }\n",
       "\n",
       "    .dataframe tbody tr th {\n",
       "        vertical-align: top;\n",
       "    }\n",
       "\n",
       "    .dataframe thead th {\n",
       "        text-align: right;\n",
       "    }\n",
       "</style>\n",
       "<table border=\"1\" class=\"dataframe\">\n",
       "  <thead>\n",
       "    <tr style=\"text-align: right;\">\n",
       "      <th></th>\n",
       "      <th>name</th>\n",
       "      <th>-log10 P-value</th>\n",
       "      <th>enrichment score</th>\n",
       "      <th>sample</th>\n",
       "    </tr>\n",
       "  </thead>\n",
       "  <tbody>\n",
       "  </tbody>\n",
       "</table>\n",
       "</div>"
      ],
      "text/plain": [
       "Empty DataFrame\n",
       "Columns: [name, -log10 P-value, enrichment score, sample]\n",
       "Index: []"
      ]
     },
     "execution_count": 240,
     "metadata": {},
     "output_type": "execute_result"
    }
   ],
   "source": [
    "GO_cluster_gene_dict = {}\n",
    "for i,gene in enumerate(['mcm3l', 'mcm6l', 'npm2a', 'orc1']) :\n",
    "    GO_output_tmp = GO_output.loc[GO_output['query'].str.split('_', expand = True)[1] == gene]\n",
    "    GO_output_tmp['-log10 P-value'] = GO_output_tmp['-log10 P-value'].astype(float)\n",
    "    query_subset = {key: query[key] for key in GO_output_tmp['query'].unique().tolist()}\n",
    "    try :\n",
    "        GO_cluster_gene_dict[gene] = pd.DataFrame(\n",
    "            gen_top_K_cluster(GO_output_tmp,\n",
    "                              query_subset,\n",
    "                              K=10,\n",
    "                              threshold={\n",
    "                                  'merge': 0.6,\n",
    "                                  'term_size': (0, 500),\n",
    "                                  'p_value': 0.05\n",
    "                              }),\n",
    "            columns=['name', '-log10 P-value', 'enrichment score', 'sample'])\n",
    "    except :\n",
    "        continue\n",
    "        \n",
    "GO_cluster_gene_dict[gene]"
   ]
  },
  {
   "cell_type": "code",
   "execution_count": 241,
   "metadata": {},
   "outputs": [
    {
     "name": "stdout",
     "output_type": "stream",
     "text": [
      "mcm6l                              name  -log10 P-value  enrichment score  \\\n",
      "0         pericentriolar material        1.475429          4.624576   \n",
      "1         pericentriolar material       -0.000000         27.312085   \n",
      "2         pericentriolar material        0.871952         49.142174   \n",
      "3         pericentriolar material        0.687247          2.771458   \n",
      "4         pericentriolar material       -0.000000         26.468468   \n",
      "..                            ...             ...               ...   \n",
      "85  sequence-specific DNA binding       -0.000000          0.761634   \n",
      "86  sequence-specific DNA binding       -0.000000          0.574248   \n",
      "87  sequence-specific DNA binding       -0.000000          0.413458   \n",
      "88  sequence-specific DNA binding       -0.000000          0.812980   \n",
      "89  sequence-specific DNA binding       -0.000000          0.609307   \n",
      "\n",
      "               sample  \n",
      "0   oblong_mcm6l_down  \n",
      "1       1k_mcm6l_down  \n",
      "2      256_mcm6l_down  \n",
      "3         1k_mcm6l_up  \n",
      "4       64_mcm6l_down  \n",
      "..                ...  \n",
      "85  oocyte_mcm6l_down  \n",
      "86       256_mcm6l_up  \n",
      "87    oblong_mcm6l_up  \n",
      "88        64_mcm6l_up  \n",
      "89    oocyte_mcm6l_up  \n",
      "\n",
      "[90 rows x 4 columns]\n",
      "npm2a Empty DataFrame\n",
      "Columns: [name, -log10 P-value, enrichment score, sample]\n",
      "Index: []\n",
      "orc1 Empty DataFrame\n",
      "Columns: [name, -log10 P-value, enrichment score, sample]\n",
      "Index: []\n"
     ]
    }
   ],
   "source": [
    "for gene in GO_cluster_gene_dict.keys() :\n",
    "    print(gene, GO_cluster_gene_dict[gene])"
   ]
  },
  {
   "cell_type": "code",
   "execution_count": 242,
   "metadata": {
    "ExecuteTime": {
     "end_time": "2021-04-08T11:36:46.452074Z",
     "start_time": "2021-04-08T11:36:46.005599Z"
    }
   },
   "outputs": [
    {
     "data": {
      "image/png": "[encoded data removed]",
      "text/plain": [
       "<Figure size 691.2x259.2 with 1 Axes>"
      ]
     },
     "metadata": {},
     "output_type": "display_data"
    }
   ],
   "source": [
    "with sns.axes_style('white', rc={\n",
    "        'xtick.bottom': True,\n",
    "        'ytick.left': True\n",
    "}), sns.plotting_context('paper',\n",
    "                         rc={\n",
    "                             'axes.titlesize': 14,\n",
    "                             'axes.labelsize': 12,\n",
    "                             'xtick.labelsize': 10,\n",
    "                             'ytick.labelsize': 10,\n",
    "                             'legend.fontsize': 10\n",
    "                         }):\n",
    "\n",
    "    fig, ax = plt.subplots(figsize=(6.4 * 1.5, 4.8 * .75))\n",
    "    sns.scatterplot(\n",
    "        x='sample',\n",
    "        y='name',\n",
    "        size='enrichment score',\n",
    "        hue='-log10 P-value',\n",
    "        data=GO_cluster_gene_dict['mcm6l'],\n",
    "        palette='YlGnBu',\n",
    "        sizes=(0, 700),\n",
    "        edgecolor='k',\n",
    "        ax=ax,\n",
    "    )\n",
    "    ax.legend(bbox_to_anchor=(1, 0), loc='lower left')\n",
    "#     ax.set_xticks(range(5))\n",
    "\n",
    "    plt.setp(ax.get_xticklabels(), rotation=45, ha='right')\n",
    "    ax.set_xlabel('Affected gene class')\n",
    "    ax.set_ylabel('GO term name')\n",
    "    fig.tight_layout()\n",
    "#     fig.savefig(f'/mnt/Storage/home/wangyiman/maternal_loading/1.private_data/genes4_ko_analysis/RNAseq/figures/make1_Scatterplot_GO_upDownGenes.pdf', \n",
    "#                 transparent=True)\n"
   ]
  },
  {
   "cell_type": "code",
   "execution_count": null,
   "metadata": {},
   "outputs": [],
   "source": []
  },
  {
   "cell_type": "code",
   "execution_count": 56,
   "metadata": {},
   "outputs": [
    {
     "data": {
      "text/plain": [
       "['\"The process whose specific outcome is the progression of the hindbrain over time, from its formation to the mature structure. The hindbrain is the posterior of the three primary divisions of the developing chordate brain, or the corresponding part of the adult brain (in vertebrates, includes the cerebellum, pons, and medulla oblongata and controls the autonomic functions and equilibrium).\" [http://www2.merriam-webster.com/cgi-bin/mwmednlm?book=Medical&va=hindbrain]',\n",
       " '\"Any process involved in the activation of any of the steps of the lectin pathway of the complement cascade which allows for the direct killing of microbes and the regulation of other immune processes.\" [GOC:add, ISBN:0781735149]',\n",
       " '\"Assembly of the extracellular matrix fibers that enables the matrix to recoil after transient stretching.\" [GOC:jid, PMID:10841810, PMID:12615674]',\n",
       " '\"Binding to a calcium ion (Ca2+).\" [GOC:ai]',\n",
       " '\"Binding to an antigen, any substance which is capable of inducing a specific immune response and of reacting with the products of that response, the specific antibody or specifically sensitized T-lymphocytes, or both. Binding may counteract the biological activity of the antigen.\" [GOC:jl, ISBN:0198506732, ISBN:0721662544]',\n",
       " '\"Binding to nitric-oxide synthase.\" [GOC:ai]']"
      ]
     },
     "execution_count": 56,
     "metadata": {},
     "output_type": "execute_result"
    }
   ],
   "source": [
    "GO_output.loc[(GO_output['term_size'] > 0) & (GO_output['term_size'] < 1000) & (GO_output['enrichment'] >= 0) & (GO_output['-log10 P-value'] > 1.3)]['description'].tolist()"
   ]
  },
  {
   "cell_type": "code",
   "execution_count": 51,
   "metadata": {},
   "outputs": [
    {
     "data": {
      "text/html": [
       "<div>\n",
       "<style scoped>\n",
       "    .dataframe tbody tr th:only-of-type {\n",
       "        vertical-align: middle;\n",
       "    }\n",
       "\n",
       "    .dataframe tbody tr th {\n",
       "        vertical-align: top;\n",
       "    }\n",
       "\n",
       "    .dataframe thead th {\n",
       "        text-align: right;\n",
       "    }\n",
       "</style>\n",
       "<table border=\"1\" class=\"dataframe\">\n",
       "  <thead>\n",
       "    <tr style=\"text-align: right;\">\n",
       "      <th></th>\n",
       "      <th>source</th>\n",
       "      <th>native</th>\n",
       "      <th>name</th>\n",
       "      <th>p_value</th>\n",
       "      <th>significant</th>\n",
       "      <th>description</th>\n",
       "      <th>term_size</th>\n",
       "      <th>query_size</th>\n",
       "      <th>intersection_size</th>\n",
       "      <th>effective_domain_size</th>\n",
       "      <th>precision</th>\n",
       "      <th>recall</th>\n",
       "      <th>query</th>\n",
       "      <th>parents</th>\n",
       "      <th>intersections</th>\n",
       "      <th>evidences</th>\n",
       "      <th>enrichment</th>\n",
       "      <th>-log10 P-value</th>\n",
       "    </tr>\n",
       "  </thead>\n",
       "  <tbody>\n",
       "    <tr>\n",
       "      <th>0</th>\n",
       "      <td>GO:BP</td>\n",
       "      <td>GO:0030902</td>\n",
       "      <td>hindbrain development</td>\n",
       "      <td>0.000311</td>\n",
       "      <td>True</td>\n",
       "      <td>\"The process whose specific outcome is the pro...</td>\n",
       "      <td>80</td>\n",
       "      <td>119</td>\n",
       "      <td>7</td>\n",
       "      <td>21828</td>\n",
       "      <td>0.058824</td>\n",
       "      <td>0.087500</td>\n",
       "      <td>oocyte_orc1_up</td>\n",
       "      <td>[GO:0007420, GO:0048856]</td>\n",
       "      <td>[ENSDARG00000018260, ENSDARG00000020795, ENSDA...</td>\n",
       "      <td>[[IMP], [IMP], [IGI], [IMP], [IMP], [IGI], [IMP]]</td>\n",
       "      <td>16.050000</td>\n",
       "      <td>3.506966</td>\n",
       "    </tr>\n",
       "    <tr>\n",
       "      <th>1</th>\n",
       "      <td>GO:BP</td>\n",
       "      <td>GO:0048856</td>\n",
       "      <td>anatomical structure development</td>\n",
       "      <td>0.000611</td>\n",
       "      <td>True</td>\n",
       "      <td>\"The biological process whose specific outcome...</td>\n",
       "      <td>3890</td>\n",
       "      <td>119</td>\n",
       "      <td>44</td>\n",
       "      <td>21828</td>\n",
       "      <td>0.369748</td>\n",
       "      <td>0.011311</td>\n",
       "      <td>oocyte_orc1_up</td>\n",
       "      <td>[GO:0032502]</td>\n",
       "      <td>[ENSDARG00000004954, ENSDARG00000005783, ENSDA...</td>\n",
       "      <td>[[IMP, IGI], [IBA, IEA], [IBA], [IEA], [IMP, I...</td>\n",
       "      <td>2.074770</td>\n",
       "      <td>3.214031</td>\n",
       "    </tr>\n",
       "    <tr>\n",
       "      <th>2</th>\n",
       "      <td>GO:BP</td>\n",
       "      <td>GO:0032502</td>\n",
       "      <td>developmental process</td>\n",
       "      <td>0.000612</td>\n",
       "      <td>True</td>\n",
       "      <td>\"A biological process whose specific outcome i...</td>\n",
       "      <td>4172</td>\n",
       "      <td>119</td>\n",
       "      <td>46</td>\n",
       "      <td>21828</td>\n",
       "      <td>0.386555</td>\n",
       "      <td>0.011026</td>\n",
       "      <td>oocyte_orc1_up</td>\n",
       "      <td>[GO:0008150]</td>\n",
       "      <td>[ENSDARG00000004954, ENSDARG00000005783, ENSDA...</td>\n",
       "      <td>[[IMP, IGI], [IBA, IEA], [IBA], [IEA], [IMP, I...</td>\n",
       "      <td>2.022463</td>\n",
       "      <td>3.213457</td>\n",
       "    </tr>\n",
       "    <tr>\n",
       "      <th>3</th>\n",
       "      <td>GO:MF</td>\n",
       "      <td>GO:0000978</td>\n",
       "      <td>RNA polymerase II cis-regulatory region sequen...</td>\n",
       "      <td>0.001336</td>\n",
       "      <td>True</td>\n",
       "      <td>\"Binding to a specific upstream regulatory DNA...</td>\n",
       "      <td>1046</td>\n",
       "      <td>247</td>\n",
       "      <td>28</td>\n",
       "      <td>24485</td>\n",
       "      <td>0.113360</td>\n",
       "      <td>0.026769</td>\n",
       "      <td>oocyte_npm2a_down</td>\n",
       "      <td>[GO:0000977, GO:0000987]</td>\n",
       "      <td>[ENSDARG00000002445, ENSDARG00000011582, ENSDA...</td>\n",
       "      <td>[[IBA], [IBA], [IBA], [IBA], [IBA], [IBA], [IB...</td>\n",
       "      <td>2.653564</td>\n",
       "      <td>2.874305</td>\n",
       "    </tr>\n",
       "    <tr>\n",
       "      <th>4</th>\n",
       "      <td>GO:MF</td>\n",
       "      <td>GO:0000987</td>\n",
       "      <td>cis-regulatory region sequence-specific DNA bi...</td>\n",
       "      <td>0.001572</td>\n",
       "      <td>True</td>\n",
       "      <td>\"Binding to a specific upstream regulatory DNA...</td>\n",
       "      <td>1055</td>\n",
       "      <td>247</td>\n",
       "      <td>28</td>\n",
       "      <td>24485</td>\n",
       "      <td>0.113360</td>\n",
       "      <td>0.026540</td>\n",
       "      <td>oocyte_npm2a_down</td>\n",
       "      <td>[GO:0000976]</td>\n",
       "      <td>[ENSDARG00000002445, ENSDARG00000011582, ENSDA...</td>\n",
       "      <td>[[IBA], [IBA], [IBA], [IBA], [IBA], [IBA], [IB...</td>\n",
       "      <td>2.630927</td>\n",
       "      <td>2.803570</td>\n",
       "    </tr>\n",
       "    <tr>\n",
       "      <th>5</th>\n",
       "      <td>GO:CC</td>\n",
       "      <td>GO:0071944</td>\n",
       "      <td>cell periphery</td>\n",
       "      <td>0.003786</td>\n",
       "      <td>True</td>\n",
       "      <td>\"The part of a cell encompassing the cell cort...</td>\n",
       "      <td>3822</td>\n",
       "      <td>168</td>\n",
       "      <td>54</td>\n",
       "      <td>20566</td>\n",
       "      <td>0.321429</td>\n",
       "      <td>0.014129</td>\n",
       "      <td>oocyte_npm2a_up</td>\n",
       "      <td>[GO:0110165]</td>\n",
       "      <td>[ENSDARG00000005783, ENSDARG00000007219, ENSDA...</td>\n",
       "      <td>[[IBA], [IBA], [IBA], [IEA], [IEA], [IDA, IBA,...</td>\n",
       "      <td>1.729592</td>\n",
       "      <td>2.421807</td>\n",
       "    </tr>\n",
       "    <tr>\n",
       "      <th>6</th>\n",
       "      <td>GO:CC</td>\n",
       "      <td>GO:0071944</td>\n",
       "      <td>cell periphery</td>\n",
       "      <td>0.007781</td>\n",
       "      <td>True</td>\n",
       "      <td>\"The part of a cell encompassing the cell cort...</td>\n",
       "      <td>3822</td>\n",
       "      <td>273</td>\n",
       "      <td>78</td>\n",
       "      <td>20566</td>\n",
       "      <td>0.285714</td>\n",
       "      <td>0.020408</td>\n",
       "      <td>oocyte_mcm6l_down</td>\n",
       "      <td>[GO:0110165]</td>\n",
       "      <td>[ENSDARG00000001431, ENSDARG00000001710, ENSDA...</td>\n",
       "      <td>[[IBA], [IBA], [IBA], [IBA], [IBA], [IBA], [IB...</td>\n",
       "      <td>1.537415</td>\n",
       "      <td>2.108960</td>\n",
       "    </tr>\n",
       "    <tr>\n",
       "      <th>7</th>\n",
       "      <td>GO:BP</td>\n",
       "      <td>GO:0001867</td>\n",
       "      <td>complement activation, lectin pathway</td>\n",
       "      <td>0.008504</td>\n",
       "      <td>True</td>\n",
       "      <td>\"Any process involved in the activation of any...</td>\n",
       "      <td>19</td>\n",
       "      <td>154</td>\n",
       "      <td>4</td>\n",
       "      <td>21828</td>\n",
       "      <td>0.025974</td>\n",
       "      <td>0.210526</td>\n",
       "      <td>oocyte_mcm6l_up</td>\n",
       "      <td>[GO:0006956, GO:0045087]</td>\n",
       "      <td>[ENSDARG00000088745, ENSDARG00000089667, ENSDA...</td>\n",
       "      <td>[[IBA], [IBA], [IBA], [IBA]]</td>\n",
       "      <td>29.840055</td>\n",
       "      <td>2.070390</td>\n",
       "    </tr>\n",
       "    <tr>\n",
       "      <th>8</th>\n",
       "      <td>GO:BP</td>\n",
       "      <td>GO:0048251</td>\n",
       "      <td>elastic fiber assembly</td>\n",
       "      <td>0.012987</td>\n",
       "      <td>True</td>\n",
       "      <td>\"Assembly of the extracellular matrix fibers t...</td>\n",
       "      <td>21</td>\n",
       "      <td>154</td>\n",
       "      <td>4</td>\n",
       "      <td>21828</td>\n",
       "      <td>0.025974</td>\n",
       "      <td>0.190476</td>\n",
       "      <td>oocyte_mcm6l_up</td>\n",
       "      <td>[GO:0085029, GO:0097435]</td>\n",
       "      <td>[ENSDARG00000088745, ENSDARG00000089667, ENSDA...</td>\n",
       "      <td>[[IBA], [IBA], [IBA], [IBA]]</td>\n",
       "      <td>26.998145</td>\n",
       "      <td>1.886484</td>\n",
       "    </tr>\n",
       "    <tr>\n",
       "      <th>9</th>\n",
       "      <td>GO:MF</td>\n",
       "      <td>GO:0003700</td>\n",
       "      <td>DNA-binding transcription factor activity</td>\n",
       "      <td>0.022632</td>\n",
       "      <td>True</td>\n",
       "      <td>\"A transcription regulator activity that modul...</td>\n",
       "      <td>1843</td>\n",
       "      <td>247</td>\n",
       "      <td>37</td>\n",
       "      <td>24485</td>\n",
       "      <td>0.149798</td>\n",
       "      <td>0.020076</td>\n",
       "      <td>oocyte_npm2a_down</td>\n",
       "      <td>[GO:0140110]</td>\n",
       "      <td>[ENSDARG00000002445, ENSDARG00000011582, ENSDA...</td>\n",
       "      <td>[[IDA, IBA, IEA], [IBA], [IEA], [IEA], [IBA], ...</td>\n",
       "      <td>1.990121</td>\n",
       "      <td>1.645279</td>\n",
       "    </tr>\n",
       "    <tr>\n",
       "      <th>10</th>\n",
       "      <td>GO:MF</td>\n",
       "      <td>GO:0000977</td>\n",
       "      <td>RNA polymerase II transcription regulatory reg...</td>\n",
       "      <td>0.029319</td>\n",
       "      <td>True</td>\n",
       "      <td>\"Binding to a specific sequence of DNA that is...</td>\n",
       "      <td>1443</td>\n",
       "      <td>247</td>\n",
       "      <td>31</td>\n",
       "      <td>24485</td>\n",
       "      <td>0.125506</td>\n",
       "      <td>0.021483</td>\n",
       "      <td>oocyte_npm2a_down</td>\n",
       "      <td>[GO:0000976]</td>\n",
       "      <td>[ENSDARG00000002445, ENSDARG00000011582, ENSDA...</td>\n",
       "      <td>[[IBA, IEA], [IBA], [IBA, IEA], [IBA], [IBA], ...</td>\n",
       "      <td>2.129602</td>\n",
       "      <td>1.532847</td>\n",
       "    </tr>\n",
       "    <tr>\n",
       "      <th>11</th>\n",
       "      <td>GO:MF</td>\n",
       "      <td>GO:0005509</td>\n",
       "      <td>calcium ion binding</td>\n",
       "      <td>0.031684</td>\n",
       "      <td>True</td>\n",
       "      <td>\"Binding to a calcium ion (Ca2+).\" [GOC:ai]</td>\n",
       "      <td>856</td>\n",
       "      <td>183</td>\n",
       "      <td>18</td>\n",
       "      <td>24485</td>\n",
       "      <td>0.098361</td>\n",
       "      <td>0.021028</td>\n",
       "      <td>oocyte_npm2a_up</td>\n",
       "      <td>[GO:0046872]</td>\n",
       "      <td>[ENSDARG00000005783, ENSDARG00000007219, ENSDA...</td>\n",
       "      <td>[[IEA], [IEA], [IEA], [IEA], [IEA], [IEA], [IE...</td>\n",
       "      <td>2.813505</td>\n",
       "      <td>1.499154</td>\n",
       "    </tr>\n",
       "    <tr>\n",
       "      <th>12</th>\n",
       "      <td>GO:BP</td>\n",
       "      <td>GO:0007166</td>\n",
       "      <td>cell surface receptor signaling pathway</td>\n",
       "      <td>0.048560</td>\n",
       "      <td>True</td>\n",
       "      <td>\"A series of molecular signals initiated by ac...</td>\n",
       "      <td>1587</td>\n",
       "      <td>119</td>\n",
       "      <td>22</td>\n",
       "      <td>21828</td>\n",
       "      <td>0.184874</td>\n",
       "      <td>0.013863</td>\n",
       "      <td>oocyte_orc1_up</td>\n",
       "      <td>[GO:0007165]</td>\n",
       "      <td>[ENSDARG00000003420, ENSDARG00000018260, ENSDA...</td>\n",
       "      <td>[[IEA], [IMP, IBA], [IBA], [IEA], [IBA, IEA], ...</td>\n",
       "      <td>2.542803</td>\n",
       "      <td>1.313717</td>\n",
       "    </tr>\n",
       "    <tr>\n",
       "      <th>13</th>\n",
       "      <td>GO:MF</td>\n",
       "      <td>GO:0003823</td>\n",
       "      <td>antigen binding</td>\n",
       "      <td>0.048906</td>\n",
       "      <td>True</td>\n",
       "      <td>\"Binding to an antigen, any substance which is...</td>\n",
       "      <td>38</td>\n",
       "      <td>171</td>\n",
       "      <td>4</td>\n",
       "      <td>24485</td>\n",
       "      <td>0.023392</td>\n",
       "      <td>0.105263</td>\n",
       "      <td>oocyte_mcm6l_up</td>\n",
       "      <td>[GO:0005488]</td>\n",
       "      <td>[ENSDARG00000088745, ENSDARG00000089667, ENSDA...</td>\n",
       "      <td>[[IBA], [IBA], [IBA], [IBA]]</td>\n",
       "      <td>15.072330</td>\n",
       "      <td>1.310639</td>\n",
       "    </tr>\n",
       "    <tr>\n",
       "      <th>14</th>\n",
       "      <td>GO:MF</td>\n",
       "      <td>GO:0050998</td>\n",
       "      <td>nitric-oxide synthase binding</td>\n",
       "      <td>0.049684</td>\n",
       "      <td>True</td>\n",
       "      <td>\"Binding to nitric-oxide synthase.\" [GOC:ai]</td>\n",
       "      <td>2</td>\n",
       "      <td>247</td>\n",
       "      <td>2</td>\n",
       "      <td>24485</td>\n",
       "      <td>0.008097</td>\n",
       "      <td>1.000000</td>\n",
       "      <td>oocyte_npm2a_down</td>\n",
       "      <td>[GO:0019899]</td>\n",
       "      <td>[ENSDARG00000078725, ENSDARG00000105071]</td>\n",
       "      <td>[[IBA], [IBA]]</td>\n",
       "      <td>99.129555</td>\n",
       "      <td>1.303781</td>\n",
       "    </tr>\n",
       "  </tbody>\n",
       "</table>\n",
       "</div>"
      ],
      "text/plain": [
       "   source      native                                               name  \\\n",
       "0   GO:BP  GO:0030902                              hindbrain development   \n",
       "1   GO:BP  GO:0048856                   anatomical structure development   \n",
       "2   GO:BP  GO:0032502                              developmental process   \n",
       "3   GO:MF  GO:0000978  RNA polymerase II cis-regulatory region sequen...   \n",
       "4   GO:MF  GO:0000987  cis-regulatory region sequence-specific DNA bi...   \n",
       "5   GO:CC  GO:0071944                                     cell periphery   \n",
       "6   GO:CC  GO:0071944                                     cell periphery   \n",
       "7   GO:BP  GO:0001867              complement activation, lectin pathway   \n",
       "8   GO:BP  GO:0048251                             elastic fiber assembly   \n",
       "9   GO:MF  GO:0003700          DNA-binding transcription factor activity   \n",
       "10  GO:MF  GO:0000977  RNA polymerase II transcription regulatory reg...   \n",
       "11  GO:MF  GO:0005509                                calcium ion binding   \n",
       "12  GO:BP  GO:0007166            cell surface receptor signaling pathway   \n",
       "13  GO:MF  GO:0003823                                    antigen binding   \n",
       "14  GO:MF  GO:0050998                      nitric-oxide synthase binding   \n",
       "\n",
       "     p_value  significant                                        description  \\\n",
       "0   0.000311         True  \"The process whose specific outcome is the pro...   \n",
       "1   0.000611         True  \"The biological process whose specific outcome...   \n",
       "2   0.000612         True  \"A biological process whose specific outcome i...   \n",
       "3   0.001336         True  \"Binding to a specific upstream regulatory DNA...   \n",
       "4   0.001572         True  \"Binding to a specific upstream regulatory DNA...   \n",
       "5   0.003786         True  \"The part of a cell encompassing the cell cort...   \n",
       "6   0.007781         True  \"The part of a cell encompassing the cell cort...   \n",
       "7   0.008504         True  \"Any process involved in the activation of any...   \n",
       "8   0.012987         True  \"Assembly of the extracellular matrix fibers t...   \n",
       "9   0.022632         True  \"A transcription regulator activity that modul...   \n",
       "10  0.029319         True  \"Binding to a specific sequence of DNA that is...   \n",
       "11  0.031684         True        \"Binding to a calcium ion (Ca2+).\" [GOC:ai]   \n",
       "12  0.048560         True  \"A series of molecular signals initiated by ac...   \n",
       "13  0.048906         True  \"Binding to an antigen, any substance which is...   \n",
       "14  0.049684         True       \"Binding to nitric-oxide synthase.\" [GOC:ai]   \n",
       "\n",
       "    term_size  query_size  intersection_size  effective_domain_size  \\\n",
       "0          80         119                  7                  21828   \n",
       "1        3890         119                 44                  21828   \n",
       "2        4172         119                 46                  21828   \n",
       "3        1046         247                 28                  24485   \n",
       "4        1055         247                 28                  24485   \n",
       "5        3822         168                 54                  20566   \n",
       "6        3822         273                 78                  20566   \n",
       "7          19         154                  4                  21828   \n",
       "8          21         154                  4                  21828   \n",
       "9        1843         247                 37                  24485   \n",
       "10       1443         247                 31                  24485   \n",
       "11        856         183                 18                  24485   \n",
       "12       1587         119                 22                  21828   \n",
       "13         38         171                  4                  24485   \n",
       "14          2         247                  2                  24485   \n",
       "\n",
       "    precision    recall              query                   parents  \\\n",
       "0    0.058824  0.087500     oocyte_orc1_up  [GO:0007420, GO:0048856]   \n",
       "1    0.369748  0.011311     oocyte_orc1_up              [GO:0032502]   \n",
       "2    0.386555  0.011026     oocyte_orc1_up              [GO:0008150]   \n",
       "3    0.113360  0.026769  oocyte_npm2a_down  [GO:0000977, GO:0000987]   \n",
       "4    0.113360  0.026540  oocyte_npm2a_down              [GO:0000976]   \n",
       "5    0.321429  0.014129    oocyte_npm2a_up              [GO:0110165]   \n",
       "6    0.285714  0.020408  oocyte_mcm6l_down              [GO:0110165]   \n",
       "7    0.025974  0.210526    oocyte_mcm6l_up  [GO:0006956, GO:0045087]   \n",
       "8    0.025974  0.190476    oocyte_mcm6l_up  [GO:0085029, GO:0097435]   \n",
       "9    0.149798  0.020076  oocyte_npm2a_down              [GO:0140110]   \n",
       "10   0.125506  0.021483  oocyte_npm2a_down              [GO:0000976]   \n",
       "11   0.098361  0.021028    oocyte_npm2a_up              [GO:0046872]   \n",
       "12   0.184874  0.013863     oocyte_orc1_up              [GO:0007165]   \n",
       "13   0.023392  0.105263    oocyte_mcm6l_up              [GO:0005488]   \n",
       "14   0.008097  1.000000  oocyte_npm2a_down              [GO:0019899]   \n",
       "\n",
       "                                        intersections  \\\n",
       "0   [ENSDARG00000018260, ENSDARG00000020795, ENSDA...   \n",
       "1   [ENSDARG00000004954, ENSDARG00000005783, ENSDA...   \n",
       "2   [ENSDARG00000004954, ENSDARG00000005783, ENSDA...   \n",
       "3   [ENSDARG00000002445, ENSDARG00000011582, ENSDA...   \n",
       "4   [ENSDARG00000002445, ENSDARG00000011582, ENSDA...   \n",
       "5   [ENSDARG00000005783, ENSDARG00000007219, ENSDA...   \n",
       "6   [ENSDARG00000001431, ENSDARG00000001710, ENSDA...   \n",
       "7   [ENSDARG00000088745, ENSDARG00000089667, ENSDA...   \n",
       "8   [ENSDARG00000088745, ENSDARG00000089667, ENSDA...   \n",
       "9   [ENSDARG00000002445, ENSDARG00000011582, ENSDA...   \n",
       "10  [ENSDARG00000002445, ENSDARG00000011582, ENSDA...   \n",
       "11  [ENSDARG00000005783, ENSDARG00000007219, ENSDA...   \n",
       "12  [ENSDARG00000003420, ENSDARG00000018260, ENSDA...   \n",
       "13  [ENSDARG00000088745, ENSDARG00000089667, ENSDA...   \n",
       "14           [ENSDARG00000078725, ENSDARG00000105071]   \n",
       "\n",
       "                                            evidences  enrichment  \\\n",
       "0   [[IMP], [IMP], [IGI], [IMP], [IMP], [IGI], [IMP]]   16.050000   \n",
       "1   [[IMP, IGI], [IBA, IEA], [IBA], [IEA], [IMP, I...    2.074770   \n",
       "2   [[IMP, IGI], [IBA, IEA], [IBA], [IEA], [IMP, I...    2.022463   \n",
       "3   [[IBA], [IBA], [IBA], [IBA], [IBA], [IBA], [IB...    2.653564   \n",
       "4   [[IBA], [IBA], [IBA], [IBA], [IBA], [IBA], [IB...    2.630927   \n",
       "5   [[IBA], [IBA], [IBA], [IEA], [IEA], [IDA, IBA,...    1.729592   \n",
       "6   [[IBA], [IBA], [IBA], [IBA], [IBA], [IBA], [IB...    1.537415   \n",
       "7                        [[IBA], [IBA], [IBA], [IBA]]   29.840055   \n",
       "8                        [[IBA], [IBA], [IBA], [IBA]]   26.998145   \n",
       "9   [[IDA, IBA, IEA], [IBA], [IEA], [IEA], [IBA], ...    1.990121   \n",
       "10  [[IBA, IEA], [IBA], [IBA, IEA], [IBA], [IBA], ...    2.129602   \n",
       "11  [[IEA], [IEA], [IEA], [IEA], [IEA], [IEA], [IE...    2.813505   \n",
       "12  [[IEA], [IMP, IBA], [IBA], [IEA], [IBA, IEA], ...    2.542803   \n",
       "13                       [[IBA], [IBA], [IBA], [IBA]]   15.072330   \n",
       "14                                     [[IBA], [IBA]]   99.129555   \n",
       "\n",
       "    -log10 P-value  \n",
       "0         3.506966  \n",
       "1         3.214031  \n",
       "2         3.213457  \n",
       "3         2.874305  \n",
       "4         2.803570  \n",
       "5         2.421807  \n",
       "6         2.108960  \n",
       "7         2.070390  \n",
       "8         1.886484  \n",
       "9         1.645279  \n",
       "10        1.532847  \n",
       "11        1.499154  \n",
       "12        1.313717  \n",
       "13        1.310639  \n",
       "14        1.303781  "
      ]
     },
     "execution_count": 51,
     "metadata": {},
     "output_type": "execute_result"
    }
   ],
   "source": [
    "GO_output.loc[(GO_output['-log10 P-value'] > 1.3)]"
   ]
  },
  {
   "cell_type": "code",
   "execution_count": 41,
   "metadata": {},
   "outputs": [
    {
     "data": {
      "text/plain": [
       "1.3010299956639813"
      ]
     },
     "execution_count": 41,
     "metadata": {},
     "output_type": "execute_result"
    }
   ],
   "source": [
    "-np.log10(0.05)"
   ]
  },
  {
   "cell_type": "code",
   "execution_count": 42,
   "metadata": {},
   "outputs": [
    {
     "data": {
      "text/plain": [
       "2.0"
      ]
     },
     "execution_count": 42,
     "metadata": {},
     "output_type": "execute_result"
    }
   ],
   "source": [
    "-np.log10(0.01)"
   ]
  },
  {
   "cell_type": "code",
   "execution_count": null,
   "metadata": {},
   "outputs": [],
   "source": []
  }
 ],
 "metadata": {
  "kernelspec": {
   "display_name": "Python [conda env:root] *",
   "language": "python",
   "name": "conda-root-py"
  },
  "language_info": {
   "codemirror_mode": {
    "name": "ipython",
    "version": 3
   },
   "file_extension": ".py",
   "mimetype": "text/x-python",
   "name": "python",
   "nbconvert_exporter": "python",
   "pygments_lexer": "ipython3",
   "version": "3.8.5"
  },
  "toc-autonumbering": true
 },
 "nbformat": 4,
 "nbformat_minor": 4
}
