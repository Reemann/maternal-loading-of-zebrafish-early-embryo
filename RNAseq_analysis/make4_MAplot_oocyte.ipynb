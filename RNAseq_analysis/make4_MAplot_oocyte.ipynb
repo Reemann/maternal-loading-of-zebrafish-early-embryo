{
 "cells": [
  {
   "cell_type": "markdown",
   "metadata": {},
   "source": [
    "# oocyte diff genes"
   ]
  },
  {
   "cell_type": "code",
   "execution_count": 2,
   "metadata": {},
   "outputs": [],
   "source": [
    "import subprocess\n",
    "import os\n",
    "import numpy as np\n",
    "import pandas as pd\n",
    "import matplotlib as mpl\n",
    "mpl.rcParams['pdf.fonttype'] = 42\n",
    "mpl.rcParams['ps.fonttype'] = 42\n",
    "mpl.rcParams['font.sans-serif'] = 'Arial'\n",
    "import matplotlib.pyplot as plt\n",
    "import seaborn as sns\n",
    "from pprint import pprint\n",
    "from matplotlib.backends.backend_pdf import PdfPages\n",
    "%matplotlib inline"
   ]
  },
  {
   "cell_type": "code",
   "execution_count": 6,
   "metadata": {},
   "outputs": [],
   "source": [
    "stage = 'oocyte'\n",
    "gene = 'npm2a'"
   ]
  },
  {
   "cell_type": "code",
   "execution_count": 9,
   "metadata": {},
   "outputs": [
    {
     "name": "stdout",
     "output_type": "stream",
     "text": [
      "29673\n",
      "1459 1579 26635\n"
     ]
    }
   ],
   "source": [
    "diff_gene = pd.read_table(f'/mnt/Storage/home/wangyiman/maternal_loading/1.private_data/genes4_ko_analysis/RNAseq/diff_byTrans/WT_VS_{gene}_oocyte_ensGene.diff',\n",
    "                                               comment = '#', header = None, sep = '\\t'\n",
    "                                              )\n",
    "diff_gene.columns = ['GeneSymbol','GeneName','GFOLD(0.01)','E-FDR','log2fdc','1stRPKM','2ndRPKM']\n",
    "diff_gene = diff_gene.loc[(diff_gene['1stRPKM'] > 0) & (diff_gene['2ndRPKM'] > 0)]\n",
    "print(diff_gene.shape[0])\n",
    "diff_gene_ls = {}\n",
    "M = np.log2(diff_gene['2ndRPKM']) - np.log2(diff_gene['1stRPKM'])\n",
    "diff_gene_ls['up'] = diff_gene.loc[M > 2]['GeneSymbol'].str.split(\".\", expand = True)[0].tolist()\n",
    "diff_gene_ls['down'] = diff_gene.loc[M < -2]['GeneSymbol'].str.split(\".\", expand = True)[0].tolist()\n",
    "diff_gene_ls['unchanged'] = diff_gene.loc[(M >= -2) & (M <= 2)]['GeneSymbol'].str.split(\".\", expand = True)[0].tolist()\n",
    "print(len(diff_gene_ls['up']), len(diff_gene_ls['down']), len(diff_gene_ls['unchanged']))"
   ]
  },
  {
   "cell_type": "code",
   "execution_count": 11,
   "metadata": {},
   "outputs": [],
   "source": [
    "pd.DataFrame(diff_gene_ls['up']).to_csv(\n",
    "        f'/mnt/Storage/home/wangyiman/maternal_loading/1.private_data/genes4_ko_analysis/RNAseq/analysis/up_{stage}/{gene}_up_{stage}.trans_clean.txt',\n",
    "        sep = \"\\t\", index = False, header = False\n",
    "    )\n",
    "\n",
    "pd.DataFrame(diff_gene_ls['down']).to_csv(\n",
    "        f'/mnt/Storage/home/wangyiman/maternal_loading/1.private_data/genes4_ko_analysis/RNAseq/analysis/down_{stage}/{gene}_down_{stage}.trans_clean.txt',\n",
    "        sep = \"\\t\", index = False, header = False\n",
    "    )\n",
    "\n",
    "pd.DataFrame(diff_gene_ls['unchanged']).to_csv(\n",
    "        f'/mnt/Storage/home/wangyiman/maternal_loading/1.private_data/genes4_ko_analysis/RNAseq/analysis/unchanged_{stage}/{gene}_unchanged_{stage}.trans_clean.txt',\n",
    "        sep = \"\\t\", index = False, header = False\n",
    "    )"
   ]
  },
  {
   "cell_type": "code",
   "execution_count": null,
   "metadata": {},
   "outputs": [],
   "source": []
  },
  {
   "cell_type": "code",
   "execution_count": null,
   "metadata": {},
   "outputs": [],
   "source": []
  },
  {
   "cell_type": "code",
   "execution_count": null,
   "metadata": {},
   "outputs": [],
   "source": []
  }
 ],
 "metadata": {
  "kernelspec": {
   "display_name": "Python [conda env:root] *",
   "language": "python",
   "name": "conda-root-py"
  },
  "language_info": {
   "codemirror_mode": {
    "name": "ipython",
    "version": 3
   },
   "file_extension": ".py",
   "mimetype": "text/x-python",
   "name": "python",
   "nbconvert_exporter": "python",
   "pygments_lexer": "ipython3",
   "version": "3.8.5"
  }
 },
 "nbformat": 4,
 "nbformat_minor": 4
}
