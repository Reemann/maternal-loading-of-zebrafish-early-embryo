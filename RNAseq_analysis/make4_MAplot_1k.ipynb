{
 "cells": [
  {
   "cell_type": "markdown",
   "metadata": {},
   "source": [
    "# MA plot (1k-cell, np, 3l, 6l, orc1)"
   ]
  },
  {
   "cell_type": "code",
   "execution_count": 16,
   "metadata": {},
   "outputs": [],
   "source": [
    "import subprocess\n",
    "import os\n",
    "import numpy as np\n",
    "import pandas as pd\n",
    "import matplotlib as mpl\n",
    "mpl.rcParams['pdf.fonttype'] = 42\n",
    "mpl.rcParams['ps.fonttype'] = 42\n",
    "mpl.rcParams['font.sans-serif'] = 'Arial'\n",
    "import matplotlib.pyplot as plt\n",
    "import seaborn as sns\n",
    "from pprint import pprint\n",
    "from matplotlib.backends.backend_pdf import PdfPages\n",
    "%matplotlib inline"
   ]
  },
  {
   "cell_type": "code",
   "execution_count": 109,
   "metadata": {},
   "outputs": [],
   "source": [
    "stage = '1k'\n",
    "diff_gene_dict = {}\n",
    "diff_gene_ls_dict = {}"
   ]
  },
  {
   "cell_type": "code",
   "execution_count": 110,
   "metadata": {},
   "outputs": [],
   "source": [
    "diff_gene_dict[stage] = {}"
   ]
  },
  {
   "cell_type": "code",
   "execution_count": 111,
   "metadata": {},
   "outputs": [],
   "source": [
    "diff_gene_ls_dict[stage] = {}"
   ]
  },
  {
   "cell_type": "code",
   "execution_count": 112,
   "metadata": {},
   "outputs": [
    {
     "name": "stdout",
     "output_type": "stream",
     "text": [
      "32418\n",
      "1562 770\n",
      "38225\n",
      "260 438\n",
      "41416\n",
      "222 226\n",
      "34916\n",
      "333 427\n"
     ]
    }
   ],
   "source": [
    "for gene in ['mcm3l', 'mcm6l', 'npm2a', 'orc1'] :\n",
    "    diff_gene_dict[stage][gene] = pd.read_table(f'/mnt/Storage/home/wangyiman/maternal_loading/1.private_data/genes4_ko_analysis/RNAseq/diff_byTrans/WT_VS_{gene}_{stage}_ensGene.diff',\n",
    "                                                   comment = '#', header = None, sep = '\\t'\n",
    "                                                  )\n",
    "    diff_gene_dict[stage][gene].columns = ['GeneSymbol','GeneName','GFOLD(0.01)','E-FDR','log2fdc','1stRPKM','2ndRPKM']\n",
    "    diff_gene_dict[stage][gene] = diff_gene_dict[stage][gene].loc[(diff_gene_dict[stage][gene]['1stRPKM'] > 0.58) | (diff_gene_dict[stage][gene]['2ndRPKM'] > 0)]\n",
    "    print(diff_gene_dict[stage][gene].shape[0])\n",
    "    diff_gene_ls_dict[stage][gene] = {}\n",
    "    diff_gene_ls_dict[stage][gene]['up'] = diff_gene_dict[stage][gene].loc[diff_gene_dict[stage][gene]['GFOLD(0.01)'] > 0.58]['GeneSymbol'].str.split(\".\", expand = True)[0].tolist()\n",
    "    diff_gene_ls_dict[stage][gene]['down'] = diff_gene_dict[stage][gene].loc[diff_gene_dict[stage][gene]['GFOLD(0.01)'] < -0.58]['GeneSymbol'].str.split(\".\", expand = True)[0].tolist()\n",
    "    print(len(diff_gene_ls_dict[stage][gene]['up']), len(diff_gene_ls_dict[stage][gene]['down']))"
   ]
  },
  {
   "cell_type": "code",
   "execution_count": 113,
   "metadata": {},
   "outputs": [
    {
     "data": {
      "text/html": [
       "<div>\n",
       "<style scoped>\n",
       "    .dataframe tbody tr th:only-of-type {\n",
       "        vertical-align: middle;\n",
       "    }\n",
       "\n",
       "    .dataframe tbody tr th {\n",
       "        vertical-align: top;\n",
       "    }\n",
       "\n",
       "    .dataframe thead th {\n",
       "        text-align: right;\n",
       "    }\n",
       "</style>\n",
       "<table border=\"1\" class=\"dataframe\">\n",
       "  <thead>\n",
       "    <tr style=\"text-align: right;\">\n",
       "      <th></th>\n",
       "      <th>GeneSymbol</th>\n",
       "      <th>GeneName</th>\n",
       "      <th>GFOLD(0.01)</th>\n",
       "      <th>E-FDR</th>\n",
       "      <th>log2fdc</th>\n",
       "      <th>1stRPKM</th>\n",
       "      <th>2ndRPKM</th>\n",
       "    </tr>\n",
       "  </thead>\n",
       "  <tbody>\n",
       "    <tr>\n",
       "      <th>0</th>\n",
       "      <td>ENSDART00000000004.5</td>\n",
       "      <td>ENSDARG00000000001.6</td>\n",
       "      <td>0.0</td>\n",
       "      <td>1.0</td>\n",
       "      <td>-0.112295</td>\n",
       "      <td>9.106650</td>\n",
       "      <td>6.951060</td>\n",
       "    </tr>\n",
       "    <tr>\n",
       "      <th>1</th>\n",
       "      <td>ENSDART00000000005.7</td>\n",
       "      <td>ENSDARG00000000002.8</td>\n",
       "      <td>0.0</td>\n",
       "      <td>1.0</td>\n",
       "      <td>1.106380</td>\n",
       "      <td>0.190332</td>\n",
       "      <td>0.252518</td>\n",
       "    </tr>\n",
       "    <tr>\n",
       "      <th>2</th>\n",
       "      <td>ENSDART00000000042.11</td>\n",
       "      <td>ENSDARG00000033231.9</td>\n",
       "      <td>0.0</td>\n",
       "      <td>1.0</td>\n",
       "      <td>0.474132</td>\n",
       "      <td>104.780000</td>\n",
       "      <td>103.939000</td>\n",
       "    </tr>\n",
       "    <tr>\n",
       "      <th>3</th>\n",
       "      <td>ENSDART00000000069.8</td>\n",
       "      <td>ENSDARG00000000068.9</td>\n",
       "      <td>0.0</td>\n",
       "      <td>1.0</td>\n",
       "      <td>0.555841</td>\n",
       "      <td>42.539900</td>\n",
       "      <td>49.402100</td>\n",
       "    </tr>\n",
       "    <tr>\n",
       "      <th>4</th>\n",
       "      <td>ENSDART00000000070.7</td>\n",
       "      <td>ENSDARG00000000069.7</td>\n",
       "      <td>0.0</td>\n",
       "      <td>1.0</td>\n",
       "      <td>-0.292044</td>\n",
       "      <td>52.653600</td>\n",
       "      <td>34.325700</td>\n",
       "    </tr>\n",
       "    <tr>\n",
       "      <th>...</th>\n",
       "      <td>...</td>\n",
       "      <td>...</td>\n",
       "      <td>...</td>\n",
       "      <td>...</td>\n",
       "      <td>...</td>\n",
       "      <td>...</td>\n",
       "      <td>...</td>\n",
       "    </tr>\n",
       "    <tr>\n",
       "      <th>65823</th>\n",
       "      <td>ENSDART00000194986.1</td>\n",
       "      <td>ENSDARG00000117236.1</td>\n",
       "      <td>0.0</td>\n",
       "      <td>1.0</td>\n",
       "      <td>0.312557</td>\n",
       "      <td>11.048600</td>\n",
       "      <td>11.812800</td>\n",
       "    </tr>\n",
       "    <tr>\n",
       "      <th>65828</th>\n",
       "      <td>ENSDART00000194991.1</td>\n",
       "      <td>ENSDARG00000117335.1</td>\n",
       "      <td>0.0</td>\n",
       "      <td>1.0</td>\n",
       "      <td>0.637585</td>\n",
       "      <td>1.011390</td>\n",
       "      <td>1.323580</td>\n",
       "    </tr>\n",
       "    <tr>\n",
       "      <th>65831</th>\n",
       "      <td>ENSDART00000194994.1</td>\n",
       "      <td>ENSDARG00000117676.1</td>\n",
       "      <td>0.0</td>\n",
       "      <td>1.0</td>\n",
       "      <td>0.608281</td>\n",
       "      <td>0.517894</td>\n",
       "      <td>0.824085</td>\n",
       "    </tr>\n",
       "    <tr>\n",
       "      <th>65834</th>\n",
       "      <td>ENSDART00000194998.1</td>\n",
       "      <td>ENSDARG00000117398.1</td>\n",
       "      <td>0.0</td>\n",
       "      <td>1.0</td>\n",
       "      <td>1.150750</td>\n",
       "      <td>0.384191</td>\n",
       "      <td>0.391636</td>\n",
       "    </tr>\n",
       "    <tr>\n",
       "      <th>65839</th>\n",
       "      <td>ENSDART00000195003.1</td>\n",
       "      <td>ENSDARG00000117449.1</td>\n",
       "      <td>0.0</td>\n",
       "      <td>1.0</td>\n",
       "      <td>1.633740</td>\n",
       "      <td>0.000000</td>\n",
       "      <td>0.059253</td>\n",
       "    </tr>\n",
       "  </tbody>\n",
       "</table>\n",
       "<p>32418 rows × 7 columns</p>\n",
       "</div>"
      ],
      "text/plain": [
       "                  GeneSymbol              GeneName  GFOLD(0.01)  E-FDR  \\\n",
       "0       ENSDART00000000004.5  ENSDARG00000000001.6          0.0    1.0   \n",
       "1       ENSDART00000000005.7  ENSDARG00000000002.8          0.0    1.0   \n",
       "2      ENSDART00000000042.11  ENSDARG00000033231.9          0.0    1.0   \n",
       "3       ENSDART00000000069.8  ENSDARG00000000068.9          0.0    1.0   \n",
       "4       ENSDART00000000070.7  ENSDARG00000000069.7          0.0    1.0   \n",
       "...                      ...                   ...          ...    ...   \n",
       "65823   ENSDART00000194986.1  ENSDARG00000117236.1          0.0    1.0   \n",
       "65828   ENSDART00000194991.1  ENSDARG00000117335.1          0.0    1.0   \n",
       "65831   ENSDART00000194994.1  ENSDARG00000117676.1          0.0    1.0   \n",
       "65834   ENSDART00000194998.1  ENSDARG00000117398.1          0.0    1.0   \n",
       "65839   ENSDART00000195003.1  ENSDARG00000117449.1          0.0    1.0   \n",
       "\n",
       "        log2fdc     1stRPKM     2ndRPKM  \n",
       "0     -0.112295    9.106650    6.951060  \n",
       "1      1.106380    0.190332    0.252518  \n",
       "2      0.474132  104.780000  103.939000  \n",
       "3      0.555841   42.539900   49.402100  \n",
       "4     -0.292044   52.653600   34.325700  \n",
       "...         ...         ...         ...  \n",
       "65823  0.312557   11.048600   11.812800  \n",
       "65828  0.637585    1.011390    1.323580  \n",
       "65831  0.608281    0.517894    0.824085  \n",
       "65834  1.150750    0.384191    0.391636  \n",
       "65839  1.633740    0.000000    0.059253  \n",
       "\n",
       "[32418 rows x 7 columns]"
      ]
     },
     "execution_count": 113,
     "metadata": {},
     "output_type": "execute_result"
    }
   ],
   "source": [
    "diff_gene_dict['1k']['mcm3l']"
   ]
  },
  {
   "cell_type": "code",
   "execution_count": 52,
   "metadata": {},
   "outputs": [
    {
     "data": {
      "text/plain": [
       "[('ENSDART00000164359.1', 'ENSDARG00000099104.1'),\n",
       " ('ENSDART00000158290.1', 'ENSDARG00000099104.1'),\n",
       " ('ENSDART00000157701.1', 'ENSDARG00000099104.1'),\n",
       " ('ENSDART00000167898.1', 'ENSDARG00000099104.1'),\n",
       " ('ENSDART00000166393.1', 'ENSDARG00000102407.2')]"
      ]
     },
     "execution_count": 52,
     "metadata": {},
     "output_type": "execute_result"
    }
   ],
   "source": [
    "import os\n",
    "danRer11_2_transcript_to_gene = {}\n",
    "\n",
    "with open(os.path.expanduser('~wangwen/source/bySpecies/danRer11_2/danRer11_2.ensGene.genePredExt')) as fhd:\n",
    "    for line in fhd:\n",
    "        line = line.strip().split()\n",
    "        danRer11_2_transcript_to_gene[line[0]]= line[11]\n",
    "\n",
    "list(danRer11_2_transcript_to_gene.items())[:5]"
   ]
  },
  {
   "cell_type": "markdown",
   "metadata": {},
   "source": [
    "### nature 2013"
   ]
  },
  {
   "cell_type": "code",
   "execution_count": 53,
   "metadata": {
    "ExecuteTime": {
     "end_time": "2021-04-10T03:33:56.150442Z",
     "start_time": "2021-04-10T03:33:55.789667Z"
    }
   },
   "outputs": [
    {
     "data": {
      "text/html": [
       "<div>\n",
       "<style scoped>\n",
       "    .dataframe tbody tr th:only-of-type {\n",
       "        vertical-align: middle;\n",
       "    }\n",
       "\n",
       "    .dataframe tbody tr th {\n",
       "        vertical-align: top;\n",
       "    }\n",
       "\n",
       "    .dataframe thead th {\n",
       "        text-align: right;\n",
       "    }\n",
       "</style>\n",
       "<table border=\"1\" class=\"dataframe\">\n",
       "  <thead>\n",
       "    <tr style=\"text-align: right;\">\n",
       "      <th></th>\n",
       "      <th>Gene_id</th>\n",
       "      <th>Symbol</th>\n",
       "      <th>Description</th>\n",
       "      <th>Adult_tissue_count</th>\n",
       "      <th>Meta_gene</th>\n",
       "      <th>Maternal_contr</th>\n",
       "      <th>Exon_length</th>\n",
       "      <th>Masked_intron_length</th>\n",
       "      <th>WT4_exon_rpkm</th>\n",
       "      <th>WT4_intron_rpkm</th>\n",
       "      <th>...</th>\n",
       "      <th>NS4_down</th>\n",
       "      <th>P4_down</th>\n",
       "      <th>PN4_down</th>\n",
       "      <th>PS4_down</th>\n",
       "      <th>PNS4_down</th>\n",
       "      <th>N6_down</th>\n",
       "      <th>NS6_down</th>\n",
       "      <th>P6_down</th>\n",
       "      <th>PS6_down</th>\n",
       "      <th>PNS6_down</th>\n",
       "    </tr>\n",
       "  </thead>\n",
       "  <tbody>\n",
       "    <tr>\n",
       "      <th>0</th>\n",
       "      <td>ENSDARG00000000001</td>\n",
       "      <td>slc35a5</td>\n",
       "      <td>solute carrier family 35, member A5</td>\n",
       "      <td>NaN</td>\n",
       "      <td>.</td>\n",
       "      <td>M</td>\n",
       "      <td>2478</td>\n",
       "      <td>4255</td>\n",
       "      <td>8.914</td>\n",
       "      <td>1.404</td>\n",
       "      <td>...</td>\n",
       "      <td>.</td>\n",
       "      <td>.</td>\n",
       "      <td>.</td>\n",
       "      <td>.</td>\n",
       "      <td>.</td>\n",
       "      <td>.</td>\n",
       "      <td>.</td>\n",
       "      <td>.</td>\n",
       "      <td>.</td>\n",
       "      <td>.</td>\n",
       "    </tr>\n",
       "    <tr>\n",
       "      <th>1</th>\n",
       "      <td>ENSDARG00000000002</td>\n",
       "      <td>ccdc80</td>\n",
       "      <td>coiled-coil domain containing 80</td>\n",
       "      <td>NaN</td>\n",
       "      <td>.</td>\n",
       "      <td>Z</td>\n",
       "      <td>3175</td>\n",
       "      <td>12250</td>\n",
       "      <td>0.232</td>\n",
       "      <td>0.000</td>\n",
       "      <td>...</td>\n",
       "      <td>NaN</td>\n",
       "      <td>NaN</td>\n",
       "      <td>NaN</td>\n",
       "      <td>NaN</td>\n",
       "      <td>NaN</td>\n",
       "      <td>NaN</td>\n",
       "      <td>NaN</td>\n",
       "      <td>NaN</td>\n",
       "      <td>NaN</td>\n",
       "      <td>NaN</td>\n",
       "    </tr>\n",
       "    <tr>\n",
       "      <th>2</th>\n",
       "      <td>ENSDARG00000000018</td>\n",
       "      <td>nrf1</td>\n",
       "      <td>nuclear respiratory factor 1</td>\n",
       "      <td>8.0</td>\n",
       "      <td>.</td>\n",
       "      <td>M</td>\n",
       "      <td>3074</td>\n",
       "      <td>13354</td>\n",
       "      <td>77.050</td>\n",
       "      <td>0.196</td>\n",
       "      <td>...</td>\n",
       "      <td>.</td>\n",
       "      <td>.</td>\n",
       "      <td>.</td>\n",
       "      <td>.</td>\n",
       "      <td>.</td>\n",
       "      <td>X</td>\n",
       "      <td>X</td>\n",
       "      <td>.</td>\n",
       "      <td>.</td>\n",
       "      <td>X</td>\n",
       "    </tr>\n",
       "    <tr>\n",
       "      <th>3</th>\n",
       "      <td>ENSDARG00000000019</td>\n",
       "      <td>ube2h</td>\n",
       "      <td>ubiquitin-conjugating enzyme E2H (UBC8 homolog...</td>\n",
       "      <td>8.0</td>\n",
       "      <td>.</td>\n",
       "      <td>M</td>\n",
       "      <td>3659</td>\n",
       "      <td>27485</td>\n",
       "      <td>37.676</td>\n",
       "      <td>0.217</td>\n",
       "      <td>...</td>\n",
       "      <td>.</td>\n",
       "      <td>.</td>\n",
       "      <td>.</td>\n",
       "      <td>.</td>\n",
       "      <td>.</td>\n",
       "      <td>X</td>\n",
       "      <td>X</td>\n",
       "      <td>.</td>\n",
       "      <td>.</td>\n",
       "      <td>X</td>\n",
       "    </tr>\n",
       "    <tr>\n",
       "      <th>4</th>\n",
       "      <td>ENSDARG00000000068</td>\n",
       "      <td>slc9a3r1</td>\n",
       "      <td>solute carrier family 9 (sodium/hydrogen excha...</td>\n",
       "      <td>8.0</td>\n",
       "      <td>.</td>\n",
       "      <td>M</td>\n",
       "      <td>2458</td>\n",
       "      <td>25261</td>\n",
       "      <td>31.587</td>\n",
       "      <td>0.003</td>\n",
       "      <td>...</td>\n",
       "      <td>.</td>\n",
       "      <td>.</td>\n",
       "      <td>.</td>\n",
       "      <td>.</td>\n",
       "      <td>.</td>\n",
       "      <td>.</td>\n",
       "      <td>.</td>\n",
       "      <td>.</td>\n",
       "      <td>.</td>\n",
       "      <td>.</td>\n",
       "    </tr>\n",
       "  </tbody>\n",
       "</table>\n",
       "<p>5 rows × 34 columns</p>\n",
       "</div>"
      ],
      "text/plain": [
       "              Gene_id    Symbol  \\\n",
       "0  ENSDARG00000000001   slc35a5   \n",
       "1  ENSDARG00000000002    ccdc80   \n",
       "2  ENSDARG00000000018      nrf1   \n",
       "3  ENSDARG00000000019     ube2h   \n",
       "4  ENSDARG00000000068  slc9a3r1   \n",
       "\n",
       "                                         Description  Adult_tissue_count  \\\n",
       "0               solute carrier family 35, member A5                  NaN   \n",
       "1                  coiled-coil domain containing 80                  NaN   \n",
       "2                      nuclear respiratory factor 1                  8.0   \n",
       "3  ubiquitin-conjugating enzyme E2H (UBC8 homolog...                 8.0   \n",
       "4  solute carrier family 9 (sodium/hydrogen excha...                 8.0   \n",
       "\n",
       "  Meta_gene Maternal_contr  Exon_length  Masked_intron_length  WT4_exon_rpkm  \\\n",
       "0         .              M         2478                  4255          8.914   \n",
       "1         .              Z         3175                 12250          0.232   \n",
       "2         .              M         3074                 13354         77.050   \n",
       "3         .              M         3659                 27485         37.676   \n",
       "4         .              M         2458                 25261         31.587   \n",
       "\n",
       "   WT4_intron_rpkm  ...  NS4_down  P4_down  PN4_down  PS4_down  PNS4_down  \\\n",
       "0            1.404  ...         .        .         .         .          .   \n",
       "1            0.000  ...       NaN      NaN       NaN       NaN        NaN   \n",
       "2            0.196  ...         .        .         .         .          .   \n",
       "3            0.217  ...         .        .         .         .          .   \n",
       "4            0.003  ...         .        .         .         .          .   \n",
       "\n",
       "   N6_down  NS6_down P6_down PS6_down PNS6_down  \n",
       "0        .         .       .        .         .  \n",
       "1      NaN       NaN     NaN      NaN       NaN  \n",
       "2        X         X       .        .         X  \n",
       "3        X         X       .        .         X  \n",
       "4        .         .       .        .         .  \n",
       "\n",
       "[5 rows x 34 columns]"
      ]
     },
     "execution_count": 53,
     "metadata": {},
     "output_type": "execute_result"
    }
   ],
   "source": [
    "nature_2013_genes = pd.read_csv(\n",
    "    '/mnt/Storage/home/wangwen/project/fitCR/source/nature_2013_nature12632/41586_2013_BFnature12632_MOESM30_ESM.txt',\n",
    "    skiprows=23,sep='\\t')\n",
    "nature_2013_genes.head()"
   ]
  },
  {
   "cell_type": "code",
   "execution_count": 54,
   "metadata": {
    "ExecuteTime": {
     "end_time": "2021-04-10T03:34:00.391121Z",
     "start_time": "2021-04-10T03:33:58.384647Z"
    }
   },
   "outputs": [
    {
     "name": "stdout",
     "output_type": "stream",
     "text": [
      "269\n"
     ]
    }
   ],
   "source": [
    "first_wave_genes = set()\n",
    "for index, row in nature_2013_genes.iterrows():\n",
    "    if row['First_wave_5rpkm'] == 'X':\n",
    "        first_wave_genes.add(row['Gene_id'])\n",
    "print(len(first_wave_genes))\n"
   ]
  },
  {
   "cell_type": "code",
   "execution_count": 55,
   "metadata": {
    "ExecuteTime": {
     "end_time": "2021-04-10T03:34:00.605894Z",
     "start_time": "2021-04-10T03:34:00.560268Z"
    }
   },
   "outputs": [
    {
     "name": "stdout",
     "output_type": "stream",
     "text": [
      "196\n"
     ]
    }
   ],
   "source": [
    "first_wave_genes_danRer11_2 = first_wave_genes & set(\n",
    "    [x.split('.')[0] for x in danRer11_2_transcript_to_gene.values()])\n",
    "print(len(first_wave_genes_danRer11_2))\n"
   ]
  },
  {
   "cell_type": "code",
   "execution_count": 56,
   "metadata": {
    "ExecuteTime": {
     "end_time": "2021-04-10T03:34:00.732851Z",
     "start_time": "2021-04-10T03:34:00.729718Z"
    }
   },
   "outputs": [],
   "source": [
    "with open('/mnt/Storage/home/wangyiman/maternal_loading/2.public_data/analysis_embryoExon_tissueExon/public_ZGA_genes/first_wave_genes_danRer11_2.txt', 'w') as fhd:\n",
    "    for g in first_wave_genes_danRer11_2:\n",
    "        fhd.write(g+'\\n')\n"
   ]
  },
  {
   "cell_type": "markdown",
   "metadata": {},
   "source": [
    "### earlyZGA genes (cell rep 2014)"
   ]
  },
  {
   "cell_type": "code",
   "execution_count": 57,
   "metadata": {
    "ExecuteTime": {
     "end_time": "2021-04-10T03:34:25.575728Z",
     "start_time": "2021-04-10T03:34:25.517867Z"
    }
   },
   "outputs": [
    {
     "name": "stdout",
     "output_type": "stream",
     "text": [
      "342\n"
     ]
    }
   ],
   "source": [
    "import os\n",
    "earlyGA_genes = set(pd.read_csv(os.path.expanduser('/mnt/Storage/home/wangwen/project/fitCR/source/cellrep2014_4sUTP/genelist.txt'),header=None)[0])\n",
    "earlyGA_genes_danRer11_2 =  earlyGA_genes & set(\n",
    "    [x.split('.')[0] for x in danRer11_2_transcript_to_gene.values()])\n",
    "print(len(earlyGA_genes_danRer11_2))\n"
   ]
  },
  {
   "cell_type": "code",
   "execution_count": 58,
   "metadata": {
    "ExecuteTime": {
     "end_time": "2021-04-10T03:34:26.074477Z",
     "start_time": "2021-04-10T03:34:26.058558Z"
    }
   },
   "outputs": [],
   "source": [
    "with open('/mnt/Storage/home/wangyiman/maternal_loading/2.public_data/analysis_embryoExon_tissueExon/public_ZGA_genes/earlyZGA_genes_danRer11_2.txt', 'w') as fhd:\n",
    "    for g in earlyGA_genes_danRer11_2:\n",
    "        fhd.write(g+'\\n')\n"
   ]
  },
  {
   "cell_type": "markdown",
   "metadata": {},
   "source": [
    "### zygotic specific"
   ]
  },
  {
   "cell_type": "code",
   "execution_count": 59,
   "metadata": {},
   "outputs": [],
   "source": [
    "zygotic_specific=set()\n",
    "with open(os.path.expanduser('/mnt/Storage/home/wangwen/project/zebrafish_allelic/source/dev_095091_zygote_specific_gene.txt')) as fhd:\n",
    "    for line in fhd:\n",
    "        zygotic_specific.add(line.strip())\n",
    "zygotic_specific_danRer11_2 = zygotic_specific & set(\t\n",
    "    [x.split('.')[0] for x in danRer11_2_transcript_to_gene.values()])"
   ]
  },
  {
   "cell_type": "code",
   "execution_count": 60,
   "metadata": {
    "tags": []
   },
   "outputs": [
    {
     "name": "stdout",
     "output_type": "stream",
     "text": [
      "603\n"
     ]
    }
   ],
   "source": [
    "gene_ZGA = first_wave_genes_danRer11_2 | earlyGA_genes_danRer11_2 | zygotic_specific_danRer11_2\n",
    "print(len(gene_ZGA))"
   ]
  },
  {
   "cell_type": "code",
   "execution_count": 62,
   "metadata": {},
   "outputs": [
    {
     "data": {
      "text/html": [
       "<div>\n",
       "<style scoped>\n",
       "    .dataframe tbody tr th:only-of-type {\n",
       "        vertical-align: middle;\n",
       "    }\n",
       "\n",
       "    .dataframe tbody tr th {\n",
       "        vertical-align: top;\n",
       "    }\n",
       "\n",
       "    .dataframe thead th {\n",
       "        text-align: right;\n",
       "    }\n",
       "</style>\n",
       "<table border=\"1\" class=\"dataframe\">\n",
       "  <thead>\n",
       "    <tr style=\"text-align: right;\">\n",
       "      <th></th>\n",
       "      <th>transcript_id</th>\n",
       "      <th>gene_id</th>\n",
       "      <th>gene_symbol</th>\n",
       "    </tr>\n",
       "  </thead>\n",
       "  <tbody>\n",
       "    <tr>\n",
       "      <th>0</th>\n",
       "      <td>ENSDART00000164359.1</td>\n",
       "      <td>ENSDARG00000099104.1</td>\n",
       "      <td>rpl24</td>\n",
       "    </tr>\n",
       "    <tr>\n",
       "      <th>1</th>\n",
       "      <td>ENSDART00000158290.1</td>\n",
       "      <td>ENSDARG00000099104.1</td>\n",
       "      <td>rpl24</td>\n",
       "    </tr>\n",
       "    <tr>\n",
       "      <th>2</th>\n",
       "      <td>ENSDART00000157701.1</td>\n",
       "      <td>ENSDARG00000099104.1</td>\n",
       "      <td>rpl24</td>\n",
       "    </tr>\n",
       "    <tr>\n",
       "      <th>3</th>\n",
       "      <td>ENSDART00000167898.1</td>\n",
       "      <td>ENSDARG00000099104.1</td>\n",
       "      <td>rpl24</td>\n",
       "    </tr>\n",
       "    <tr>\n",
       "      <th>4</th>\n",
       "      <td>ENSDART00000166393.1</td>\n",
       "      <td>ENSDARG00000102407.2</td>\n",
       "      <td>cep97</td>\n",
       "    </tr>\n",
       "  </tbody>\n",
       "</table>\n",
       "</div>"
      ],
      "text/plain": [
       "          transcript_id               gene_id gene_symbol\n",
       "0  ENSDART00000164359.1  ENSDARG00000099104.1       rpl24\n",
       "1  ENSDART00000158290.1  ENSDARG00000099104.1       rpl24\n",
       "2  ENSDART00000157701.1  ENSDARG00000099104.1       rpl24\n",
       "3  ENSDART00000167898.1  ENSDARG00000099104.1       rpl24\n",
       "4  ENSDART00000166393.1  ENSDARG00000102407.2       cep97"
      ]
     },
     "execution_count": 62,
     "metadata": {},
     "output_type": "execute_result"
    }
   ],
   "source": [
    "# select ww's 25 maternal factors and turn to transcript format\n",
    "# output: candidate_maternal_tr_ls\n",
    "candidate_maternal_gene_ls = ['tbpl2', 'orc1', 'ftr81', 'lmx1a', 'zgc:165514', \n",
    "                              'si:dkey-208k4.2', 'CU929037.1', 'zgc:113424', 'zgc:114123', \n",
    "                              'mcm3l', 'mcm6l', 'npm2a', 'zgc:152977', 'cita', \n",
    "                              'si:ch211-286b5.4', 'zgc:56231', 'si:ch211-119o8.6', 'zglp1', 'figla',\n",
    "                              'e2f5', 'rnf17', 'pias4b', 'stk31', 'ccdc172', 'kank1b']\n",
    "        \n",
    "finame = '/mnt/Storage/home/wangyiman/source/bySpecies/danRer11_2/ensGene/danRer11_2.ensGene.genePredExt'\n",
    "tr_gene_pd = pd.read_table(finame, header=None, sep=\"\\t\", encoding=\"utf-8\")\n",
    "tr_gene_pd = tr_gene_pd.iloc[:,[0,11]]\n",
    "tr_gene_pd.columns = ['transcript_id', 'gene_id']\n",
    "finame = '/mnt/Storage/home/wangyiman/source/bySpecies/danRer11_2/ensGene/danRer11.ensGeneToGeneSymbol.txt'\n",
    "gene_symbol_pd = pd.read_table(finame, header=None, sep=\"\\t\", encoding=\"utf-8\")\n",
    "gene_symbol_pd.columns = ['gene_id', 'gene_symbol']\n",
    "tr_gene_symbol_pd = pd.merge(tr_gene_pd, gene_symbol_pd, on=\"gene_id\")\n",
    "\n",
    "candidate_maternal_trid_geneid_sym = tr_gene_symbol_pd.loc[tr_gene_symbol_pd[\"gene_symbol\"].isin(candidate_maternal_gene_ls)]\n",
    "tr_gene_symbol_pd.head()"
   ]
  },
  {
   "cell_type": "code",
   "execution_count": 67,
   "metadata": {},
   "outputs": [
    {
     "name": "stdout",
     "output_type": "stream",
     "text": [
      "['ENSDART00000018741', 'ENSDART00000160221', 'ENSDART00000152573', 'ENSDART00000152426', 'ENSDART00000152132']\n"
     ]
    }
   ],
   "source": [
    "trans_ZGA = tr_gene_symbol_pd.loc[tr_gene_symbol_pd['gene_id'].str.split('.', expand = True)[0].isin(gene_ZGA)]['transcript_id'].str.split('.', expand = True)[0].tolist()\n",
    "print(trans_ZGA[:5])"
   ]
  },
  {
   "cell_type": "markdown",
   "metadata": {},
   "source": [
    "!!!  GFOLD得到的log2fdc不同于np.log2(df['2ndRPKM']) - np.log2(df['1stRPKM'])  \n",
    " Because RPKM is acturally using sequencing depth as the normalization constant, log2 fold change based on RPKM could be different from the log2fdc field."
   ]
  },
  {
   "cell_type": "code",
   "execution_count": 68,
   "metadata": {},
   "outputs": [
    {
     "data": {
      "text/html": [
       "<div>\n",
       "<style scoped>\n",
       "    .dataframe tbody tr th:only-of-type {\n",
       "        vertical-align: middle;\n",
       "    }\n",
       "\n",
       "    .dataframe tbody tr th {\n",
       "        vertical-align: top;\n",
       "    }\n",
       "\n",
       "    .dataframe thead th {\n",
       "        text-align: right;\n",
       "    }\n",
       "</style>\n",
       "<table border=\"1\" class=\"dataframe\">\n",
       "  <thead>\n",
       "    <tr style=\"text-align: right;\">\n",
       "      <th></th>\n",
       "      <th>GeneSymbol</th>\n",
       "      <th>GeneName</th>\n",
       "      <th>GFOLD(0.01)</th>\n",
       "      <th>E-FDR</th>\n",
       "      <th>log2fdc</th>\n",
       "      <th>1stRPKM</th>\n",
       "      <th>2ndRPKM</th>\n",
       "    </tr>\n",
       "  </thead>\n",
       "  <tbody>\n",
       "    <tr>\n",
       "      <th>0</th>\n",
       "      <td>ENSDART00000000004.5</td>\n",
       "      <td>ENSDARG00000000001.6</td>\n",
       "      <td>0.0</td>\n",
       "      <td>1</td>\n",
       "      <td>-0.336177</td>\n",
       "      <td>9.106650</td>\n",
       "      <td>8.183390</td>\n",
       "    </tr>\n",
       "    <tr>\n",
       "      <th>1</th>\n",
       "      <td>ENSDART00000000005.7</td>\n",
       "      <td>ENSDARG00000000002.8</td>\n",
       "      <td>0.0</td>\n",
       "      <td>1</td>\n",
       "      <td>0.819139</td>\n",
       "      <td>0.190332</td>\n",
       "      <td>0.231331</td>\n",
       "    </tr>\n",
       "    <tr>\n",
       "      <th>2</th>\n",
       "      <td>ENSDART00000000042.11</td>\n",
       "      <td>ENSDARG00000033231.9</td>\n",
       "      <td>0.0</td>\n",
       "      <td>1</td>\n",
       "      <td>-0.517155</td>\n",
       "      <td>104.780000</td>\n",
       "      <td>88.101700</td>\n",
       "    </tr>\n",
       "    <tr>\n",
       "      <th>3</th>\n",
       "      <td>ENSDART00000000069.8</td>\n",
       "      <td>ENSDARG00000000068.9</td>\n",
       "      <td>0.0</td>\n",
       "      <td>1</td>\n",
       "      <td>-0.317737</td>\n",
       "      <td>42.539900</td>\n",
       "      <td>44.856400</td>\n",
       "    </tr>\n",
       "    <tr>\n",
       "      <th>4</th>\n",
       "      <td>ENSDART00000000070.7</td>\n",
       "      <td>ENSDARG00000000069.7</td>\n",
       "      <td>0.0</td>\n",
       "      <td>1</td>\n",
       "      <td>-0.528921</td>\n",
       "      <td>52.653600</td>\n",
       "      <td>45.357900</td>\n",
       "    </tr>\n",
       "    <tr>\n",
       "      <th>...</th>\n",
       "      <td>...</td>\n",
       "      <td>...</td>\n",
       "      <td>...</td>\n",
       "      <td>...</td>\n",
       "      <td>...</td>\n",
       "      <td>...</td>\n",
       "      <td>...</td>\n",
       "    </tr>\n",
       "    <tr>\n",
       "      <th>65828</th>\n",
       "      <td>ENSDART00000194991.1</td>\n",
       "      <td>ENSDARG00000117335.1</td>\n",
       "      <td>0.0</td>\n",
       "      <td>1</td>\n",
       "      <td>0.003114</td>\n",
       "      <td>1.011390</td>\n",
       "      <td>1.025140</td>\n",
       "    </tr>\n",
       "    <tr>\n",
       "      <th>65830</th>\n",
       "      <td>ENSDART00000194993.1</td>\n",
       "      <td>ENSDARG00000117219.1</td>\n",
       "      <td>0.0</td>\n",
       "      <td>1</td>\n",
       "      <td>0.526206</td>\n",
       "      <td>0.184545</td>\n",
       "      <td>0.154260</td>\n",
       "    </tr>\n",
       "    <tr>\n",
       "      <th>65831</th>\n",
       "      <td>ENSDART00000194994.1</td>\n",
       "      <td>ENSDARG00000117676.1</td>\n",
       "      <td>0.0</td>\n",
       "      <td>1</td>\n",
       "      <td>0.221535</td>\n",
       "      <td>0.517894</td>\n",
       "      <td>0.667833</td>\n",
       "    </tr>\n",
       "    <tr>\n",
       "      <th>65834</th>\n",
       "      <td>ENSDART00000194998.1</td>\n",
       "      <td>ENSDARG00000117398.1</td>\n",
       "      <td>0.0</td>\n",
       "      <td>1</td>\n",
       "      <td>1.348250</td>\n",
       "      <td>0.384191</td>\n",
       "      <td>0.519348</td>\n",
       "    </tr>\n",
       "    <tr>\n",
       "      <th>65839</th>\n",
       "      <td>ENSDART00000195003.1</td>\n",
       "      <td>ENSDARG00000117449.1</td>\n",
       "      <td>0.0</td>\n",
       "      <td>1</td>\n",
       "      <td>0.993583</td>\n",
       "      <td>0.000000</td>\n",
       "      <td>0.028374</td>\n",
       "    </tr>\n",
       "  </tbody>\n",
       "</table>\n",
       "<p>34916 rows × 7 columns</p>\n",
       "</div>"
      ],
      "text/plain": [
       "                  GeneSymbol              GeneName  GFOLD(0.01)  E-FDR  \\\n",
       "0       ENSDART00000000004.5  ENSDARG00000000001.6          0.0      1   \n",
       "1       ENSDART00000000005.7  ENSDARG00000000002.8          0.0      1   \n",
       "2      ENSDART00000000042.11  ENSDARG00000033231.9          0.0      1   \n",
       "3       ENSDART00000000069.8  ENSDARG00000000068.9          0.0      1   \n",
       "4       ENSDART00000000070.7  ENSDARG00000000069.7          0.0      1   \n",
       "...                      ...                   ...          ...    ...   \n",
       "65828   ENSDART00000194991.1  ENSDARG00000117335.1          0.0      1   \n",
       "65830   ENSDART00000194993.1  ENSDARG00000117219.1          0.0      1   \n",
       "65831   ENSDART00000194994.1  ENSDARG00000117676.1          0.0      1   \n",
       "65834   ENSDART00000194998.1  ENSDARG00000117398.1          0.0      1   \n",
       "65839   ENSDART00000195003.1  ENSDARG00000117449.1          0.0      1   \n",
       "\n",
       "        log2fdc     1stRPKM    2ndRPKM  \n",
       "0     -0.336177    9.106650   8.183390  \n",
       "1      0.819139    0.190332   0.231331  \n",
       "2     -0.517155  104.780000  88.101700  \n",
       "3     -0.317737   42.539900  44.856400  \n",
       "4     -0.528921   52.653600  45.357900  \n",
       "...         ...         ...        ...  \n",
       "65828  0.003114    1.011390   1.025140  \n",
       "65830  0.526206    0.184545   0.154260  \n",
       "65831  0.221535    0.517894   0.667833  \n",
       "65834  1.348250    0.384191   0.519348  \n",
       "65839  0.993583    0.000000   0.028374  \n",
       "\n",
       "[34916 rows x 7 columns]"
      ]
     },
     "execution_count": 68,
     "metadata": {},
     "output_type": "execute_result"
    }
   ],
   "source": [
    "df"
   ]
  },
  {
   "cell_type": "code",
   "execution_count": 127,
   "metadata": {},
   "outputs": [
    {
     "data": {
      "image/png": "[encoded data removed]",
      "text/plain": [
       "<Figure size 460.8x345.6 with 1 Axes>"
      ]
     },
     "metadata": {},
     "output_type": "display_data"
    },
    {
     "data": {
      "image/png": "[encoded data removed]",
      "text/plain": [
       "<Figure size 460.8x345.6 with 1 Axes>"
      ]
     },
     "metadata": {},
     "output_type": "display_data"
    },
    {
     "data": {
      "image/png": "[encoded data removed]",
      "text/plain": [
       "<Figure size 460.8x345.6 with 1 Axes>"
      ]
     },
     "metadata": {},
     "output_type": "display_data"
    },
    {
     "data": {
      "image/png": "[encoded data removed]",
      "text/plain": [
       "<Figure size 460.8x345.6 with 1 Axes>"
      ]
     },
     "metadata": {},
     "output_type": "display_data"
    }
   ],
   "source": [
    "#### log2(2rpkm) - log2(1rpkm) as Y\n",
    "\n",
    "with sns.axes_style('white', rc={\n",
    "        'xtick.bottom': True,\n",
    "        'ytick.left': True\n",
    "}), sns.plotting_context('paper',\n",
    "                         rc={\n",
    "                             'axes.titlesize': 14,\n",
    "                             'axes.labelsize': 12,\n",
    "                             'xtick.labelsize': 10,\n",
    "                             'ytick.labelsize': 10,\n",
    "                             'legend.fontsize': 10\n",
    "                         }):\n",
    "    for gene in ['mcm3l', 'mcm6l', 'npm2a', 'orc1'] :\n",
    "        fig, ax = plt.subplots(figsize=(6.4, 4.8), tight_layout = True)\n",
    "        df = diff_gene_dict['1k'][gene].copy()\n",
    "        df = df.loc[(df['1stRPKM'] != 0) & (df['2ndRPKM'] != 0)]\n",
    "        A = (np.log2(df['1stRPKM']) + np.log2(df['2ndRPKM']))/2\n",
    "        M = np.log2(df['2ndRPKM']) - np.log2(df['1stRPKM'])\n",
    "        sns.scatterplot(\n",
    "            x=A,\n",
    "            y=M,\n",
    "            s=1,\n",
    "            ax = ax,\n",
    "            color = 'grey'\n",
    "        )\n",
    "        ax.set_title(f\"M{gene} v.s. WT (3 hpf)\")\n",
    "        ax.set_xlabel(\"Mean expression (log2)\")\n",
    "        ax.set_ylabel(\"Fold change (log2)\")\n",
    "        \n",
    "        # deg_pos non-ZGA\n",
    "        deg_pos = df[(M > 2) & ~df['GeneName'].str.split('.', expand = True)[0].isin(gene_ZGA)]\n",
    "        deg_posA = (np.log2(deg_pos['1stRPKM']) + np.log2(deg_pos['2ndRPKM']))/2\n",
    "        deg_posM = np.log2(deg_pos['2ndRPKM']) - np.log2(deg_pos['1stRPKM'])\n",
    "        sns.scatterplot(\n",
    "            x=deg_posA,\n",
    "            y=deg_posM,\n",
    "            s=5,\n",
    "            color=\"#FF8888\",\n",
    "            label=f\"Up non-ZGA ({deg_pos.shape[0]})\",\n",
    "            ax = ax\n",
    "        ) # s is point size\n",
    "        \n",
    "        # deg_neg non-ZGA\n",
    "        deg_neg = df[(M < -2) & ~df['GeneName'].str.split('.', expand = True)[0].isin(gene_ZGA)]\n",
    "        deg_negA = (np.log2(deg_neg['1stRPKM']) + np.log2(deg_neg['2ndRPKM']))/2\n",
    "        deg_negM = np.log2(deg_neg['2ndRPKM']) - np.log2(deg_neg['1stRPKM'])\n",
    "        sns.scatterplot(\n",
    "            x=deg_negA,\n",
    "            y=deg_negM,\n",
    "            s=5,\n",
    "            color=\"#8888FF\",\n",
    "            label=f\"Down non-ZGA ({deg_neg.shape[0]})\",\n",
    "            ax = ax\n",
    "        ) # s is point size\n",
    "\n",
    "        \n",
    "        # deg_pos ZGA\n",
    "        deg_pos_ZGA = df[(M > 2) & df['GeneName'].str.split('.', expand = True)[0].isin(gene_ZGA)]\n",
    "        deg_posA_ZGA = (np.log2(deg_pos_ZGA['1stRPKM']) + np.log2(deg_pos_ZGA['2ndRPKM']))/2\n",
    "        deg_posM_ZGA = np.log2(deg_pos_ZGA['2ndRPKM'] ) - np.log2(deg_pos_ZGA['1stRPKM'])\n",
    "        sns.scatterplot(\n",
    "            x=deg_posA_ZGA,\n",
    "            y=deg_posM_ZGA,\n",
    "            s=10,\n",
    "            color=\"#FF0000\",\n",
    "            label=f\"Up ZGA ({deg_pos_ZGA.shape[0]})\",\n",
    "            ax = ax\n",
    "        ) # s is point size\n",
    "        \n",
    "        # deg_neg ZGA\n",
    "        deg_neg_ZGA = df[(M < -2) & df['GeneName'].str.split('.', expand = True)[0].isin(gene_ZGA)]\n",
    "        deg_negA_ZGA = (np.log2(deg_neg_ZGA['1stRPKM'] ) + np.log2(deg_neg_ZGA['2ndRPKM'] ))/2\n",
    "        deg_negM_ZGA = np.log2(deg_neg_ZGA['2ndRPKM'] ) - np.log2(deg_neg_ZGA['1stRPKM'] )\n",
    "        sns.scatterplot(\n",
    "            x=deg_negA_ZGA,\n",
    "            y=deg_negM_ZGA,\n",
    "            s=10,\n",
    "            color=\"#0000FF\",\n",
    "            label=f\"Down ZGA ({deg_neg_ZGA.shape[0]})\",\n",
    "            ax = ax\n",
    "        ) # s is point size\n",
    "        h,l = ax.get_legend_handles_labels()\n",
    "        ax.legend(h, l, title = '', loc = 'lower left', bbox_to_anchor = (1, 1))\n",
    "\n",
    "        fig.savefig(\n",
    "            f'/mnt/Storage/home/wangyiman/maternal_loading/1.private_data/genes4_ko_analysis/RNAseq/figures/make4_MA_{gene}.pdf',\n",
    "            transparent = True\n",
    "                   )\n",
    "    "
   ]
  },
  {
   "cell_type": "markdown",
   "metadata": {},
   "source": [
    "## output diff genes"
   ]
  },
  {
   "cell_type": "code",
   "execution_count": 126,
   "metadata": {},
   "outputs": [],
   "source": [
    "for gene in ['mcm3l', 'mcm6l', 'npm2a', 'orc1'] :\n",
    "    df = diff_gene_dict[stage][gene].copy()\n",
    "    df = df.loc[(df['1stRPKM'] != 0) & (df['2ndRPKM'] != 0)]\n",
    "    M = np.log2(df['2ndRPKM']) - np.log2(df['1stRPKM'])\n",
    "    \n",
    "    ### down regulated\n",
    "    df[M < -2]['GeneSymbol'].str.split('.', expand = True)[0].to_csv(\n",
    "        f'/mnt/Storage/home/wangyiman/maternal_loading/1.private_data/genes4_ko_analysis/RNAseq/analysis/down_{stage}/{gene}_down_{stage}.trans_clean.txt',\n",
    "        sep = \"\\t\", index = False, header = False\n",
    "    )\n",
    "    \n",
    "    ### down regulated ZGA\n",
    "    df[(M < -2) & df['GeneName'].str.split('.', expand = True)[0].isin(gene_ZGA)]['GeneSymbol'].str.split('.', expand = True)[0].to_csv(\n",
    "        f'/mnt/Storage/home/wangyiman/maternal_loading/1.private_data/genes4_ko_analysis/RNAseq/analysis/down_{stage}/{gene}_downZGA_{stage}.trans_clean.txt',\n",
    "        sep = \"\\t\", index = False, header = False\n",
    "    )\n",
    "    \n",
    "    ### down regulated non-ZGA\n",
    "    df[(M < -2) & ~df['GeneName'].str.split('.', expand = True)[0].isin(gene_ZGA)]['GeneSymbol'].str.split('.', expand = True)[0].to_csv(\n",
    "        f'/mnt/Storage/home/wangyiman/maternal_loading/1.private_data/genes4_ko_analysis/RNAseq/analysis/down_{stage}/{gene}_downNonZGA_{stage}.trans_clean.txt',\n",
    "        sep = \"\\t\", index = False, header = False\n",
    "    )    \n",
    "    \n",
    "    ### up regulated\n",
    "    df[M > 2]['GeneSymbol'].str.split('.', expand = True)[0].to_csv(\n",
    "        f'/mnt/Storage/home/wangyiman/maternal_loading/1.private_data/genes4_ko_analysis/RNAseq/analysis/up_{stage}/{gene}_up_{stage}.trans_clean.txt',\n",
    "        sep = \"\\t\", index = False, header = False\n",
    "    )\n",
    "    \n",
    "    ### up regulated ZGA\n",
    "    df[(M > 2) & df['GeneName'].str.split('.', expand = True)[0].isin(gene_ZGA)]['GeneSymbol'].str.split('.', expand = True)[0].to_csv(\n",
    "        f'/mnt/Storage/home/wangyiman/maternal_loading/1.private_data/genes4_ko_analysis/RNAseq/analysis/up_{stage}/{gene}_upZGA_{stage}.trans_clean.txt',\n",
    "        sep = \"\\t\", index = False, header = False\n",
    "    )\n",
    "        \n",
    "    ### up regulated non-ZGA\n",
    "    df[(M > 2) & ~df['GeneName'].str.split('.', expand = True)[0].isin(gene_ZGA)]['GeneSymbol'].str.split('.', expand = True)[0].to_csv(\n",
    "        f'/mnt/Storage/home/wangyiman/maternal_loading/1.private_data/genes4_ko_analysis/RNAseq/analysis/up_{stage}/{gene}_upNonZGA_{stage}.trans_clean.txt',\n",
    "        sep = \"\\t\", index = False, header = False\n",
    "    )\n",
    "    \n",
    "    ### unchanged\n",
    "    df[(M > -2) & (M < 2)]['GeneSymbol'].str.split('.', expand = True)[0].to_csv(\n",
    "        f'/mnt/Storage/home/wangyiman/maternal_loading/1.private_data/genes4_ko_analysis/RNAseq/analysis/unchanged_{stage}/{gene}_unchanged_{stage}.trans_clean.txt',\n",
    "        sep = \"\\t\", index = False, header = False\n",
    "    )"
   ]
  },
  {
   "cell_type": "code",
   "execution_count": 108,
   "metadata": {
    "collapsed": true,
    "jupyter": {
     "outputs_hidden": true
    }
   },
   "outputs": [
    {
     "ename": "KeyError",
     "evalue": "'mcm3l'",
     "output_type": "error",
     "traceback": [
      "\u001b[0;31m---------------------------------------------------------------------------\u001b[0m",
      "\u001b[0;31mKeyError\u001b[0m                                  Traceback (most recent call last)",
      "\u001b[0;32m<ipython-input-108-375b6016c292>\u001b[0m in \u001b[0;36m<module>\u001b[0;34m\u001b[0m\n\u001b[1;32m     14\u001b[0m     \u001b[0;32mfor\u001b[0m \u001b[0mgene\u001b[0m \u001b[0;32min\u001b[0m \u001b[0;34m[\u001b[0m\u001b[0;34m'mcm3l'\u001b[0m\u001b[0;34m,\u001b[0m \u001b[0;34m'mcm6l'\u001b[0m\u001b[0;34m,\u001b[0m \u001b[0;34m'npm2a'\u001b[0m\u001b[0;34m,\u001b[0m \u001b[0;34m'orc1'\u001b[0m\u001b[0;34m]\u001b[0m \u001b[0;34m:\u001b[0m\u001b[0;34m\u001b[0m\u001b[0;34m\u001b[0m\u001b[0m\n\u001b[1;32m     15\u001b[0m         \u001b[0mfig\u001b[0m\u001b[0;34m,\u001b[0m \u001b[0max\u001b[0m \u001b[0;34m=\u001b[0m \u001b[0mplt\u001b[0m\u001b[0;34m.\u001b[0m\u001b[0msubplots\u001b[0m\u001b[0;34m(\u001b[0m\u001b[0mfigsize\u001b[0m\u001b[0;34m=\u001b[0m\u001b[0;34m(\u001b[0m\u001b[0;36m6.4\u001b[0m\u001b[0;34m,\u001b[0m \u001b[0;36m4.8\u001b[0m\u001b[0;34m)\u001b[0m\u001b[0;34m,\u001b[0m \u001b[0mtight_layout\u001b[0m \u001b[0;34m=\u001b[0m \u001b[0;32mTrue\u001b[0m\u001b[0;34m)\u001b[0m\u001b[0;34m\u001b[0m\u001b[0;34m\u001b[0m\u001b[0m\n\u001b[0;32m---> 16\u001b[0;31m         \u001b[0mdf\u001b[0m \u001b[0;34m=\u001b[0m \u001b[0mdiff_gene_dict\u001b[0m\u001b[0;34m[\u001b[0m\u001b[0;34m'1k'\u001b[0m\u001b[0;34m]\u001b[0m\u001b[0;34m[\u001b[0m\u001b[0mgene\u001b[0m\u001b[0;34m]\u001b[0m\u001b[0;34m.\u001b[0m\u001b[0mcopy\u001b[0m\u001b[0;34m(\u001b[0m\u001b[0;34m)\u001b[0m\u001b[0;34m\u001b[0m\u001b[0;34m\u001b[0m\u001b[0m\n\u001b[0m\u001b[1;32m     17\u001b[0m         \u001b[0mdf\u001b[0m \u001b[0;34m=\u001b[0m \u001b[0mdf\u001b[0m\u001b[0;34m.\u001b[0m\u001b[0mloc\u001b[0m\u001b[0;34m[\u001b[0m\u001b[0;34m(\u001b[0m\u001b[0mdf\u001b[0m\u001b[0;34m[\u001b[0m\u001b[0;34m'1stRPKM'\u001b[0m\u001b[0;34m]\u001b[0m \u001b[0;34m!=\u001b[0m \u001b[0;36m0\u001b[0m\u001b[0;34m)\u001b[0m \u001b[0;34m&\u001b[0m \u001b[0;34m(\u001b[0m\u001b[0mdf\u001b[0m\u001b[0;34m[\u001b[0m\u001b[0;34m'2ndRPKM'\u001b[0m\u001b[0;34m]\u001b[0m \u001b[0;34m!=\u001b[0m \u001b[0;36m0\u001b[0m\u001b[0;34m)\u001b[0m \u001b[0;34m&\u001b[0m \u001b[0;34m(\u001b[0m\u001b[0mdf\u001b[0m\u001b[0;34m[\u001b[0m\u001b[0;34m'GFOLD(0.01)'\u001b[0m\u001b[0;34m]\u001b[0m \u001b[0;34m!=\u001b[0m \u001b[0;36m0\u001b[0m\u001b[0;34m)\u001b[0m\u001b[0;34m]\u001b[0m\u001b[0;34m\u001b[0m\u001b[0;34m\u001b[0m\u001b[0m\n\u001b[1;32m     18\u001b[0m         \u001b[0mA\u001b[0m \u001b[0;34m=\u001b[0m \u001b[0;34m(\u001b[0m\u001b[0mnp\u001b[0m\u001b[0;34m.\u001b[0m\u001b[0mlog2\u001b[0m\u001b[0;34m(\u001b[0m\u001b[0mdf\u001b[0m\u001b[0;34m[\u001b[0m\u001b[0;34m'1stRPKM'\u001b[0m\u001b[0;34m]\u001b[0m\u001b[0;34m)\u001b[0m \u001b[0;34m+\u001b[0m \u001b[0mnp\u001b[0m\u001b[0;34m.\u001b[0m\u001b[0mlog2\u001b[0m\u001b[0;34m(\u001b[0m\u001b[0mdf\u001b[0m\u001b[0;34m[\u001b[0m\u001b[0;34m'2ndRPKM'\u001b[0m\u001b[0;34m]\u001b[0m\u001b[0;34m)\u001b[0m\u001b[0;34m)\u001b[0m\u001b[0;34m/\u001b[0m\u001b[0;36m2\u001b[0m\u001b[0;34m\u001b[0m\u001b[0;34m\u001b[0m\u001b[0m\n",
      "\u001b[0;31mKeyError\u001b[0m: 'mcm3l'"
     ]
    },
    {
     "data": {
      "image/png": "[encoded data removed]",
      "text/plain": [
       "<Figure size 460.8x345.6 with 1 Axes>"
      ]
     },
     "metadata": {},
     "output_type": "display_data"
    }
   ],
   "source": [
    "#### GFOLD as Y (not used)\n",
    "\n",
    "with sns.axes_style('white', rc={\n",
    "        'xtick.bottom': True,\n",
    "        'ytick.left': True\n",
    "}), sns.plotting_context('paper',\n",
    "                         rc={\n",
    "                             'axes.titlesize': 14,\n",
    "                             'axes.labelsize': 12,\n",
    "                             'xtick.labelsize': 10,\n",
    "                             'ytick.labelsize': 10,\n",
    "                             'legend.fontsize': 10\n",
    "                         }):\n",
    "    for gene in ['mcm3l', 'mcm6l', 'npm2a', 'orc1'] :\n",
    "        fig, ax = plt.subplots(figsize=(6.4, 4.8), tight_layout = True)\n",
    "        df = diff_gene_dict['1k'][gene].copy()\n",
    "        df = df.loc[(df['1stRPKM'] != 0) & (df['2ndRPKM'] != 0) & (df['GFOLD(0.01)'] != 0)]\n",
    "        A = (np.log2(df['1stRPKM']) + np.log2(df['2ndRPKM']))/2\n",
    "        M = df['GFOLD(0.01)']\n",
    "        sns.scatterplot(\n",
    "            x=A,\n",
    "            y=M,\n",
    "            s=1,\n",
    "            ax = ax,\n",
    "            color = 'grey'\n",
    "        )\n",
    "        ax.set_title(f\"{gene} KO v.s. WT\")\n",
    "        ax.set_xlabel(\"Mean expression (log2 RPKM+1)\")\n",
    "        ax.set_ylabel(\"Fold change\")\n",
    "        \n",
    "        # deg_pos non-ZGA\n",
    "        deg_pos = df[ (df['GFOLD(0.01)'] > 1) & ~df['GeneName'].str.split('.', expand = True)[0].isin(gene_ZGA)]\n",
    "        deg_posA = (np.log2(deg_pos['1stRPKM']) + np.log2(deg_pos['2ndRPKM']))/2\n",
    "        deg_posM = deg_pos['GFOLD(0.01)']\n",
    "        sns.scatterplot(\n",
    "            x=deg_posA,\n",
    "            y=deg_posM,\n",
    "            s=5,\n",
    "            color=\"#FF8888\",\n",
    "            label=f\"Up non-ZGA ({deg_pos.shape[0]})\",\n",
    "            ax = ax\n",
    "        ) # s is point size\n",
    "        \n",
    "        # deg_neg non-ZGA\n",
    "        deg_neg = df[ (df['GFOLD(0.01)'] < -1) & ~df['GeneName'].str.split('.', expand = True)[0].isin(gene_ZGA)]\n",
    "        deg_negA = (np.log2(deg_neg['1stRPKM']) + np.log2(deg_neg['2ndRPKM']))/2\n",
    "        deg_negM = deg_neg['GFOLD(0.01)']\n",
    "        sns.scatterplot(\n",
    "            x=deg_negA,\n",
    "            y=deg_negM,\n",
    "            s=5,\n",
    "            color=\"#8888FF\",\n",
    "            label=f\"Down non-ZGA ({deg_neg.shape[0]})\",\n",
    "            ax = ax\n",
    "        ) # s is point size\n",
    "\n",
    "        \n",
    "        # deg_pos ZGA\n",
    "        deg_pos_ZGA = df[(df['GFOLD(0.01)'] > 1) & df['GeneName'].str.split('.', expand = True)[0].isin(gene_ZGA)]\n",
    "        deg_posA_ZGA = (np.log2(deg_pos_ZGA['1stRPKM']) + np.log2(deg_pos_ZGA['2ndRPKM']))/2\n",
    "        deg_posM_ZGA = deg_pos_ZGA['GFOLD(0.01)']\n",
    "        sns.scatterplot(\n",
    "            x=deg_posA_ZGA,\n",
    "            y=deg_posM_ZGA,\n",
    "            s=10,\n",
    "            color=\"#FF0000\",\n",
    "            label=f\"Up ZGA ({deg_pos_ZGA.shape[0]})\",\n",
    "            ax = ax\n",
    "        ) # s is point size\n",
    "        \n",
    "        # deg_neg ZGA\n",
    "        deg_neg_ZGA = df[(df['GFOLD(0.01)'] < -1) & df['GeneName'].str.split('.', expand = True)[0].isin(gene_ZGA)]\n",
    "        deg_negA_ZGA = (np.log2(deg_neg_ZGA['1stRPKM']) + np.log2(deg_neg_ZGA['2ndRPKM']))/2\n",
    "        deg_negM_ZGA = deg_neg_ZGA['GFOLD(0.01)']\n",
    "        sns.scatterplot(\n",
    "            x=deg_negA_ZGA,\n",
    "            y=deg_negM_ZGA,\n",
    "            s=10,\n",
    "            color=\"#0000FF\",\n",
    "            label=f\"Down ZGA ({deg_neg_ZGA.shape[0]})\",\n",
    "            ax = ax\n",
    "        ) # s is point size\n",
    "\n",
    "        \n",
    "    "
   ]
  },
  {
   "cell_type": "code",
   "execution_count": 122,
   "metadata": {},
   "outputs": [
    {
     "data": {
      "text/plain": [
       "'1k'"
      ]
     },
     "execution_count": 122,
     "metadata": {},
     "output_type": "execute_result"
    }
   ],
   "source": [
    "stage"
   ]
  },
  {
   "cell_type": "code",
   "execution_count": null,
   "metadata": {},
   "outputs": [],
   "source": []
  }
 ],
 "metadata": {
  "kernelspec": {
   "display_name": "Python [conda env:root] *",
   "language": "python",
   "name": "conda-root-py"
  },
  "language_info": {
   "codemirror_mode": {
    "name": "ipython",
    "version": 3
   },
   "file_extension": ".py",
   "mimetype": "text/x-python",
   "name": "python",
   "nbconvert_exporter": "python",
   "pygments_lexer": "ipython3",
   "version": "3.8.5"
  }
 },
 "nbformat": 4,
 "nbformat_minor": 4
}
