{
 "cells": [
  {
   "cell_type": "code",
   "execution_count": 1,
   "metadata": {},
   "outputs": [],
   "source": [
    "import subprocess\n",
    "import os\n",
    "import numpy as np\n",
    "import pandas as pd\n",
    "import matplotlib as mpl\n",
    "mpl.rcParams['pdf.fonttype'] = 42\n",
    "mpl.rcParams['ps.fonttype'] = 42\n",
    "mpl.rcParams['font.sans-serif'] = 'Arial'\n",
    "import matplotlib.pyplot as plt\n",
    "import seaborn as sns\n",
    "from pprint import pprint\n",
    "from matplotlib.backends.backend_pdf import PdfPages\n",
    "%matplotlib inline"
   ]
  },
  {
   "cell_type": "code",
   "execution_count": null,
   "metadata": {},
   "outputs": [],
   "source": [
    "# trackDb.txt"
   ]
  },
  {
   "cell_type": "code",
   "execution_count": 2,
   "metadata": {},
   "outputs": [],
   "source": [
    "def get_bigwig_mean(bw_file):\n",
    "    import os\n",
    "    import subprocess\n",
    "    fold = subprocess.check_output(f'bigWigInfo {bw_file} | grep mean',\n",
    "                                   shell=True).decode()\n",
    "    fold = float(fold.split()[1])\n",
    "    return fold"
   ]
  },
  {
   "cell_type": "code",
   "execution_count": 8,
   "metadata": {},
   "outputs": [],
   "source": [
    "def hex2rgb(h) :\n",
    "    rgb = tuple(int(h[i:i+2], 16) for i in (1, 3, 5))\n",
    "    return f\"{rgb[0]},{rgb[1]},{rgb[2]}\""
   ]
  },
  {
   "cell_type": "code",
   "execution_count": 9,
   "metadata": {},
   "outputs": [],
   "source": [
    "color_dict = {\n",
    "    'H3K36me3': '#9B1C3D',\n",
    "    'Pol2': '#16557A'\n",
    "}"
   ]
  },
  {
   "cell_type": "code",
   "execution_count": 5,
   "metadata": {},
   "outputs": [],
   "source": [
    "%%bash\n",
    "cd /mnt/Storage/home/wangyiman/maternal_loading/2.public_data/ChIPseq/genome_browser\n",
    "ln -s ../2_signal/ChIPseq_H3K36me3_dome.bw .\n",
    "ln -s ../2_signal/ChIPseq_Pol2_dome_4H8.bw .\n",
    "ln -s ../2_signal/ChIPseq_Pol2_dome_8WG16.bw ."
   ]
  },
  {
   "cell_type": "code",
   "execution_count": 13,
   "metadata": {},
   "outputs": [],
   "source": [
    "os.chdir('/mnt/Storage/home/wangyiman/maternal_loading/2.public_data/ChIPseq/genome_browser')\n",
    "\n",
    "with open('trackDb.txt', 'w') as fi :\n",
    "    for modifi in ['H3K36me3_dome', 'Pol2_dome_4H8', 'Pol2_dome_8WG16'] :\n",
    "        bigwig_file = f'ChIPseq_{modifi}.bw'\n",
    "        mean = get_bigwig_mean(f'{bigwig_file}')\n",
    "        fi.write(f'track {modifi}\\n')\n",
    "        fi.write(f'bigDataUrl {bigwig_file}\\n')\n",
    "        fi.write(f'shortLabel {modifi}\\n')\n",
    "        fi.write(f'longLabel {modifi}\\n')\n",
    "        fi.write(f'color {hex2rgb(color_dict[modifi.split(\"_\")[0]])}\\n')\n",
    "        fi.write(f'type bigWig\\n')\n",
    "        fi.write(f'visibility full\\n')\n",
    "        if modifi == 'methyl.merged' :\n",
    "            fi.write(f'viewLimits 0:1\\n')\n",
    "        else :\n",
    "            fi.write(f'viewLimits {5 * mean:.5f}:{50 * mean:.5f}\\n')\n",
    "#             fi.write(f'viewLimits 0:{10 * mean:.5f}\\n')\n",
    "#             fi.write(f'viewLimits 0:1\\n')\n",
    "        fi.write(f'maxHeightPixels 20\\n')\n",
    "#             fi.write(f'smoothingWindow {smooth_dict[modifi]}\\n')\n",
    "        fi.write(f'windowingFunction mean\\n\\n')\n",
    "      \n",
    "\n",
    "    "
   ]
  },
  {
   "cell_type": "code",
   "execution_count": null,
   "metadata": {},
   "outputs": [],
   "source": [
    "### add lines to trackDb.txt\n",
    "\n",
    "track refGene\n",
    "bigDataUrl danRer11_2.refGene.bigGenePred.bb\n",
    "shortLabel refGene\n",
    "longLabel refGene\n",
    "type bigGenePred\n",
    "\n",
    "track ensGene\n",
    "bigDataUrl danRer11_2.ensGene.bigGenePred.bb\n",
    "shortLabel ensGene\n",
    "longLabel ensGene\n",
    "type bigGenePred"
   ]
  }
 ],
 "metadata": {
  "kernelspec": {
   "display_name": "Python [conda env:root] *",
   "language": "python",
   "name": "conda-root-py"
  },
  "language_info": {
   "codemirror_mode": {
    "name": "ipython",
    "version": 3
   },
   "file_extension": ".py",
   "mimetype": "text/x-python",
   "name": "python",
   "nbconvert_exporter": "python",
   "pygments_lexer": "ipython3",
   "version": "3.8.5"
  }
 },
 "nbformat": 4,
 "nbformat_minor": 4
}
