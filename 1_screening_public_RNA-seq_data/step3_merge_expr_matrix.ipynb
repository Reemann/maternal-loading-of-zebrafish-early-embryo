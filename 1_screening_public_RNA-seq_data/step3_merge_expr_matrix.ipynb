{
 "cells": [
  {
   "cell_type": "markdown",
   "metadata": {},
   "source": [
    "# load module"
   ]
  },
  {
   "cell_type": "code",
   "execution_count": 47,
   "metadata": {},
   "outputs": [],
   "source": [
    "import subprocess\n",
    "import os\n",
    "import numpy as np\n",
    "import pandas as pd\n",
    "import matplotlib as mpl\n",
    "mpl.rcParams['pdf.fonttype'] = 42\n",
    "mpl.rcParams['ps.fonttype'] = 42\n",
    "mpl.rcParams['font.sans-serif'] = 'Arial'\n",
    "import matplotlib.pyplot as plt\n",
    "import seaborn as sns\n",
    "from pprint import pprint\n",
    "from matplotlib.backends.backend_pdf import PdfPages\n",
    "%matplotlib inline"
   ]
  },
  {
   "cell_type": "code",
   "execution_count": 2,
   "metadata": {},
   "outputs": [
    {
     "data": {
      "text/html": [
       "<div>\n",
       "<style scoped>\n",
       "    .dataframe tbody tr th:only-of-type {\n",
       "        vertical-align: middle;\n",
       "    }\n",
       "\n",
       "    .dataframe tbody tr th {\n",
       "        vertical-align: top;\n",
       "    }\n",
       "\n",
       "    .dataframe thead th {\n",
       "        text-align: right;\n",
       "    }\n",
       "</style>\n",
       "<table border=\"1\" class=\"dataframe\">\n",
       "  <thead>\n",
       "    <tr style=\"text-align: right;\">\n",
       "      <th></th>\n",
       "      <th>transcript_id</th>\n",
       "      <th>gene_id</th>\n",
       "      <th>gene_symbol</th>\n",
       "    </tr>\n",
       "  </thead>\n",
       "  <tbody>\n",
       "    <tr>\n",
       "      <th>0</th>\n",
       "      <td>ENSDART00000164359.1</td>\n",
       "      <td>ENSDARG00000099104.1</td>\n",
       "      <td>rpl24</td>\n",
       "    </tr>\n",
       "    <tr>\n",
       "      <th>1</th>\n",
       "      <td>ENSDART00000158290.1</td>\n",
       "      <td>ENSDARG00000099104.1</td>\n",
       "      <td>rpl24</td>\n",
       "    </tr>\n",
       "    <tr>\n",
       "      <th>2</th>\n",
       "      <td>ENSDART00000157701.1</td>\n",
       "      <td>ENSDARG00000099104.1</td>\n",
       "      <td>rpl24</td>\n",
       "    </tr>\n",
       "    <tr>\n",
       "      <th>3</th>\n",
       "      <td>ENSDART00000167898.1</td>\n",
       "      <td>ENSDARG00000099104.1</td>\n",
       "      <td>rpl24</td>\n",
       "    </tr>\n",
       "    <tr>\n",
       "      <th>4</th>\n",
       "      <td>ENSDART00000166393.1</td>\n",
       "      <td>ENSDARG00000102407.2</td>\n",
       "      <td>cep97</td>\n",
       "    </tr>\n",
       "  </tbody>\n",
       "</table>\n",
       "</div>"
      ],
      "text/plain": [
       "          transcript_id               gene_id gene_symbol\n",
       "0  ENSDART00000164359.1  ENSDARG00000099104.1       rpl24\n",
       "1  ENSDART00000158290.1  ENSDARG00000099104.1       rpl24\n",
       "2  ENSDART00000157701.1  ENSDARG00000099104.1       rpl24\n",
       "3  ENSDART00000167898.1  ENSDARG00000099104.1       rpl24\n",
       "4  ENSDART00000166393.1  ENSDARG00000102407.2       cep97"
      ]
     },
     "execution_count": 2,
     "metadata": {},
     "output_type": "execute_result"
    }
   ],
   "source": [
    "finame = '/mnt/Storage/home/wangyiman/source/bySpecies/danRer11_2/ensGene/danRer11_2.ensGene.genePredExt'\n",
    "tr_gene_pd = pd.read_table(finame, header=None, sep=\"\\t\", encoding=\"utf-8\")\n",
    "tr_gene_pd = tr_gene_pd.iloc[:,[0,11]]\n",
    "tr_gene_pd.columns = ['transcript_id', 'gene_id']\n",
    "finame = '/mnt/Storage/home/wangyiman/source/bySpecies/danRer11_2/ensGene/danRer11.ensGeneToGeneSymbol.txt'\n",
    "gene_symbol_pd = pd.read_table(finame, header=None, sep=\"\\t\", encoding=\"utf-8\")\n",
    "gene_symbol_pd.columns = ['gene_id', 'gene_symbol']\n",
    "tr_gene_symbol_pd = pd.merge(tr_gene_pd, gene_symbol_pd, on=\"gene_id\")\n",
    "tr_gene_symbol_pd.head()"
   ]
  },
  {
   "cell_type": "code",
   "execution_count": 3,
   "metadata": {},
   "outputs": [
    {
     "data": {
      "text/html": [
       "<div>\n",
       "<style scoped>\n",
       "    .dataframe tbody tr th:only-of-type {\n",
       "        vertical-align: middle;\n",
       "    }\n",
       "\n",
       "    .dataframe tbody tr th {\n",
       "        vertical-align: top;\n",
       "    }\n",
       "\n",
       "    .dataframe thead th {\n",
       "        text-align: right;\n",
       "    }\n",
       "</style>\n",
       "<table border=\"1\" class=\"dataframe\">\n",
       "  <thead>\n",
       "    <tr style=\"text-align: right;\">\n",
       "      <th></th>\n",
       "      <th>transcript_id_clean</th>\n",
       "      <th>gene_id_clean</th>\n",
       "    </tr>\n",
       "  </thead>\n",
       "  <tbody>\n",
       "    <tr>\n",
       "      <th>0</th>\n",
       "      <td>ENSDART00000164359</td>\n",
       "      <td>ENSDARG00000099104</td>\n",
       "    </tr>\n",
       "    <tr>\n",
       "      <th>1</th>\n",
       "      <td>ENSDART00000158290</td>\n",
       "      <td>ENSDARG00000099104</td>\n",
       "    </tr>\n",
       "    <tr>\n",
       "      <th>2</th>\n",
       "      <td>ENSDART00000157701</td>\n",
       "      <td>ENSDARG00000099104</td>\n",
       "    </tr>\n",
       "    <tr>\n",
       "      <th>3</th>\n",
       "      <td>ENSDART00000167898</td>\n",
       "      <td>ENSDARG00000099104</td>\n",
       "    </tr>\n",
       "    <tr>\n",
       "      <th>4</th>\n",
       "      <td>ENSDART00000166393</td>\n",
       "      <td>ENSDARG00000102407</td>\n",
       "    </tr>\n",
       "    <tr>\n",
       "      <th>...</th>\n",
       "      <td>...</td>\n",
       "      <td>...</td>\n",
       "    </tr>\n",
       "    <tr>\n",
       "      <th>65835</th>\n",
       "      <td>ENSDART00000183313</td>\n",
       "      <td>ENSDARG00000114956</td>\n",
       "    </tr>\n",
       "    <tr>\n",
       "      <th>65836</th>\n",
       "      <td>ENSDART00000183313</td>\n",
       "      <td>ENSDARG00000114956</td>\n",
       "    </tr>\n",
       "    <tr>\n",
       "      <th>65837</th>\n",
       "      <td>ENSDART00000183313</td>\n",
       "      <td>ENSDARG00000114956</td>\n",
       "    </tr>\n",
       "    <tr>\n",
       "      <th>65838</th>\n",
       "      <td>ENSDART00000183313</td>\n",
       "      <td>ENSDARG00000114956</td>\n",
       "    </tr>\n",
       "    <tr>\n",
       "      <th>65839</th>\n",
       "      <td>ENSDART00000183313</td>\n",
       "      <td>ENSDARG00000114956</td>\n",
       "    </tr>\n",
       "  </tbody>\n",
       "</table>\n",
       "<p>65840 rows × 2 columns</p>\n",
       "</div>"
      ],
      "text/plain": [
       "      transcript_id_clean       gene_id_clean\n",
       "0      ENSDART00000164359  ENSDARG00000099104\n",
       "1      ENSDART00000158290  ENSDARG00000099104\n",
       "2      ENSDART00000157701  ENSDARG00000099104\n",
       "3      ENSDART00000167898  ENSDARG00000099104\n",
       "4      ENSDART00000166393  ENSDARG00000102407\n",
       "...                   ...                 ...\n",
       "65835  ENSDART00000183313  ENSDARG00000114956\n",
       "65836  ENSDART00000183313  ENSDARG00000114956\n",
       "65837  ENSDART00000183313  ENSDARG00000114956\n",
       "65838  ENSDART00000183313  ENSDARG00000114956\n",
       "65839  ENSDART00000183313  ENSDARG00000114956\n",
       "\n",
       "[65840 rows x 2 columns]"
      ]
     },
     "execution_count": 3,
     "metadata": {},
     "output_type": "execute_result"
    }
   ],
   "source": [
    "tr_gene_pd_clean = pd.DataFrame(zip(list(zip(*tr_gene_symbol_pd['transcript_id'].str.split('.')))[0], list(zip(*tr_gene_symbol_pd['gene_id'].str.split('.')))[0]))\n",
    "tr_gene_pd_clean.columns = ['transcript_id_clean', 'gene_id_clean']\n",
    "tr_gene_pd_clean"
   ]
  },
  {
   "cell_type": "code",
   "execution_count": 4,
   "metadata": {},
   "outputs": [
    {
     "data": {
      "text/html": [
       "<div>\n",
       "<style scoped>\n",
       "    .dataframe tbody tr th:only-of-type {\n",
       "        vertical-align: middle;\n",
       "    }\n",
       "\n",
       "    .dataframe tbody tr th {\n",
       "        vertical-align: top;\n",
       "    }\n",
       "\n",
       "    .dataframe thead th {\n",
       "        text-align: right;\n",
       "    }\n",
       "</style>\n",
       "<table border=\"1\" class=\"dataframe\">\n",
       "  <thead>\n",
       "    <tr style=\"text-align: right;\">\n",
       "      <th></th>\n",
       "      <th>gene_id_clean</th>\n",
       "      <th>gene_symbol</th>\n",
       "    </tr>\n",
       "  </thead>\n",
       "  <tbody>\n",
       "    <tr>\n",
       "      <th>0</th>\n",
       "      <td>ENSDARG00000099104</td>\n",
       "      <td>rpl24</td>\n",
       "    </tr>\n",
       "    <tr>\n",
       "      <th>1</th>\n",
       "      <td>ENSDARG00000102407</td>\n",
       "      <td>cep97</td>\n",
       "    </tr>\n",
       "    <tr>\n",
       "      <th>2</th>\n",
       "      <td>ENSDARG00000102097</td>\n",
       "      <td>nfkbiz</td>\n",
       "    </tr>\n",
       "    <tr>\n",
       "      <th>3</th>\n",
       "      <td>ENSDARG00000099319</td>\n",
       "      <td>CU651657.1</td>\n",
       "    </tr>\n",
       "    <tr>\n",
       "      <th>4</th>\n",
       "      <td>ENSDARG00000099640</td>\n",
       "      <td>eed</td>\n",
       "    </tr>\n",
       "    <tr>\n",
       "      <th>...</th>\n",
       "      <td>...</td>\n",
       "      <td>...</td>\n",
       "    </tr>\n",
       "    <tr>\n",
       "      <th>32515</th>\n",
       "      <td>ENSDARG00000109919</td>\n",
       "      <td>CABZ01025162.1</td>\n",
       "    </tr>\n",
       "    <tr>\n",
       "      <th>32516</th>\n",
       "      <td>ENSDARG00000116629</td>\n",
       "      <td>CT025651.2</td>\n",
       "    </tr>\n",
       "    <tr>\n",
       "      <th>32517</th>\n",
       "      <td>ENSDARG00000114977</td>\n",
       "      <td>CT025651.1</td>\n",
       "    </tr>\n",
       "    <tr>\n",
       "      <th>32518</th>\n",
       "      <td>ENSDARG00000102423</td>\n",
       "      <td>FO818711.1</td>\n",
       "    </tr>\n",
       "    <tr>\n",
       "      <th>32519</th>\n",
       "      <td>ENSDARG00000112120</td>\n",
       "      <td>RF00001</td>\n",
       "    </tr>\n",
       "  </tbody>\n",
       "</table>\n",
       "<p>32520 rows × 2 columns</p>\n",
       "</div>"
      ],
      "text/plain": [
       "            gene_id_clean     gene_symbol\n",
       "0      ENSDARG00000099104           rpl24\n",
       "1      ENSDARG00000102407           cep97\n",
       "2      ENSDARG00000102097          nfkbiz\n",
       "3      ENSDARG00000099319      CU651657.1\n",
       "4      ENSDARG00000099640             eed\n",
       "...                   ...             ...\n",
       "32515  ENSDARG00000109919  CABZ01025162.1\n",
       "32516  ENSDARG00000116629      CT025651.2\n",
       "32517  ENSDARG00000114977      CT025651.1\n",
       "32518  ENSDARG00000102423      FO818711.1\n",
       "32519  ENSDARG00000112120         RF00001\n",
       "\n",
       "[32520 rows x 2 columns]"
      ]
     },
     "execution_count": 4,
     "metadata": {},
     "output_type": "execute_result"
    }
   ],
   "source": [
    "gene_symbol_clean = pd.read_csv('/mnt/Storage/home/wangyiman/source/bySpecies/danRer11_2/ensGene/danRer11.ensGeneToGeneSymbol.clean.txt', header=None, \n",
    "                                sep = '\\t')\n",
    "gene_symbol_clean.columns = ['gene_id_clean', 'gene_symbol']\n",
    "gene_symbol_clean"
   ]
  },
  {
   "cell_type": "markdown",
   "metadata": {},
   "source": [
    "## asign exon"
   ]
  },
  {
   "cell_type": "code",
   "execution_count": 5,
   "metadata": {},
   "outputs": [],
   "source": [
    "exon_id_ls = pd.DataFrame(zip(*pd.DataFrame(zip(*pd.read_csv('/mnt/Storage/home/wangyiman/source/bySpecies/danRer11_2/ensGene/danRer11_2.ensGene.ExonUniq.gtf', \n",
    "                                     sep = '\\t', header = 0).iloc[:,8].drop_duplicates().str.split(';'))).T.iloc[:,0].drop_duplicates().str.split('\"'))).T.iloc[:,1].tolist()"
   ]
  },
  {
   "cell_type": "markdown",
   "metadata": {},
   "source": [
    "There is some transcript id like \"ENSDART00000139453.3_16.1\" in Chr4."
   ]
  },
  {
   "cell_type": "code",
   "execution_count": 6,
   "metadata": {},
   "outputs": [],
   "source": [
    "exon_gene_id_dict = {}\n",
    "exon_gene_id_dict_nonUniq = {}\n",
    "for exon_id in set(exon_id_ls) :\n",
    "    trans_ids = [('ENSDART'+x).strip('_') for x in exon_id.split('ENSDART') if x]    \n",
    "    gene_ids = []\n",
    "    for trans_id in trans_ids :\n",
    "        gene_id_series = tr_gene_pd_clean.loc[tr_gene_pd_clean['transcript_id_clean'] == trans_id.split('.')[0]]['gene_id_clean'].tolist()\n",
    "        if gene_id_series : \n",
    "            gene_ids.append(gene_id_series[0])\n",
    "        else :\n",
    "            print(exon_id)\n",
    "        \n",
    "    if len(set(gene_ids)) == 1 :\n",
    "        exon_gene_id_dict[exon_id] = gene_ids[0]\n",
    "    else :\n",
    "#         print(gene_ids, exon_id)\n",
    "        exon_gene_id_dict_nonUniq[exon_id] = gene_ids\n",
    "        "
   ]
  },
  {
   "cell_type": "code",
   "execution_count": 7,
   "metadata": {},
   "outputs": [
    {
     "data": {
      "text/plain": [
       "320525"
      ]
     },
     "execution_count": 7,
     "metadata": {},
     "output_type": "execute_result"
    }
   ],
   "source": [
    "len(exon_gene_id_dict)"
   ]
  },
  {
   "cell_type": "code",
   "execution_count": 8,
   "metadata": {},
   "outputs": [
    {
     "data": {
      "text/plain": [
       "1890"
      ]
     },
     "execution_count": 8,
     "metadata": {},
     "output_type": "execute_result"
    }
   ],
   "source": [
    "len(exon_gene_id_dict_nonUniq)"
   ]
  },
  {
   "cell_type": "code",
   "execution_count": 9,
   "metadata": {},
   "outputs": [
    {
     "data": {
      "text/plain": [
       "322415"
      ]
     },
     "execution_count": 9,
     "metadata": {},
     "output_type": "execute_result"
    }
   ],
   "source": [
    "len(set(exon_id_ls))"
   ]
  },
  {
   "cell_type": "code",
   "execution_count": 10,
   "metadata": {},
   "outputs": [
    {
     "data": {
      "text/plain": [
       "322415"
      ]
     },
     "execution_count": 10,
     "metadata": {},
     "output_type": "execute_result"
    }
   ],
   "source": [
    "320525 + 1890"
   ]
  },
  {
   "cell_type": "code",
   "execution_count": 11,
   "metadata": {},
   "outputs": [
    {
     "data": {
      "text/html": [
       "<div>\n",
       "<style scoped>\n",
       "    .dataframe tbody tr th:only-of-type {\n",
       "        vertical-align: middle;\n",
       "    }\n",
       "\n",
       "    .dataframe tbody tr th {\n",
       "        vertical-align: top;\n",
       "    }\n",
       "\n",
       "    .dataframe thead th {\n",
       "        text-align: right;\n",
       "    }\n",
       "</style>\n",
       "<table border=\"1\" class=\"dataframe\">\n",
       "  <thead>\n",
       "    <tr style=\"text-align: right;\">\n",
       "      <th></th>\n",
       "      <th>transcript_id_clean</th>\n",
       "      <th>gene_id_clean</th>\n",
       "      <th>exon_id</th>\n",
       "    </tr>\n",
       "  </thead>\n",
       "  <tbody>\n",
       "    <tr>\n",
       "      <th>0</th>\n",
       "      <td>ENSDART00000164359</td>\n",
       "      <td>ENSDARG00000099104</td>\n",
       "      <td>ENSDART00000164359.1.3_ENSDART00000167898.1.3</td>\n",
       "    </tr>\n",
       "    <tr>\n",
       "      <th>1</th>\n",
       "      <td>ENSDART00000164359</td>\n",
       "      <td>ENSDARG00000099104</td>\n",
       "      <td>ENSDART00000164359.1.4_ENSDART00000167898.1.4</td>\n",
       "    </tr>\n",
       "    <tr>\n",
       "      <th>2</th>\n",
       "      <td>ENSDART00000164359</td>\n",
       "      <td>ENSDARG00000099104</td>\n",
       "      <td>ENSDART00000167898.1.1</td>\n",
       "    </tr>\n",
       "    <tr>\n",
       "      <th>3</th>\n",
       "      <td>ENSDART00000164359</td>\n",
       "      <td>ENSDARG00000099104</td>\n",
       "      <td>ENSDART00000164359.1.6</td>\n",
       "    </tr>\n",
       "    <tr>\n",
       "      <th>4</th>\n",
       "      <td>ENSDART00000164359</td>\n",
       "      <td>ENSDARG00000099104</td>\n",
       "      <td>ENSDART00000158290.1.1_ENSDART00000157701.1.1</td>\n",
       "    </tr>\n",
       "    <tr>\n",
       "      <th>...</th>\n",
       "      <td>...</td>\n",
       "      <td>...</td>\n",
       "      <td>...</td>\n",
       "    </tr>\n",
       "    <tr>\n",
       "      <th>1130996</th>\n",
       "      <td>ENSDART00000168273</td>\n",
       "      <td>ENSDARG00000104674</td>\n",
       "      <td>ENSDART00000168273.2.5</td>\n",
       "    </tr>\n",
       "    <tr>\n",
       "      <th>1130997</th>\n",
       "      <td>ENSDART00000168273</td>\n",
       "      <td>ENSDARG00000104674</td>\n",
       "      <td>ENSDART00000168273.2.7</td>\n",
       "    </tr>\n",
       "    <tr>\n",
       "      <th>1130998</th>\n",
       "      <td>ENSDART00000168273</td>\n",
       "      <td>ENSDARG00000104674</td>\n",
       "      <td>ENSDART00000168273.2.4</td>\n",
       "    </tr>\n",
       "    <tr>\n",
       "      <th>1130999</th>\n",
       "      <td>ENSDART00000168273</td>\n",
       "      <td>ENSDARG00000104674</td>\n",
       "      <td>ENSDART00000168273.2.8</td>\n",
       "    </tr>\n",
       "    <tr>\n",
       "      <th>1131000</th>\n",
       "      <td>ENSDART00000168273</td>\n",
       "      <td>ENSDARG00000104674</td>\n",
       "      <td>ENSDART00000168273.2.1</td>\n",
       "    </tr>\n",
       "  </tbody>\n",
       "</table>\n",
       "<p>1131001 rows × 3 columns</p>\n",
       "</div>"
      ],
      "text/plain": [
       "        transcript_id_clean       gene_id_clean  \\\n",
       "0        ENSDART00000164359  ENSDARG00000099104   \n",
       "1        ENSDART00000164359  ENSDARG00000099104   \n",
       "2        ENSDART00000164359  ENSDARG00000099104   \n",
       "3        ENSDART00000164359  ENSDARG00000099104   \n",
       "4        ENSDART00000164359  ENSDARG00000099104   \n",
       "...                     ...                 ...   \n",
       "1130996  ENSDART00000168273  ENSDARG00000104674   \n",
       "1130997  ENSDART00000168273  ENSDARG00000104674   \n",
       "1130998  ENSDART00000168273  ENSDARG00000104674   \n",
       "1130999  ENSDART00000168273  ENSDARG00000104674   \n",
       "1131000  ENSDART00000168273  ENSDARG00000104674   \n",
       "\n",
       "                                               exon_id  \n",
       "0        ENSDART00000164359.1.3_ENSDART00000167898.1.3  \n",
       "1        ENSDART00000164359.1.4_ENSDART00000167898.1.4  \n",
       "2                               ENSDART00000167898.1.1  \n",
       "3                               ENSDART00000164359.1.6  \n",
       "4        ENSDART00000158290.1.1_ENSDART00000157701.1.1  \n",
       "...                                                ...  \n",
       "1130996                         ENSDART00000168273.2.5  \n",
       "1130997                         ENSDART00000168273.2.7  \n",
       "1130998                         ENSDART00000168273.2.4  \n",
       "1130999                         ENSDART00000168273.2.8  \n",
       "1131000                         ENSDART00000168273.2.1  \n",
       "\n",
       "[1131001 rows x 3 columns]"
      ]
     },
     "execution_count": 11,
     "metadata": {},
     "output_type": "execute_result"
    }
   ],
   "source": [
    "exon_tr_gene_pd_clean = pd.merge(tr_gene_pd_clean, pd.DataFrame.from_dict(exon_gene_id_dict, orient='index').reset_index(), \n",
    "                                  left_on = 'gene_id_clean', right_on = 0).iloc[:,:-1]\n",
    "exon_tr_gene_pd_clean.columns = ['transcript_id_clean', 'gene_id_clean', 'exon_id']\n",
    "exon_tr_gene_pd_clean"
   ]
  },
  {
   "cell_type": "markdown",
   "metadata": {},
   "source": [
    "# merge FPKM TPM readcnt"
   ]
  },
  {
   "cell_type": "markdown",
   "metadata": {},
   "source": [
    "## FPKM TPM"
   ]
  },
  {
   "cell_type": "code",
   "execution_count": 6,
   "metadata": {},
   "outputs": [],
   "source": [
    "# add cmd lines to runned.sh\n",
    "run = False\n",
    "\n",
    "if run == True :\n",
    "    os.chdir('/mnt/Storage/home/wangyiman/maternal_loading/2.public_data/analysis_embryoExon_tissueExon')\n",
    "    with open('/mnt/Storage/home/wangyiman/maternal_loading/2.public_data/bin/util1_runned_mergeExpr.sh', 'w') as cmd_fi :\n",
    "        cmd_fi.write('#!/bin/bash')\n",
    "        for expression_type in ['FPKM', 'TPM'] :\n",
    "            column = '13' if expression_type == 'FPKM' else '14'\n",
    "            for finame in ['ovary_earlyEmbryo_sample_exon_readcnt_prepDE_sorted.txt', 'lateEmbryo_tissue_sample_exon_readcnt_prepDE_sorted.txt'] :\n",
    "                with open(f'{finame}') as samplefi :\n",
    "                    sample_ls = []\n",
    "                    firstline = samplefi.readline()\n",
    "                    gtffi = firstline.strip().split('\\t')[1]\n",
    "                    cmd = 'paste' +f' <(gtf_to_table.py -l 9 -f transcript {gtffi} | grep -v ' + \"'#'\" +f' | cut -f 10,{column} | sort -k1,1 - )'\n",
    "                    cmd2 = 'cat <(echo exon_id' + \"$'\\\\t'\" + firstline.strip().split(\"\\t\")[0]+\"$'\\\\t'\"\n",
    "\n",
    "                    for line in samplefi :\n",
    "                        gtffi = line.strip().split('\\t')[1]\n",
    "                        cmd += f' <(gtf_to_table.py -l 9 -f transcript {gtffi} | grep -v ' + \"'#'\" + f' | cut -f 10,{column} | sort -k1,1 - | cut -f 2 ) | paste -'\n",
    "                        cmd2 += line.strip().split(\"\\t\")[0] + \"$'\\\\t'\"\n",
    "\n",
    "                    cmd = cmd[:-10] + f' > ../analysis_embryoExon_tissueExon/{\"_\".join(finame.split(\"_\")[0:4])}_{expression_type}.tmp'\n",
    "                    cmd2 = cmd2[:-5] + f') {\"_\".join(finame.split(\"_\")[0:4])}_{expression_type}.tmp > {\"_\".join(finame.split(\"_\")[0:4])}_{expression_type}.tsv'\n",
    "                    cmd_fi.write('\\ncd ~/maternal_loading/2.public_data/2_expression_value_ExonUniq_merge_oldNew')\n",
    "                    cmd_fi.write('\\n' + cmd)\n",
    "                    cmd_fi.write('\\ncd ~/maternal_loading/2.public_data/analysis_embryoExon_tissueExon')\n",
    "                    cmd_fi.write('\\n' + cmd2 + '\\n')\n"
   ]
  },
  {
   "cell_type": "code",
   "execution_count": 97,
   "metadata": {},
   "outputs": [],
   "source": [
    "%%bash\n",
    "cd ~/maternal_loading/2.public_data\n",
    "# mkdir 2_expression_value_ExonUniq_merge_oldNew\n",
    "cd 2_expression_value_ExonUniq_merge_oldNew\n",
    "ln -f -s ../2_expression_value_ExonUniq/*ExonUniq.* .\n",
    "ln -f -s ../2_expression_value_trans/tissue_exon/*ExonUniq.* ."
   ]
  },
  {
   "cell_type": "code",
   "execution_count": 98,
   "metadata": {},
   "outputs": [
    {
     "name": "stdout",
     "output_type": "stream",
     "text": [
      ".read_cnt set()\n",
      ".txt set()\n",
      ".gtf set()\n"
     ]
    }
   ],
   "source": [
    "import glob\n",
    "os.chdir('/mnt/Storage/home/wangyiman/maternal_loading/2.public_data/2_expression_value_ExonUniq_merge_oldNew')\n",
    "\n",
    "readcnt_fis = glob.glob('*.read_cnt')\n",
    "txt_fis = glob.glob('*.txt')\n",
    "gtf_fis = glob.glob('*.gtf')\n",
    "\n",
    "readcnt_samples = [x[:-26] for x in readcnt_fis]\n",
    "txt_samples = [x[8:-30] for x in txt_fis]\n",
    "gtf_samples = [x[8:-30] for x in gtf_fis]\n",
    "\n",
    "total_samples = pd.read_csv('/mnt/Storage/home/wangyiman/maternal_loading/2.public_data/analysis_embryoExon_tissueExon/ovary_earlyEmbryo_sample_exon_readcnt_prepDE_sorted.txt', \n",
    "                            sep = '\\t', \n",
    "                            header = None).iloc[:,0].tolist() + pd.read_csv('/mnt/Storage/home/wangyiman/maternal_loading/2.public_data/analysis_embryoExon_tissueExon/lateEmbryo_tissue_sample_exon_readcnt_prepDE_sorted.txt', \n",
    "                                                                           sep = '\\t', header = None).iloc[:,0].tolist()\n",
    "\n",
    "print('.read_cnt', set(total_samples) - set(readcnt_samples))\n",
    "print('.txt', set(total_samples) - set(txt_samples))\n",
    "print('.gtf', set(total_samples) - set(gtf_samples))"
   ]
  },
  {
   "cell_type": "code",
   "execution_count": 100,
   "metadata": {},
   "outputs": [],
   "source": [
    "%%bash\n",
    "run=false\n",
    "cd /mnt/Storage/home/wangyiman/maternal_loading/2.public_data/bin\n",
    "\n",
    "[ $run == \"true\" ] && bash util1_runned_mergeExpr.sh\n"
   ]
  },
  {
   "cell_type": "markdown",
   "metadata": {},
   "source": [
    "## read count"
   ]
  },
  {
   "cell_type": "code",
   "execution_count": 102,
   "metadata": {
    "collapsed": true,
    "jupyter": {
     "outputs_hidden": true
    },
    "tags": []
   },
   "outputs": [
    {
     "name": "stdout",
     "output_type": "stream",
     "text": [
      "Warning: sample file RNA_seq_5mpf_ovary_rep1_ensGene_coverage.ExonUniq.gtf generated with a different -G file (/mnt/Storage/home/wangyiman/source/bySpecies/danRer11_2/danRer11_2.ensGene.ExonUniq.gtf) than the first sample (/mnt/Storage/home/wangyiman/source/bySpecies/danRer11_2/ensGene/danRer11_2.ensGene.ExonUniq.gtf)\n",
      "Warning: sample file RNA_seq_ovary_rep2_ensGene_coverage.ExonUniq.gtf generated with a different -G file (/mnt/Storage/home/wangyiman/source/bySpecies/danRer11_2/danRer11_2.ensGene.ExonUniq.gtf) than the first sample (/mnt/Storage/home/wangyiman/source/bySpecies/danRer11_2/ensGene/danRer11_2.ensGene.ExonUniq.gtf)\n",
      "Warning: sample file RNA_seq_2dpf_1_ensGene_coverage.ExonUniq.gtf generated with a different -G file (/mnt/Storage/home/wangyiman/source/bySpecies/danRer11_2/danRer11_2.ensGene.ExonUniq.gtf) than the first sample (/mnt/Storage/home/wangyiman/source/bySpecies/danRer11_2/ensGene/danRer11_2.ensGene.ExonUniq.gtf)\n",
      "Warning: sample file RNA_seq_2dpf_2_ensGene_coverage.ExonUniq.gtf generated with a different -G file (/mnt/Storage/home/wangyiman/source/bySpecies/danRer11_2/danRer11_2.ensGene.ExonUniq.gtf) than the first sample (/mnt/Storage/home/wangyiman/source/bySpecies/danRer11_2/ensGene/danRer11_2.ensGene.ExonUniq.gtf)\n",
      "Warning: sample file RNA_seq_2mpf_liver_rep1_ensGene_coverage.ExonUniq.gtf generated with a different -G file (/mnt/Storage/home/wangyiman/source/bySpecies/danRer11_2/danRer11_2.ensGene.ExonUniq.gtf) than the first sample (/mnt/Storage/home/wangyiman/source/bySpecies/danRer11_2/ensGene/danRer11_2.ensGene.ExonUniq.gtf)\n",
      "Warning: sample file RNA_seq_2mpf_liver_rep2_ensGene_coverage.ExonUniq.gtf generated with a different -G file (/mnt/Storage/home/wangyiman/source/bySpecies/danRer11_2/danRer11_2.ensGene.ExonUniq.gtf) than the first sample (/mnt/Storage/home/wangyiman/source/bySpecies/danRer11_2/ensGene/danRer11_2.ensGene.ExonUniq.gtf)\n",
      "Warning: sample file RNA_seq_36hpf_HSPC_rep1_ensGene_coverage.ExonUniq.gtf generated with a different -G file (/mnt/Storage/home/wangyiman/source/bySpecies/danRer11_2/danRer11_2.ensGene.ExonUniq.gtf) than the first sample (/mnt/Storage/home/wangyiman/source/bySpecies/danRer11_2/ensGene/danRer11_2.ensGene.ExonUniq.gtf)\n",
      "Warning: sample file RNA_seq_36hpf_HSPC_rep2_ensGene_coverage.ExonUniq.gtf generated with a different -G file (/mnt/Storage/home/wangyiman/source/bySpecies/danRer11_2/danRer11_2.ensGene.ExonUniq.gtf) than the first sample (/mnt/Storage/home/wangyiman/source/bySpecies/danRer11_2/ensGene/danRer11_2.ensGene.ExonUniq.gtf)\n",
      "Warning: sample file RNA_seq_36hpf_NHC_rep1_ensGene_coverage.ExonUniq.gtf generated with a different -G file (/mnt/Storage/home/wangyiman/source/bySpecies/danRer11_2/danRer11_2.ensGene.ExonUniq.gtf) than the first sample (/mnt/Storage/home/wangyiman/source/bySpecies/danRer11_2/ensGene/danRer11_2.ensGene.ExonUniq.gtf)\n",
      "Warning: sample file RNA_seq_36hpf_NHC_rep2_ensGene_coverage.ExonUniq.gtf generated with a different -G file (/mnt/Storage/home/wangyiman/source/bySpecies/danRer11_2/danRer11_2.ensGene.ExonUniq.gtf) than the first sample (/mnt/Storage/home/wangyiman/source/bySpecies/danRer11_2/ensGene/danRer11_2.ensGene.ExonUniq.gtf)\n",
      "Warning: sample file RNA_seq_36hpf_endothelial_rep1_ensGene_coverage.ExonUniq.gtf generated with a different -G file (/mnt/Storage/home/wangyiman/source/bySpecies/danRer11_2/danRer11_2.ensGene.ExonUniq.gtf) than the first sample (/mnt/Storage/home/wangyiman/source/bySpecies/danRer11_2/ensGene/danRer11_2.ensGene.ExonUniq.gtf)\n",
      "Warning: sample file RNA_seq_36hpf_endothelial_rep2_ensGene_coverage.ExonUniq.gtf generated with a different -G file (/mnt/Storage/home/wangyiman/source/bySpecies/danRer11_2/danRer11_2.ensGene.ExonUniq.gtf) than the first sample (/mnt/Storage/home/wangyiman/source/bySpecies/danRer11_2/ensGene/danRer11_2.ensGene.ExonUniq.gtf)\n",
      "Warning: sample file RNA_seq_36hpf_neural_crest_rep1_ensGene_coverage.ExonUniq.gtf generated with a different -G file (/mnt/Storage/home/wangyiman/source/bySpecies/danRer11_2/danRer11_2.ensGene.ExonUniq.gtf) than the first sample (/mnt/Storage/home/wangyiman/source/bySpecies/danRer11_2/ensGene/danRer11_2.ensGene.ExonUniq.gtf)\n",
      "Warning: sample file RNA_seq_36hpf_neural_crest_rep2_ensGene_coverage.ExonUniq.gtf generated with a different -G file (/mnt/Storage/home/wangyiman/source/bySpecies/danRer11_2/danRer11_2.ensGene.ExonUniq.gtf) than the first sample (/mnt/Storage/home/wangyiman/source/bySpecies/danRer11_2/ensGene/danRer11_2.ensGene.ExonUniq.gtf)\n",
      "Warning: sample file RNA_seq_36hpf_neural_crest_rep3_ensGene_coverage.ExonUniq.gtf generated with a different -G file (/mnt/Storage/home/wangyiman/source/bySpecies/danRer11_2/danRer11_2.ensGene.ExonUniq.gtf) than the first sample (/mnt/Storage/home/wangyiman/source/bySpecies/danRer11_2/ensGene/danRer11_2.ensGene.ExonUniq.gtf)\n",
      "Warning: sample file RNA_seq_36hpf_pgc_rep1_ensGene_coverage.ExonUniq.gtf generated with a different -G file (/mnt/Storage/home/wangyiman/source/bySpecies/danRer11_2/danRer11_2.ensGene.ExonUniq.gtf) than the first sample (/mnt/Storage/home/wangyiman/source/bySpecies/danRer11_2/ensGene/danRer11_2.ensGene.ExonUniq.gtf)\n",
      "Warning: sample file RNA_seq_36hpf_pgc_rep2_ensGene_coverage.ExonUniq.gtf generated with a different -G file (/mnt/Storage/home/wangyiman/source/bySpecies/danRer11_2/danRer11_2.ensGene.ExonUniq.gtf) than the first sample (/mnt/Storage/home/wangyiman/source/bySpecies/danRer11_2/ensGene/danRer11_2.ensGene.ExonUniq.gtf)\n",
      "Warning: sample file RNA_seq_36hpf_rep1_ensGene_coverage.ExonUniq.gtf generated with a different -G file (/mnt/Storage/home/wangyiman/source/bySpecies/danRer11_2/danRer11_2.ensGene.ExonUniq.gtf) than the first sample (/mnt/Storage/home/wangyiman/source/bySpecies/danRer11_2/ensGene/danRer11_2.ensGene.ExonUniq.gtf)\n",
      "Warning: sample file RNA_seq_36hpf_rep2_ensGene_coverage.ExonUniq.gtf generated with a different -G file (/mnt/Storage/home/wangyiman/source/bySpecies/danRer11_2/danRer11_2.ensGene.ExonUniq.gtf) than the first sample (/mnt/Storage/home/wangyiman/source/bySpecies/danRer11_2/ensGene/danRer11_2.ensGene.ExonUniq.gtf)\n",
      "Warning: sample file RNA_seq_36hpf_rep3_ensGene_coverage.ExonUniq.gtf generated with a different -G file (/mnt/Storage/home/wangyiman/source/bySpecies/danRer11_2/danRer11_2.ensGene.ExonUniq.gtf) than the first sample (/mnt/Storage/home/wangyiman/source/bySpecies/danRer11_2/ensGene/danRer11_2.ensGene.ExonUniq.gtf)\n",
      "Warning: sample file RNA_seq_36hpf_rep4_ensGene_coverage.ExonUniq.gtf generated with a different -G file (/mnt/Storage/home/wangyiman/source/bySpecies/danRer11_2/danRer11_2.ensGene.ExonUniq.gtf) than the first sample (/mnt/Storage/home/wangyiman/source/bySpecies/danRer11_2/ensGene/danRer11_2.ensGene.ExonUniq.gtf)\n",
      "Warning: sample file RNA_seq_36hpf_rep5_ensGene_coverage.ExonUniq.gtf generated with a different -G file (/mnt/Storage/home/wangyiman/source/bySpecies/danRer11_2/danRer11_2.ensGene.ExonUniq.gtf) than the first sample (/mnt/Storage/home/wangyiman/source/bySpecies/danRer11_2/ensGene/danRer11_2.ensGene.ExonUniq.gtf)\n",
      "Warning: sample file RNA_seq_36hpf_rep6_ensGene_coverage.ExonUniq.gtf generated with a different -G file (/mnt/Storage/home/wangyiman/source/bySpecies/danRer11_2/danRer11_2.ensGene.ExonUniq.gtf) than the first sample (/mnt/Storage/home/wangyiman/source/bySpecies/danRer11_2/ensGene/danRer11_2.ensGene.ExonUniq.gtf)\n",
      "Warning: sample file RNA_seq_36hpf_somatic_rep1_ensGene_coverage.ExonUniq.gtf generated with a different -G file (/mnt/Storage/home/wangyiman/source/bySpecies/danRer11_2/danRer11_2.ensGene.ExonUniq.gtf) than the first sample (/mnt/Storage/home/wangyiman/source/bySpecies/danRer11_2/ensGene/danRer11_2.ensGene.ExonUniq.gtf)\n",
      "Warning: sample file RNA_seq_36hpf_somatic_rep2_ensGene_coverage.ExonUniq.gtf generated with a different -G file (/mnt/Storage/home/wangyiman/source/bySpecies/danRer11_2/danRer11_2.ensGene.ExonUniq.gtf) than the first sample (/mnt/Storage/home/wangyiman/source/bySpecies/danRer11_2/ensGene/danRer11_2.ensGene.ExonUniq.gtf)\n",
      "Warning: sample file RNA_seq_3dpf_CHT_HSPC_rep1_ensGene_coverage.ExonUniq.gtf generated with a different -G file (/mnt/Storage/home/wangyiman/source/bySpecies/danRer11_2/danRer11_2.ensGene.ExonUniq.gtf) than the first sample (/mnt/Storage/home/wangyiman/source/bySpecies/danRer11_2/ensGene/danRer11_2.ensGene.ExonUniq.gtf)\n",
      "Warning: sample file RNA_seq_3dpf_CHT_HSPC_rep2_ensGene_coverage.ExonUniq.gtf generated with a different -G file (/mnt/Storage/home/wangyiman/source/bySpecies/danRer11_2/danRer11_2.ensGene.ExonUniq.gtf) than the first sample (/mnt/Storage/home/wangyiman/source/bySpecies/danRer11_2/ensGene/danRer11_2.ensGene.ExonUniq.gtf)\n",
      "Warning: sample file RNA_seq_3dpf_CHT_NHC_rep1_ensGene_coverage.ExonUniq.gtf generated with a different -G file (/mnt/Storage/home/wangyiman/source/bySpecies/danRer11_2/danRer11_2.ensGene.ExonUniq.gtf) than the first sample (/mnt/Storage/home/wangyiman/source/bySpecies/danRer11_2/ensGene/danRer11_2.ensGene.ExonUniq.gtf)\n",
      "Warning: sample file RNA_seq_3dpf_CHT_NHC_rep2_ensGene_coverage.ExonUniq.gtf generated with a different -G file (/mnt/Storage/home/wangyiman/source/bySpecies/danRer11_2/danRer11_2.ensGene.ExonUniq.gtf) than the first sample (/mnt/Storage/home/wangyiman/source/bySpecies/danRer11_2/ensGene/danRer11_2.ensGene.ExonUniq.gtf)\n",
      "Warning: sample file RNA_seq_3dpf_CHT_endothelial_rep1_ensGene_coverage.ExonUniq.gtf generated with a different -G file (/mnt/Storage/home/wangyiman/source/bySpecies/danRer11_2/danRer11_2.ensGene.ExonUniq.gtf) than the first sample (/mnt/Storage/home/wangyiman/source/bySpecies/danRer11_2/ensGene/danRer11_2.ensGene.ExonUniq.gtf)\n",
      "Warning: sample file RNA_seq_3dpf_CHT_endothelial_rep2_ensGene_coverage.ExonUniq.gtf generated with a different -G file (/mnt/Storage/home/wangyiman/source/bySpecies/danRer11_2/danRer11_2.ensGene.ExonUniq.gtf) than the first sample (/mnt/Storage/home/wangyiman/source/bySpecies/danRer11_2/ensGene/danRer11_2.ensGene.ExonUniq.gtf)\n",
      "Warning: sample file RNA_seq_3dpf_kidney_rep1_ensGene_coverage.ExonUniq.gtf generated with a different -G file (/mnt/Storage/home/wangyiman/source/bySpecies/danRer11_2/danRer11_2.ensGene.ExonUniq.gtf) than the first sample (/mnt/Storage/home/wangyiman/source/bySpecies/danRer11_2/ensGene/danRer11_2.ensGene.ExonUniq.gtf)\n",
      "Warning: sample file RNA_seq_3dpf_kidney_rep2_ensGene_coverage.ExonUniq.gtf generated with a different -G file (/mnt/Storage/home/wangyiman/source/bySpecies/danRer11_2/danRer11_2.ensGene.ExonUniq.gtf) than the first sample (/mnt/Storage/home/wangyiman/source/bySpecies/danRer11_2/ensGene/danRer11_2.ensGene.ExonUniq.gtf)\n",
      "Warning: sample file RNA_seq_3dpf_kidney_rep3_ensGene_coverage.ExonUniq.gtf generated with a different -G file (/mnt/Storage/home/wangyiman/source/bySpecies/danRer11_2/danRer11_2.ensGene.ExonUniq.gtf) than the first sample (/mnt/Storage/home/wangyiman/source/bySpecies/danRer11_2/ensGene/danRer11_2.ensGene.ExonUniq.gtf)\n",
      "Warning: sample file RNA_seq_3mpf_heart_rep1_ensGene_coverage.ExonUniq.gtf generated with a different -G file (/mnt/Storage/home/wangyiman/source/bySpecies/danRer11_2/danRer11_2.ensGene.ExonUniq.gtf) than the first sample (/mnt/Storage/home/wangyiman/source/bySpecies/danRer11_2/ensGene/danRer11_2.ensGene.ExonUniq.gtf)\n",
      "Warning: sample file RNA_seq_3mpf_kidney_HSPC_rep1_ensGene_coverage.ExonUniq.gtf generated with a different -G file (/mnt/Storage/home/wangyiman/source/bySpecies/danRer11_2/danRer11_2.ensGene.ExonUniq.gtf) than the first sample (/mnt/Storage/home/wangyiman/source/bySpecies/danRer11_2/ensGene/danRer11_2.ensGene.ExonUniq.gtf)\n",
      "Warning: sample file RNA_seq_3mpf_kidney_HSPC_rep2_ensGene_coverage.ExonUniq.gtf generated with a different -G file (/mnt/Storage/home/wangyiman/source/bySpecies/danRer11_2/danRer11_2.ensGene.ExonUniq.gtf) than the first sample (/mnt/Storage/home/wangyiman/source/bySpecies/danRer11_2/ensGene/danRer11_2.ensGene.ExonUniq.gtf)\n",
      "Warning: sample file RNA_seq_3mpf_kidney_NHC_rep1_ensGene_coverage.ExonUniq.gtf generated with a different -G file (/mnt/Storage/home/wangyiman/source/bySpecies/danRer11_2/danRer11_2.ensGene.ExonUniq.gtf) than the first sample (/mnt/Storage/home/wangyiman/source/bySpecies/danRer11_2/ensGene/danRer11_2.ensGene.ExonUniq.gtf)\n",
      "Warning: sample file RNA_seq_3mpf_kidney_NHC_rep2_ensGene_coverage.ExonUniq.gtf generated with a different -G file (/mnt/Storage/home/wangyiman/source/bySpecies/danRer11_2/danRer11_2.ensGene.ExonUniq.gtf) than the first sample (/mnt/Storage/home/wangyiman/source/bySpecies/danRer11_2/ensGene/danRer11_2.ensGene.ExonUniq.gtf)\n",
      "Warning: sample file RNA_seq_3wpf_rep1_ensGene_coverage.ExonUniq.gtf generated with a different -G file (/mnt/Storage/home/wangyiman/source/bySpecies/danRer11_2/danRer11_2.ensGene.ExonUniq.gtf) than the first sample (/mnt/Storage/home/wangyiman/source/bySpecies/danRer11_2/ensGene/danRer11_2.ensGene.ExonUniq.gtf)\n",
      "Warning: sample file RNA_seq_3wpf_rep2_ensGene_coverage.ExonUniq.gtf generated with a different -G file (/mnt/Storage/home/wangyiman/source/bySpecies/danRer11_2/danRer11_2.ensGene.ExonUniq.gtf) than the first sample (/mnt/Storage/home/wangyiman/source/bySpecies/danRer11_2/ensGene/danRer11_2.ensGene.ExonUniq.gtf)\n",
      "Warning: sample file RNA_seq_3wpf_rep3_ensGene_coverage.ExonUniq.gtf generated with a different -G file (/mnt/Storage/home/wangyiman/source/bySpecies/danRer11_2/danRer11_2.ensGene.ExonUniq.gtf) than the first sample (/mnt/Storage/home/wangyiman/source/bySpecies/danRer11_2/ensGene/danRer11_2.ensGene.ExonUniq.gtf)\n",
      "Warning: sample file RNA_seq_4dpf_CHT_HSPC_rep1_ensGene_coverage.ExonUniq.gtf generated with a different -G file (/mnt/Storage/home/wangyiman/source/bySpecies/danRer11_2/danRer11_2.ensGene.ExonUniq.gtf) than the first sample (/mnt/Storage/home/wangyiman/source/bySpecies/danRer11_2/ensGene/danRer11_2.ensGene.ExonUniq.gtf)\n",
      "Warning: sample file RNA_seq_4dpf_CHT_HSPC_rep2_ensGene_coverage.ExonUniq.gtf generated with a different -G file (/mnt/Storage/home/wangyiman/source/bySpecies/danRer11_2/danRer11_2.ensGene.ExonUniq.gtf) than the first sample (/mnt/Storage/home/wangyiman/source/bySpecies/danRer11_2/ensGene/danRer11_2.ensGene.ExonUniq.gtf)\n",
      "Warning: sample file RNA_seq_4dpf_CHT_NHC_rep1_ensGene_coverage.ExonUniq.gtf generated with a different -G file (/mnt/Storage/home/wangyiman/source/bySpecies/danRer11_2/danRer11_2.ensGene.ExonUniq.gtf) than the first sample (/mnt/Storage/home/wangyiman/source/bySpecies/danRer11_2/ensGene/danRer11_2.ensGene.ExonUniq.gtf)\n",
      "Warning: sample file RNA_seq_4dpf_CHT_NHC_rep2_ensGene_coverage.ExonUniq.gtf generated with a different -G file (/mnt/Storage/home/wangyiman/source/bySpecies/danRer11_2/danRer11_2.ensGene.ExonUniq.gtf) than the first sample (/mnt/Storage/home/wangyiman/source/bySpecies/danRer11_2/ensGene/danRer11_2.ensGene.ExonUniq.gtf)\n",
      "Warning: sample file RNA_seq_4dpf_CHT_endothelial_rep1_ensGene_coverage.ExonUniq.gtf generated with a different -G file (/mnt/Storage/home/wangyiman/source/bySpecies/danRer11_2/danRer11_2.ensGene.ExonUniq.gtf) than the first sample (/mnt/Storage/home/wangyiman/source/bySpecies/danRer11_2/ensGene/danRer11_2.ensGene.ExonUniq.gtf)\n",
      "Warning: sample file RNA_seq_4dpf_CHT_endothelial_rep2_ensGene_coverage.ExonUniq.gtf generated with a different -G file (/mnt/Storage/home/wangyiman/source/bySpecies/danRer11_2/danRer11_2.ensGene.ExonUniq.gtf) than the first sample (/mnt/Storage/home/wangyiman/source/bySpecies/danRer11_2/ensGene/danRer11_2.ensGene.ExonUniq.gtf)\n",
      "Warning: sample file RNA_seq_4dpf_endothelial_rep1_ensGene_coverage.ExonUniq.gtf generated with a different -G file (/mnt/Storage/home/wangyiman/source/bySpecies/danRer11_2/danRer11_2.ensGene.ExonUniq.gtf) than the first sample (/mnt/Storage/home/wangyiman/source/bySpecies/danRer11_2/ensGene/danRer11_2.ensGene.ExonUniq.gtf)\n",
      "Warning: sample file RNA_seq_4dpf_endothelial_rep2_ensGene_coverage.ExonUniq.gtf generated with a different -G file (/mnt/Storage/home/wangyiman/source/bySpecies/danRer11_2/danRer11_2.ensGene.ExonUniq.gtf) than the first sample (/mnt/Storage/home/wangyiman/source/bySpecies/danRer11_2/ensGene/danRer11_2.ensGene.ExonUniq.gtf)\n",
      "Warning: sample file RNA_seq_4dpf_endothelial_rep3_ensGene_coverage.ExonUniq.gtf generated with a different -G file (/mnt/Storage/home/wangyiman/source/bySpecies/danRer11_2/danRer11_2.ensGene.ExonUniq.gtf) than the first sample (/mnt/Storage/home/wangyiman/source/bySpecies/danRer11_2/ensGene/danRer11_2.ensGene.ExonUniq.gtf)\n",
      "Warning: sample file RNA_seq_4dpf_podocytes_rep1_ensGene_coverage.ExonUniq.gtf generated with a different -G file (/mnt/Storage/home/wangyiman/source/bySpecies/danRer11_2/danRer11_2.ensGene.ExonUniq.gtf) than the first sample (/mnt/Storage/home/wangyiman/source/bySpecies/danRer11_2/ensGene/danRer11_2.ensGene.ExonUniq.gtf)\n",
      "Warning: sample file RNA_seq_4dpf_podocytes_rep2_ensGene_coverage.ExonUniq.gtf generated with a different -G file (/mnt/Storage/home/wangyiman/source/bySpecies/danRer11_2/danRer11_2.ensGene.ExonUniq.gtf) than the first sample (/mnt/Storage/home/wangyiman/source/bySpecies/danRer11_2/ensGene/danRer11_2.ensGene.ExonUniq.gtf)\n",
      "Warning: sample file RNA_seq_4dpf_podocytes_rep3_ensGene_coverage.ExonUniq.gtf generated with a different -G file (/mnt/Storage/home/wangyiman/source/bySpecies/danRer11_2/danRer11_2.ensGene.ExonUniq.gtf) than the first sample (/mnt/Storage/home/wangyiman/source/bySpecies/danRer11_2/ensGene/danRer11_2.ensGene.ExonUniq.gtf)\n",
      "Warning: sample file RNA_seq_4dpf_vascular_muscle_acta2_n_fosc1b_n_rep1_ensGene_coverage.ExonUniq.gtf generated with a different -G file (/mnt/Storage/home/wangyiman/source/bySpecies/danRer11_2/danRer11_2.ensGene.ExonUniq.gtf) than the first sample (/mnt/Storage/home/wangyiman/source/bySpecies/danRer11_2/ensGene/danRer11_2.ensGene.ExonUniq.gtf)\n",
      "Warning: sample file RNA_seq_4dpf_vascular_muscle_acta2_n_fosc1b_n_rep2_ensGene_coverage.ExonUniq.gtf generated with a different -G file (/mnt/Storage/home/wangyiman/source/bySpecies/danRer11_2/danRer11_2.ensGene.ExonUniq.gtf) than the first sample (/mnt/Storage/home/wangyiman/source/bySpecies/danRer11_2/ensGene/danRer11_2.ensGene.ExonUniq.gtf)\n",
      "Warning: sample file RNA_seq_4dpf_vascular_muscle_acta2_n_fosc1b_n_rep3_ensGene_coverage.ExonUniq.gtf generated with a different -G file (/mnt/Storage/home/wangyiman/source/bySpecies/danRer11_2/danRer11_2.ensGene.ExonUniq.gtf) than the first sample (/mnt/Storage/home/wangyiman/source/bySpecies/danRer11_2/ensGene/danRer11_2.ensGene.ExonUniq.gtf)\n",
      "Warning: sample file RNA_seq_4dpf_vascular_muscle_acta2_n_rep1_ensGene_coverage.ExonUniq.gtf generated with a different -G file (/mnt/Storage/home/wangyiman/source/bySpecies/danRer11_2/danRer11_2.ensGene.ExonUniq.gtf) than the first sample (/mnt/Storage/home/wangyiman/source/bySpecies/danRer11_2/ensGene/danRer11_2.ensGene.ExonUniq.gtf)\n",
      "Warning: sample file RNA_seq_4dpf_vascular_muscle_acta2_n_rep2_ensGene_coverage.ExonUniq.gtf generated with a different -G file (/mnt/Storage/home/wangyiman/source/bySpecies/danRer11_2/danRer11_2.ensGene.ExonUniq.gtf) than the first sample (/mnt/Storage/home/wangyiman/source/bySpecies/danRer11_2/ensGene/danRer11_2.ensGene.ExonUniq.gtf)\n",
      "Warning: sample file RNA_seq_4dpf_vascular_muscle_acta2_n_rep3_ensGene_coverage.ExonUniq.gtf generated with a different -G file (/mnt/Storage/home/wangyiman/source/bySpecies/danRer11_2/danRer11_2.ensGene.ExonUniq.gtf) than the first sample (/mnt/Storage/home/wangyiman/source/bySpecies/danRer11_2/ensGene/danRer11_2.ensGene.ExonUniq.gtf)\n",
      "Warning: sample file RNA_seq_4dpf_vascular_muscle_acta2_p_fosc1b_p_rep1_ensGene_coverage.ExonUniq.gtf generated with a different -G file (/mnt/Storage/home/wangyiman/source/bySpecies/danRer11_2/danRer11_2.ensGene.ExonUniq.gtf) than the first sample (/mnt/Storage/home/wangyiman/source/bySpecies/danRer11_2/ensGene/danRer11_2.ensGene.ExonUniq.gtf)\n",
      "Warning: sample file RNA_seq_4dpf_vascular_muscle_acta2_p_fosc1b_p_rep2_ensGene_coverage.ExonUniq.gtf generated with a different -G file (/mnt/Storage/home/wangyiman/source/bySpecies/danRer11_2/danRer11_2.ensGene.ExonUniq.gtf) than the first sample (/mnt/Storage/home/wangyiman/source/bySpecies/danRer11_2/ensGene/danRer11_2.ensGene.ExonUniq.gtf)\n",
      "Warning: sample file RNA_seq_4dpf_vascular_muscle_acta2_p_rep2_ensGene_coverage.ExonUniq.gtf generated with a different -G file (/mnt/Storage/home/wangyiman/source/bySpecies/danRer11_2/danRer11_2.ensGene.ExonUniq.gtf) than the first sample (/mnt/Storage/home/wangyiman/source/bySpecies/danRer11_2/ensGene/danRer11_2.ensGene.ExonUniq.gtf)\n",
      "Warning: sample file RNA_seq_4dpf_vascular_muscle_acta2_p_rep3_ensGene_coverage.ExonUniq.gtf generated with a different -G file (/mnt/Storage/home/wangyiman/source/bySpecies/danRer11_2/danRer11_2.ensGene.ExonUniq.gtf) than the first sample (/mnt/Storage/home/wangyiman/source/bySpecies/danRer11_2/ensGene/danRer11_2.ensGene.ExonUniq.gtf)\n",
      "Warning: sample file RNA_seq_52hpf_CHT_NHC_rep1_ensGene_coverage.ExonUniq.gtf generated with a different -G file (/mnt/Storage/home/wangyiman/source/bySpecies/danRer11_2/danRer11_2.ensGene.ExonUniq.gtf) than the first sample (/mnt/Storage/home/wangyiman/source/bySpecies/danRer11_2/ensGene/danRer11_2.ensGene.ExonUniq.gtf)\n",
      "Warning: sample file RNA_seq_52hpf_CHT_NHC_rep2_ensGene_coverage.ExonUniq.gtf generated with a different -G file (/mnt/Storage/home/wangyiman/source/bySpecies/danRer11_2/danRer11_2.ensGene.ExonUniq.gtf) than the first sample (/mnt/Storage/home/wangyiman/source/bySpecies/danRer11_2/ensGene/danRer11_2.ensGene.ExonUniq.gtf)\n",
      "Warning: sample file RNA_seq_52hpf_allskin_rep1_ensGene_coverage.ExonUniq.gtf generated with a different -G file (/mnt/Storage/home/wangyiman/source/bySpecies/danRer11_2/danRer11_2.ensGene.ExonUniq.gtf) than the first sample (/mnt/Storage/home/wangyiman/source/bySpecies/danRer11_2/ensGene/danRer11_2.ensGene.ExonUniq.gtf)\n",
      "Warning: sample file RNA_seq_52hpf_allskin_rep2_ensGene_coverage.ExonUniq.gtf generated with a different -G file (/mnt/Storage/home/wangyiman/source/bySpecies/danRer11_2/danRer11_2.ensGene.ExonUniq.gtf) than the first sample (/mnt/Storage/home/wangyiman/source/bySpecies/danRer11_2/ensGene/danRer11_2.ensGene.ExonUniq.gtf)\n",
      "Warning: sample file RNA_seq_52hpf_basal_rep1_ensGene_coverage.ExonUniq.gtf generated with a different -G file (/mnt/Storage/home/wangyiman/source/bySpecies/danRer11_2/danRer11_2.ensGene.ExonUniq.gtf) than the first sample (/mnt/Storage/home/wangyiman/source/bySpecies/danRer11_2/ensGene/danRer11_2.ensGene.ExonUniq.gtf)\n",
      "Warning: sample file RNA_seq_52hpf_basal_rep2_ensGene_coverage.ExonUniq.gtf generated with a different -G file (/mnt/Storage/home/wangyiman/source/bySpecies/danRer11_2/danRer11_2.ensGene.ExonUniq.gtf) than the first sample (/mnt/Storage/home/wangyiman/source/bySpecies/danRer11_2/ensGene/danRer11_2.ensGene.ExonUniq.gtf)\n",
      "Warning: sample file RNA_seq_52hpf_periderm_rep1_ensGene_coverage.ExonUniq.gtf generated with a different -G file (/mnt/Storage/home/wangyiman/source/bySpecies/danRer11_2/danRer11_2.ensGene.ExonUniq.gtf) than the first sample (/mnt/Storage/home/wangyiman/source/bySpecies/danRer11_2/ensGene/danRer11_2.ensGene.ExonUniq.gtf)\n",
      "Warning: sample file RNA_seq_52hpf_periderm_rep2_ensGene_coverage.ExonUniq.gtf generated with a different -G file (/mnt/Storage/home/wangyiman/source/bySpecies/danRer11_2/danRer11_2.ensGene.ExonUniq.gtf) than the first sample (/mnt/Storage/home/wangyiman/source/bySpecies/danRer11_2/ensGene/danRer11_2.ensGene.ExonUniq.gtf)\n",
      "Warning: sample file RNA_seq_56hpf_heart_rep1_ensGene_coverage.ExonUniq.gtf generated with a different -G file (/mnt/Storage/home/wangyiman/source/bySpecies/danRer11_2/danRer11_2.ensGene.ExonUniq.gtf) than the first sample (/mnt/Storage/home/wangyiman/source/bySpecies/danRer11_2/ensGene/danRer11_2.ensGene.ExonUniq.gtf)\n",
      "Warning: sample file RNA_seq_56hpf_heart_rep2_ensGene_coverage.ExonUniq.gtf generated with a different -G file (/mnt/Storage/home/wangyiman/source/bySpecies/danRer11_2/danRer11_2.ensGene.ExonUniq.gtf) than the first sample (/mnt/Storage/home/wangyiman/source/bySpecies/danRer11_2/ensGene/danRer11_2.ensGene.ExonUniq.gtf)\n",
      "Warning: sample file RNA_seq_5dpf_1_ensGene_coverage.ExonUniq.gtf generated with a different -G file (/mnt/Storage/home/wangyiman/source/bySpecies/danRer11_2/danRer11_2.ensGene.ExonUniq.gtf) than the first sample (/mnt/Storage/home/wangyiman/source/bySpecies/danRer11_2/ensGene/danRer11_2.ensGene.ExonUniq.gtf)\n",
      "Warning: sample file RNA_seq_5dpf_2_ensGene_coverage.ExonUniq.gtf generated with a different -G file (/mnt/Storage/home/wangyiman/source/bySpecies/danRer11_2/danRer11_2.ensGene.ExonUniq.gtf) than the first sample (/mnt/Storage/home/wangyiman/source/bySpecies/danRer11_2/ensGene/danRer11_2.ensGene.ExonUniq.gtf)\n",
      "Warning: sample file RNA_seq_5dpf_beta_rep1_ensGene_coverage.ExonUniq.gtf generated with a different -G file (/mnt/Storage/home/wangyiman/source/bySpecies/danRer11_2/danRer11_2.ensGene.ExonUniq.gtf) than the first sample (/mnt/Storage/home/wangyiman/source/bySpecies/danRer11_2/ensGene/danRer11_2.ensGene.ExonUniq.gtf)\n",
      "Warning: sample file RNA_seq_5dpf_beta_rep2_ensGene_coverage.ExonUniq.gtf generated with a different -G file (/mnt/Storage/home/wangyiman/source/bySpecies/danRer11_2/danRer11_2.ensGene.ExonUniq.gtf) than the first sample (/mnt/Storage/home/wangyiman/source/bySpecies/danRer11_2/ensGene/danRer11_2.ensGene.ExonUniq.gtf)\n",
      "Warning: sample file RNA_seq_5dpf_rep3_ensGene_coverage.ExonUniq.gtf generated with a different -G file (/mnt/Storage/home/wangyiman/source/bySpecies/danRer11_2/danRer11_2.ensGene.ExonUniq.gtf) than the first sample (/mnt/Storage/home/wangyiman/source/bySpecies/danRer11_2/ensGene/danRer11_2.ensGene.ExonUniq.gtf)\n",
      "Warning: sample file RNA_seq_5dpf_rep4_ensGene_coverage.ExonUniq.gtf generated with a different -G file (/mnt/Storage/home/wangyiman/source/bySpecies/danRer11_2/danRer11_2.ensGene.ExonUniq.gtf) than the first sample (/mnt/Storage/home/wangyiman/source/bySpecies/danRer11_2/ensGene/danRer11_2.ensGene.ExonUniq.gtf)\n",
      "Warning: sample file RNA_seq_5dpf_rep5_ensGene_coverage.ExonUniq.gtf generated with a different -G file (/mnt/Storage/home/wangyiman/source/bySpecies/danRer11_2/danRer11_2.ensGene.ExonUniq.gtf) than the first sample (/mnt/Storage/home/wangyiman/source/bySpecies/danRer11_2/ensGene/danRer11_2.ensGene.ExonUniq.gtf)\n",
      "Warning: sample file RNA_seq_5dpf_vascular_muscle_kdrl_n_rep1_ensGene_coverage.ExonUniq.gtf generated with a different -G file (/mnt/Storage/home/wangyiman/source/bySpecies/danRer11_2/danRer11_2.ensGene.ExonUniq.gtf) than the first sample (/mnt/Storage/home/wangyiman/source/bySpecies/danRer11_2/ensGene/danRer11_2.ensGene.ExonUniq.gtf)\n",
      "Warning: sample file RNA_seq_5dpf_vascular_muscle_kdrl_n_rep2_ensGene_coverage.ExonUniq.gtf generated with a different -G file (/mnt/Storage/home/wangyiman/source/bySpecies/danRer11_2/danRer11_2.ensGene.ExonUniq.gtf) than the first sample (/mnt/Storage/home/wangyiman/source/bySpecies/danRer11_2/ensGene/danRer11_2.ensGene.ExonUniq.gtf)\n",
      "Warning: sample file RNA_seq_5dpf_vascular_muscle_kdrl_n_rep3_ensGene_coverage.ExonUniq.gtf generated with a different -G file (/mnt/Storage/home/wangyiman/source/bySpecies/danRer11_2/danRer11_2.ensGene.ExonUniq.gtf) than the first sample (/mnt/Storage/home/wangyiman/source/bySpecies/danRer11_2/ensGene/danRer11_2.ensGene.ExonUniq.gtf)\n",
      "Warning: sample file RNA_seq_5dpf_vascular_muscle_kdrl_p_rep1_ensGene_coverage.ExonUniq.gtf generated with a different -G file (/mnt/Storage/home/wangyiman/source/bySpecies/danRer11_2/danRer11_2.ensGene.ExonUniq.gtf) than the first sample (/mnt/Storage/home/wangyiman/source/bySpecies/danRer11_2/ensGene/danRer11_2.ensGene.ExonUniq.gtf)\n",
      "Warning: sample file RNA_seq_5dpf_vascular_muscle_kdrl_p_rep2_ensGene_coverage.ExonUniq.gtf generated with a different -G file (/mnt/Storage/home/wangyiman/source/bySpecies/danRer11_2/danRer11_2.ensGene.ExonUniq.gtf) than the first sample (/mnt/Storage/home/wangyiman/source/bySpecies/danRer11_2/ensGene/danRer11_2.ensGene.ExonUniq.gtf)\n",
      "Warning: sample file RNA_seq_5dpf_vascular_muscle_kdrl_p_rep3_ensGene_coverage.ExonUniq.gtf generated with a different -G file (/mnt/Storage/home/wangyiman/source/bySpecies/danRer11_2/danRer11_2.ensGene.ExonUniq.gtf) than the first sample (/mnt/Storage/home/wangyiman/source/bySpecies/danRer11_2/ensGene/danRer11_2.ensGene.ExonUniq.gtf)\n",
      "Warning: sample file RNA_seq_6dpf_IEC_rep1_ensGene_coverage.ExonUniq.gtf generated with a different -G file (/mnt/Storage/home/wangyiman/source/bySpecies/danRer11_2/danRer11_2.ensGene.ExonUniq.gtf) than the first sample (/mnt/Storage/home/wangyiman/source/bySpecies/danRer11_2/ensGene/danRer11_2.ensGene.ExonUniq.gtf)\n",
      "Warning: sample file RNA_seq_6dpf_IEC_rep2_ensGene_coverage.ExonUniq.gtf generated with a different -G file (/mnt/Storage/home/wangyiman/source/bySpecies/danRer11_2/danRer11_2.ensGene.ExonUniq.gtf) than the first sample (/mnt/Storage/home/wangyiman/source/bySpecies/danRer11_2/ensGene/danRer11_2.ensGene.ExonUniq.gtf)\n",
      "Warning: sample file RNA_seq_6dpf_IEC_rep3_ensGene_coverage.ExonUniq.gtf generated with a different -G file (/mnt/Storage/home/wangyiman/source/bySpecies/danRer11_2/danRer11_2.ensGene.ExonUniq.gtf) than the first sample (/mnt/Storage/home/wangyiman/source/bySpecies/danRer11_2/ensGene/danRer11_2.ensGene.ExonUniq.gtf)\n",
      "Warning: sample file RNA_seq_6dpf_LRE_rep1_ensGene_coverage.ExonUniq.gtf generated with a different -G file (/mnt/Storage/home/wangyiman/source/bySpecies/danRer11_2/danRer11_2.ensGene.ExonUniq.gtf) than the first sample (/mnt/Storage/home/wangyiman/source/bySpecies/danRer11_2/ensGene/danRer11_2.ensGene.ExonUniq.gtf)\n",
      "Warning: sample file RNA_seq_6dpf_LRE_rep2_ensGene_coverage.ExonUniq.gtf generated with a different -G file (/mnt/Storage/home/wangyiman/source/bySpecies/danRer11_2/danRer11_2.ensGene.ExonUniq.gtf) than the first sample (/mnt/Storage/home/wangyiman/source/bySpecies/danRer11_2/ensGene/danRer11_2.ensGene.ExonUniq.gtf)\n",
      "Warning: sample file RNA_seq_6dpf_LRE_rep3_ensGene_coverage.ExonUniq.gtf generated with a different -G file (/mnt/Storage/home/wangyiman/source/bySpecies/danRer11_2/danRer11_2.ensGene.ExonUniq.gtf) than the first sample (/mnt/Storage/home/wangyiman/source/bySpecies/danRer11_2/ensGene/danRer11_2.ensGene.ExonUniq.gtf)\n",
      "Warning: sample file RNA_seq_6dpf_rep1_ensGene_coverage.ExonUniq.gtf generated with a different -G file (/mnt/Storage/home/wangyiman/source/bySpecies/danRer11_2/danRer11_2.ensGene.ExonUniq.gtf) than the first sample (/mnt/Storage/home/wangyiman/source/bySpecies/danRer11_2/ensGene/danRer11_2.ensGene.ExonUniq.gtf)\n",
      "Warning: sample file RNA_seq_72hpf_allskin_rep1_ensGene_coverage.ExonUniq.gtf generated with a different -G file (/mnt/Storage/home/wangyiman/source/bySpecies/danRer11_2/danRer11_2.ensGene.ExonUniq.gtf) than the first sample (/mnt/Storage/home/wangyiman/source/bySpecies/danRer11_2/ensGene/danRer11_2.ensGene.ExonUniq.gtf)\n",
      "Warning: sample file RNA_seq_72hpf_allskin_rep2_ensGene_coverage.ExonUniq.gtf generated with a different -G file (/mnt/Storage/home/wangyiman/source/bySpecies/danRer11_2/danRer11_2.ensGene.ExonUniq.gtf) than the first sample (/mnt/Storage/home/wangyiman/source/bySpecies/danRer11_2/ensGene/danRer11_2.ensGene.ExonUniq.gtf)\n",
      "Warning: sample file RNA_seq_72hpf_basal_rep1_ensGene_coverage.ExonUniq.gtf generated with a different -G file (/mnt/Storage/home/wangyiman/source/bySpecies/danRer11_2/danRer11_2.ensGene.ExonUniq.gtf) than the first sample (/mnt/Storage/home/wangyiman/source/bySpecies/danRer11_2/ensGene/danRer11_2.ensGene.ExonUniq.gtf)\n",
      "Warning: sample file RNA_seq_72hpf_basal_rep2_ensGene_coverage.ExonUniq.gtf generated with a different -G file (/mnt/Storage/home/wangyiman/source/bySpecies/danRer11_2/danRer11_2.ensGene.ExonUniq.gtf) than the first sample (/mnt/Storage/home/wangyiman/source/bySpecies/danRer11_2/ensGene/danRer11_2.ensGene.ExonUniq.gtf)\n",
      "Warning: sample file RNA_seq_72hpf_neural_crest_rep1_ensGene_coverage.ExonUniq.gtf generated with a different -G file (/mnt/Storage/home/wangyiman/source/bySpecies/danRer11_2/danRer11_2.ensGene.ExonUniq.gtf) than the first sample (/mnt/Storage/home/wangyiman/source/bySpecies/danRer11_2/ensGene/danRer11_2.ensGene.ExonUniq.gtf)\n",
      "Warning: sample file RNA_seq_72hpf_neural_crest_rep2_ensGene_coverage.ExonUniq.gtf generated with a different -G file (/mnt/Storage/home/wangyiman/source/bySpecies/danRer11_2/danRer11_2.ensGene.ExonUniq.gtf) than the first sample (/mnt/Storage/home/wangyiman/source/bySpecies/danRer11_2/ensGene/danRer11_2.ensGene.ExonUniq.gtf)\n",
      "Warning: sample file RNA_seq_72hpf_neural_crest_rep3_ensGene_coverage.ExonUniq.gtf generated with a different -G file (/mnt/Storage/home/wangyiman/source/bySpecies/danRer11_2/danRer11_2.ensGene.ExonUniq.gtf) than the first sample (/mnt/Storage/home/wangyiman/source/bySpecies/danRer11_2/ensGene/danRer11_2.ensGene.ExonUniq.gtf)\n",
      "Warning: sample file RNA_seq_72hpf_periderm_rep1_ensGene_coverage.ExonUniq.gtf generated with a different -G file (/mnt/Storage/home/wangyiman/source/bySpecies/danRer11_2/danRer11_2.ensGene.ExonUniq.gtf) than the first sample (/mnt/Storage/home/wangyiman/source/bySpecies/danRer11_2/ensGene/danRer11_2.ensGene.ExonUniq.gtf)\n",
      "Warning: sample file RNA_seq_72hpf_periderm_rep2_ensGene_coverage.ExonUniq.gtf generated with a different -G file (/mnt/Storage/home/wangyiman/source/bySpecies/danRer11_2/danRer11_2.ensGene.ExonUniq.gtf) than the first sample (/mnt/Storage/home/wangyiman/source/bySpecies/danRer11_2/ensGene/danRer11_2.ensGene.ExonUniq.gtf)\n",
      "Warning: sample file RNA_seq_elife_30860_2dpf_1_ensGene_coverage.ExonUniq.gtf generated with a different -G file (/mnt/Storage/home/wangyiman/source/bySpecies/danRer11_2/danRer11_2.ensGene.ExonUniq.gtf) than the first sample (/mnt/Storage/home/wangyiman/source/bySpecies/danRer11_2/ensGene/danRer11_2.ensGene.ExonUniq.gtf)\n",
      "Warning: sample file RNA_seq_elife_30860_2dpf_2_ensGene_coverage.ExonUniq.gtf generated with a different -G file (/mnt/Storage/home/wangyiman/source/bySpecies/danRer11_2/danRer11_2.ensGene.ExonUniq.gtf) than the first sample (/mnt/Storage/home/wangyiman/source/bySpecies/danRer11_2/ensGene/danRer11_2.ensGene.ExonUniq.gtf)\n",
      "Warning: sample file RNA_seq_elife_30860_2dpf_3_ensGene_coverage.ExonUniq.gtf generated with a different -G file (/mnt/Storage/home/wangyiman/source/bySpecies/danRer11_2/danRer11_2.ensGene.ExonUniq.gtf) than the first sample (/mnt/Storage/home/wangyiman/source/bySpecies/danRer11_2/ensGene/danRer11_2.ensGene.ExonUniq.gtf)\n",
      "Warning: sample file RNA_seq_elife_30860_2dpf_4_ensGene_coverage.ExonUniq.gtf generated with a different -G file (/mnt/Storage/home/wangyiman/source/bySpecies/danRer11_2/danRer11_2.ensGene.ExonUniq.gtf) than the first sample (/mnt/Storage/home/wangyiman/source/bySpecies/danRer11_2/ensGene/danRer11_2.ensGene.ExonUniq.gtf)\n",
      "Warning: sample file RNA_seq_elife_30860_2dpf_5_ensGene_coverage.ExonUniq.gtf generated with a different -G file (/mnt/Storage/home/wangyiman/source/bySpecies/danRer11_2/danRer11_2.ensGene.ExonUniq.gtf) than the first sample (/mnt/Storage/home/wangyiman/source/bySpecies/danRer11_2/ensGene/danRer11_2.ensGene.ExonUniq.gtf)\n",
      "Warning: sample file RNA_seq_elife_30860_36hpf_1_ensGene_coverage.ExonUniq.gtf generated with a different -G file (/mnt/Storage/home/wangyiman/source/bySpecies/danRer11_2/danRer11_2.ensGene.ExonUniq.gtf) than the first sample (/mnt/Storage/home/wangyiman/source/bySpecies/danRer11_2/ensGene/danRer11_2.ensGene.ExonUniq.gtf)\n",
      "Warning: sample file RNA_seq_elife_30860_36hpf_2_ensGene_coverage.ExonUniq.gtf generated with a different -G file (/mnt/Storage/home/wangyiman/source/bySpecies/danRer11_2/danRer11_2.ensGene.ExonUniq.gtf) than the first sample (/mnt/Storage/home/wangyiman/source/bySpecies/danRer11_2/ensGene/danRer11_2.ensGene.ExonUniq.gtf)\n",
      "Warning: sample file RNA_seq_elife_30860_36hpf_3_ensGene_coverage.ExonUniq.gtf generated with a different -G file (/mnt/Storage/home/wangyiman/source/bySpecies/danRer11_2/danRer11_2.ensGene.ExonUniq.gtf) than the first sample (/mnt/Storage/home/wangyiman/source/bySpecies/danRer11_2/ensGene/danRer11_2.ensGene.ExonUniq.gtf)\n",
      "Warning: sample file RNA_seq_elife_30860_36hpf_4_ensGene_coverage.ExonUniq.gtf generated with a different -G file (/mnt/Storage/home/wangyiman/source/bySpecies/danRer11_2/danRer11_2.ensGene.ExonUniq.gtf) than the first sample (/mnt/Storage/home/wangyiman/source/bySpecies/danRer11_2/ensGene/danRer11_2.ensGene.ExonUniq.gtf)\n",
      "Warning: sample file RNA_seq_elife_30860_36hpf_5_ensGene_coverage.ExonUniq.gtf generated with a different -G file (/mnt/Storage/home/wangyiman/source/bySpecies/danRer11_2/danRer11_2.ensGene.ExonUniq.gtf) than the first sample (/mnt/Storage/home/wangyiman/source/bySpecies/danRer11_2/ensGene/danRer11_2.ensGene.ExonUniq.gtf)\n",
      "Warning: sample file RNA_seq_elife_30860_3dpf_1_ensGene_coverage.ExonUniq.gtf generated with a different -G file (/mnt/Storage/home/wangyiman/source/bySpecies/danRer11_2/danRer11_2.ensGene.ExonUniq.gtf) than the first sample (/mnt/Storage/home/wangyiman/source/bySpecies/danRer11_2/ensGene/danRer11_2.ensGene.ExonUniq.gtf)\n",
      "Warning: sample file RNA_seq_elife_30860_3dpf_2_ensGene_coverage.ExonUniq.gtf generated with a different -G file (/mnt/Storage/home/wangyiman/source/bySpecies/danRer11_2/danRer11_2.ensGene.ExonUniq.gtf) than the first sample (/mnt/Storage/home/wangyiman/source/bySpecies/danRer11_2/ensGene/danRer11_2.ensGene.ExonUniq.gtf)\n",
      "Warning: sample file RNA_seq_elife_30860_3dpf_3_ensGene_coverage.ExonUniq.gtf generated with a different -G file (/mnt/Storage/home/wangyiman/source/bySpecies/danRer11_2/danRer11_2.ensGene.ExonUniq.gtf) than the first sample (/mnt/Storage/home/wangyiman/source/bySpecies/danRer11_2/ensGene/danRer11_2.ensGene.ExonUniq.gtf)\n",
      "Warning: sample file RNA_seq_elife_30860_3dpf_4_ensGene_coverage.ExonUniq.gtf generated with a different -G file (/mnt/Storage/home/wangyiman/source/bySpecies/danRer11_2/danRer11_2.ensGene.ExonUniq.gtf) than the first sample (/mnt/Storage/home/wangyiman/source/bySpecies/danRer11_2/ensGene/danRer11_2.ensGene.ExonUniq.gtf)\n",
      "Warning: sample file RNA_seq_elife_30860_3dpf_5_ensGene_coverage.ExonUniq.gtf generated with a different -G file (/mnt/Storage/home/wangyiman/source/bySpecies/danRer11_2/danRer11_2.ensGene.ExonUniq.gtf) than the first sample (/mnt/Storage/home/wangyiman/source/bySpecies/danRer11_2/ensGene/danRer11_2.ensGene.ExonUniq.gtf)\n",
      "Warning: sample file RNA_seq_elife_30860_4dpf_1_ensGene_coverage.ExonUniq.gtf generated with a different -G file (/mnt/Storage/home/wangyiman/source/bySpecies/danRer11_2/danRer11_2.ensGene.ExonUniq.gtf) than the first sample (/mnt/Storage/home/wangyiman/source/bySpecies/danRer11_2/ensGene/danRer11_2.ensGene.ExonUniq.gtf)\n",
      "Warning: sample file RNA_seq_elife_30860_4dpf_2_ensGene_coverage.ExonUniq.gtf generated with a different -G file (/mnt/Storage/home/wangyiman/source/bySpecies/danRer11_2/danRer11_2.ensGene.ExonUniq.gtf) than the first sample (/mnt/Storage/home/wangyiman/source/bySpecies/danRer11_2/ensGene/danRer11_2.ensGene.ExonUniq.gtf)\n",
      "Warning: sample file RNA_seq_elife_30860_4dpf_3_ensGene_coverage.ExonUniq.gtf generated with a different -G file (/mnt/Storage/home/wangyiman/source/bySpecies/danRer11_2/danRer11_2.ensGene.ExonUniq.gtf) than the first sample (/mnt/Storage/home/wangyiman/source/bySpecies/danRer11_2/ensGene/danRer11_2.ensGene.ExonUniq.gtf)\n",
      "Warning: sample file RNA_seq_elife_30860_4dpf_4_ensGene_coverage.ExonUniq.gtf generated with a different -G file (/mnt/Storage/home/wangyiman/source/bySpecies/danRer11_2/danRer11_2.ensGene.ExonUniq.gtf) than the first sample (/mnt/Storage/home/wangyiman/source/bySpecies/danRer11_2/ensGene/danRer11_2.ensGene.ExonUniq.gtf)\n",
      "Warning: sample file RNA_seq_elife_30860_4dpf_5_ensGene_coverage.ExonUniq.gtf generated with a different -G file (/mnt/Storage/home/wangyiman/source/bySpecies/danRer11_2/danRer11_2.ensGene.ExonUniq.gtf) than the first sample (/mnt/Storage/home/wangyiman/source/bySpecies/danRer11_2/ensGene/danRer11_2.ensGene.ExonUniq.gtf)\n",
      "Warning: sample file RNA_seq_elife_30860_5dpf_1_ensGene_coverage.ExonUniq.gtf generated with a different -G file (/mnt/Storage/home/wangyiman/source/bySpecies/danRer11_2/danRer11_2.ensGene.ExonUniq.gtf) than the first sample (/mnt/Storage/home/wangyiman/source/bySpecies/danRer11_2/ensGene/danRer11_2.ensGene.ExonUniq.gtf)\n",
      "Warning: sample file RNA_seq_elife_30860_5dpf_2_ensGene_coverage.ExonUniq.gtf generated with a different -G file (/mnt/Storage/home/wangyiman/source/bySpecies/danRer11_2/danRer11_2.ensGene.ExonUniq.gtf) than the first sample (/mnt/Storage/home/wangyiman/source/bySpecies/danRer11_2/ensGene/danRer11_2.ensGene.ExonUniq.gtf)\n",
      "Warning: sample file RNA_seq_elife_30860_5dpf_3_ensGene_coverage.ExonUniq.gtf generated with a different -G file (/mnt/Storage/home/wangyiman/source/bySpecies/danRer11_2/danRer11_2.ensGene.ExonUniq.gtf) than the first sample (/mnt/Storage/home/wangyiman/source/bySpecies/danRer11_2/ensGene/danRer11_2.ensGene.ExonUniq.gtf)\n",
      "Warning: sample file RNA_seq_elife_30860_5dpf_4_ensGene_coverage.ExonUniq.gtf generated with a different -G file (/mnt/Storage/home/wangyiman/source/bySpecies/danRer11_2/danRer11_2.ensGene.ExonUniq.gtf) than the first sample (/mnt/Storage/home/wangyiman/source/bySpecies/danRer11_2/ensGene/danRer11_2.ensGene.ExonUniq.gtf)\n",
      "Warning: sample file RNA_seq_elife_30860_5dpf_5_ensGene_coverage.ExonUniq.gtf generated with a different -G file (/mnt/Storage/home/wangyiman/source/bySpecies/danRer11_2/danRer11_2.ensGene.ExonUniq.gtf) than the first sample (/mnt/Storage/home/wangyiman/source/bySpecies/danRer11_2/ensGene/danRer11_2.ensGene.ExonUniq.gtf)\n",
      "Warning: sample file RNA_seq_epidermis_Keratinocytes_rep1_ensGene_coverage.ExonUniq.gtf generated with a different -G file (/mnt/Storage/home/wangyiman/source/bySpecies/danRer11_2/danRer11_2.ensGene.ExonUniq.gtf) than the first sample (/mnt/Storage/home/wangyiman/source/bySpecies/danRer11_2/ensGene/danRer11_2.ensGene.ExonUniq.gtf)\n",
      "Warning: sample file RNA_seq_epidermis_Keratinocytes_rep2_ensGene_coverage.ExonUniq.gtf generated with a different -G file (/mnt/Storage/home/wangyiman/source/bySpecies/danRer11_2/danRer11_2.ensGene.ExonUniq.gtf) than the first sample (/mnt/Storage/home/wangyiman/source/bySpecies/danRer11_2/ensGene/danRer11_2.ensGene.ExonUniq.gtf)\n",
      "Warning: sample file RNA_seq_epidermis_Keratinocytes_rep3_ensGene_coverage.ExonUniq.gtf generated with a different -G file (/mnt/Storage/home/wangyiman/source/bySpecies/danRer11_2/danRer11_2.ensGene.ExonUniq.gtf) than the first sample (/mnt/Storage/home/wangyiman/source/bySpecies/danRer11_2/ensGene/danRer11_2.ensGene.ExonUniq.gtf)\n",
      "Warning: sample file RNA_seq_epidermis_MLCs_rep1_ensGene_coverage.ExonUniq.gtf generated with a different -G file (/mnt/Storage/home/wangyiman/source/bySpecies/danRer11_2/danRer11_2.ensGene.ExonUniq.gtf) than the first sample (/mnt/Storage/home/wangyiman/source/bySpecies/danRer11_2/ensGene/danRer11_2.ensGene.ExonUniq.gtf)\n",
      "Warning: sample file RNA_seq_epidermis_MLCs_rep2_ensGene_coverage.ExonUniq.gtf generated with a different -G file (/mnt/Storage/home/wangyiman/source/bySpecies/danRer11_2/danRer11_2.ensGene.ExonUniq.gtf) than the first sample (/mnt/Storage/home/wangyiman/source/bySpecies/danRer11_2/ensGene/danRer11_2.ensGene.ExonUniq.gtf)\n",
      "Warning: sample file RNA_seq_epidermis_MLCs_rep3_ensGene_coverage.ExonUniq.gtf generated with a different -G file (/mnt/Storage/home/wangyiman/source/bySpecies/danRer11_2/danRer11_2.ensGene.ExonUniq.gtf) than the first sample (/mnt/Storage/home/wangyiman/source/bySpecies/danRer11_2/ensGene/danRer11_2.ensGene.ExonUniq.gtf)\n",
      "Warning: sample file RNA_seq_epidermis_MLCs_rep4_ensGene_coverage.ExonUniq.gtf generated with a different -G file (/mnt/Storage/home/wangyiman/source/bySpecies/danRer11_2/danRer11_2.ensGene.ExonUniq.gtf) than the first sample (/mnt/Storage/home/wangyiman/source/bySpecies/danRer11_2/ensGene/danRer11_2.ensGene.ExonUniq.gtf)\n",
      "Warning: sample file RNA_seq_epidermis_Neutrophils_rep1_ensGene_coverage.ExonUniq.gtf generated with a different -G file (/mnt/Storage/home/wangyiman/source/bySpecies/danRer11_2/danRer11_2.ensGene.ExonUniq.gtf) than the first sample (/mnt/Storage/home/wangyiman/source/bySpecies/danRer11_2/ensGene/danRer11_2.ensGene.ExonUniq.gtf)\n",
      "Warning: sample file RNA_seq_epidermis_Neutrophils_rep2_ensGene_coverage.ExonUniq.gtf generated with a different -G file (/mnt/Storage/home/wangyiman/source/bySpecies/danRer11_2/danRer11_2.ensGene.ExonUniq.gtf) than the first sample (/mnt/Storage/home/wangyiman/source/bySpecies/danRer11_2/ensGene/danRer11_2.ensGene.ExonUniq.gtf)\n",
      "Warning: sample file RNA_seq_epidermis_T_cell_rep1_ensGene_coverage.ExonUniq.gtf generated with a different -G file (/mnt/Storage/home/wangyiman/source/bySpecies/danRer11_2/danRer11_2.ensGene.ExonUniq.gtf) than the first sample (/mnt/Storage/home/wangyiman/source/bySpecies/danRer11_2/ensGene/danRer11_2.ensGene.ExonUniq.gtf)\n",
      "Warning: sample file RNA_seq_epidermis_T_cell_rep2_ensGene_coverage.ExonUniq.gtf generated with a different -G file (/mnt/Storage/home/wangyiman/source/bySpecies/danRer11_2/danRer11_2.ensGene.ExonUniq.gtf) than the first sample (/mnt/Storage/home/wangyiman/source/bySpecies/danRer11_2/ensGene/danRer11_2.ensGene.ExonUniq.gtf)\n",
      "Warning: sample file RNA_seq_epidermis_T_cell_rep3_ensGene_coverage.ExonUniq.gtf generated with a different -G file (/mnt/Storage/home/wangyiman/source/bySpecies/danRer11_2/danRer11_2.ensGene.ExonUniq.gtf) than the first sample (/mnt/Storage/home/wangyiman/source/bySpecies/danRer11_2/ensGene/danRer11_2.ensGene.ExonUniq.gtf)\n",
      "Warning: sample file RNA_seq_epidermis_cLCs_rep1_ensGene_coverage.ExonUniq.gtf generated with a different -G file (/mnt/Storage/home/wangyiman/source/bySpecies/danRer11_2/danRer11_2.ensGene.ExonUniq.gtf) than the first sample (/mnt/Storage/home/wangyiman/source/bySpecies/danRer11_2/ensGene/danRer11_2.ensGene.ExonUniq.gtf)\n",
      "Warning: sample file RNA_seq_epidermis_cLCs_rep2_ensGene_coverage.ExonUniq.gtf generated with a different -G file (/mnt/Storage/home/wangyiman/source/bySpecies/danRer11_2/danRer11_2.ensGene.ExonUniq.gtf) than the first sample (/mnt/Storage/home/wangyiman/source/bySpecies/danRer11_2/ensGene/danRer11_2.ensGene.ExonUniq.gtf)\n",
      "Warning: sample file RNA_seq_epidermis_cLCs_rep3_ensGene_coverage.ExonUniq.gtf generated with a different -G file (/mnt/Storage/home/wangyiman/source/bySpecies/danRer11_2/danRer11_2.ensGene.ExonUniq.gtf) than the first sample (/mnt/Storage/home/wangyiman/source/bySpecies/danRer11_2/ensGene/danRer11_2.ensGene.ExonUniq.gtf)\n",
      "Warning: sample file RNA_seq_epidermis_cLCs_rep4_ensGene_coverage.ExonUniq.gtf generated with a different -G file (/mnt/Storage/home/wangyiman/source/bySpecies/danRer11_2/danRer11_2.ensGene.ExonUniq.gtf) than the first sample (/mnt/Storage/home/wangyiman/source/bySpecies/danRer11_2/ensGene/danRer11_2.ensGene.ExonUniq.gtf)\n",
      "Warning: sample file RNA_seq_kidney_HSC_gata2a_n_runx1_p_ensGene_coverage.ExonUniq.gtf generated with a different -G file (/mnt/Storage/home/wangyiman/source/bySpecies/danRer11_2/danRer11_2.ensGene.ExonUniq.gtf) than the first sample (/mnt/Storage/home/wangyiman/source/bySpecies/danRer11_2/ensGene/danRer11_2.ensGene.ExonUniq.gtf)\n",
      "Warning: sample file RNA_seq_kidney_HSC_gata2a_p_runx1_n_ensGene_coverage.ExonUniq.gtf generated with a different -G file (/mnt/Storage/home/wangyiman/source/bySpecies/danRer11_2/danRer11_2.ensGene.ExonUniq.gtf) than the first sample (/mnt/Storage/home/wangyiman/source/bySpecies/danRer11_2/ensGene/danRer11_2.ensGene.ExonUniq.gtf)\n",
      "Warning: sample file RNA_seq_kidney_HSC_gata2a_p_runx1_p_ensGene_coverage.ExonUniq.gtf generated with a different -G file (/mnt/Storage/home/wangyiman/source/bySpecies/danRer11_2/danRer11_2.ensGene.ExonUniq.gtf) than the first sample (/mnt/Storage/home/wangyiman/source/bySpecies/danRer11_2/ensGene/danRer11_2.ensGene.ExonUniq.gtf)\n",
      "Warning: sample file RNA_seq_kidney_rep1_ensGene_coverage.ExonUniq.gtf generated with a different -G file (/mnt/Storage/home/wangyiman/source/bySpecies/danRer11_2/danRer11_2.ensGene.ExonUniq.gtf) than the first sample (/mnt/Storage/home/wangyiman/source/bySpecies/danRer11_2/ensGene/danRer11_2.ensGene.ExonUniq.gtf)\n",
      "Warning: sample file RNA_seq_kidney_rep2_ensGene_coverage.ExonUniq.gtf generated with a different -G file (/mnt/Storage/home/wangyiman/source/bySpecies/danRer11_2/danRer11_2.ensGene.ExonUniq.gtf) than the first sample (/mnt/Storage/home/wangyiman/source/bySpecies/danRer11_2/ensGene/danRer11_2.ensGene.ExonUniq.gtf)\n",
      "Warning: sample file RNA_seq_kidney_rep3_ensGene_coverage.ExonUniq.gtf generated with a different -G file (/mnt/Storage/home/wangyiman/source/bySpecies/danRer11_2/danRer11_2.ensGene.ExonUniq.gtf) than the first sample (/mnt/Storage/home/wangyiman/source/bySpecies/danRer11_2/ensGene/danRer11_2.ensGene.ExonUniq.gtf)\n",
      "Warning: sample file RNA_seq_kidney_rep4_ensGene_coverage.ExonUniq.gtf generated with a different -G file (/mnt/Storage/home/wangyiman/source/bySpecies/danRer11_2/danRer11_2.ensGene.ExonUniq.gtf) than the first sample (/mnt/Storage/home/wangyiman/source/bySpecies/danRer11_2/ensGene/danRer11_2.ensGene.ExonUniq.gtf)\n",
      "Warning: sample file RNA_seq_liver_female_rep1_ensGene_coverage.ExonUniq.gtf generated with a different -G file (/mnt/Storage/home/wangyiman/source/bySpecies/danRer11_2/danRer11_2.ensGene.ExonUniq.gtf) than the first sample (/mnt/Storage/home/wangyiman/source/bySpecies/danRer11_2/ensGene/danRer11_2.ensGene.ExonUniq.gtf)\n",
      "Warning: sample file RNA_seq_liver_female_rep2_ensGene_coverage.ExonUniq.gtf generated with a different -G file (/mnt/Storage/home/wangyiman/source/bySpecies/danRer11_2/danRer11_2.ensGene.ExonUniq.gtf) than the first sample (/mnt/Storage/home/wangyiman/source/bySpecies/danRer11_2/ensGene/danRer11_2.ensGene.ExonUniq.gtf)\n",
      "Warning: sample file RNA_seq_liver_female_rep3_ensGene_coverage.ExonUniq.gtf generated with a different -G file (/mnt/Storage/home/wangyiman/source/bySpecies/danRer11_2/danRer11_2.ensGene.ExonUniq.gtf) than the first sample (/mnt/Storage/home/wangyiman/source/bySpecies/danRer11_2/ensGene/danRer11_2.ensGene.ExonUniq.gtf)\n",
      "Warning: sample file RNA_seq_liver_male_rep1_ensGene_coverage.ExonUniq.gtf generated with a different -G file (/mnt/Storage/home/wangyiman/source/bySpecies/danRer11_2/danRer11_2.ensGene.ExonUniq.gtf) than the first sample (/mnt/Storage/home/wangyiman/source/bySpecies/danRer11_2/ensGene/danRer11_2.ensGene.ExonUniq.gtf)\n",
      "Warning: sample file RNA_seq_liver_male_rep2_ensGene_coverage.ExonUniq.gtf generated with a different -G file (/mnt/Storage/home/wangyiman/source/bySpecies/danRer11_2/danRer11_2.ensGene.ExonUniq.gtf) than the first sample (/mnt/Storage/home/wangyiman/source/bySpecies/danRer11_2/ensGene/danRer11_2.ensGene.ExonUniq.gtf)\n",
      "Warning: sample file RNA_seq_liver_male_rep3_ensGene_coverage.ExonUniq.gtf generated with a different -G file (/mnt/Storage/home/wangyiman/source/bySpecies/danRer11_2/danRer11_2.ensGene.ExonUniq.gtf) than the first sample (/mnt/Storage/home/wangyiman/source/bySpecies/danRer11_2/ensGene/danRer11_2.ensGene.ExonUniq.gtf)\n",
      "Warning: sample file RNA_seq_liver_rep1_ensGene_coverage.ExonUniq.gtf generated with a different -G file (/mnt/Storage/home/wangyiman/source/bySpecies/danRer11_2/danRer11_2.ensGene.ExonUniq.gtf) than the first sample (/mnt/Storage/home/wangyiman/source/bySpecies/danRer11_2/ensGene/danRer11_2.ensGene.ExonUniq.gtf)\n",
      "Warning: sample file RNA_seq_liver_rep2_ensGene_coverage.ExonUniq.gtf generated with a different -G file (/mnt/Storage/home/wangyiman/source/bySpecies/danRer11_2/danRer11_2.ensGene.ExonUniq.gtf) than the first sample (/mnt/Storage/home/wangyiman/source/bySpecies/danRer11_2/ensGene/danRer11_2.ensGene.ExonUniq.gtf)\n",
      "Warning: sample file RNA_seq_liver_rep3_ensGene_coverage.ExonUniq.gtf generated with a different -G file (/mnt/Storage/home/wangyiman/source/bySpecies/danRer11_2/danRer11_2.ensGene.ExonUniq.gtf) than the first sample (/mnt/Storage/home/wangyiman/source/bySpecies/danRer11_2/ensGene/danRer11_2.ensGene.ExonUniq.gtf)\n",
      "Warning: sample file RNA_seq_muscle_rep1_ensGene_coverage.ExonUniq.gtf generated with a different -G file (/mnt/Storage/home/wangyiman/source/bySpecies/danRer11_2/danRer11_2.ensGene.ExonUniq.gtf) than the first sample (/mnt/Storage/home/wangyiman/source/bySpecies/danRer11_2/ensGene/danRer11_2.ensGene.ExonUniq.gtf)\n",
      "Warning: sample file RNA_seq_muscle_rep2_ensGene_coverage.ExonUniq.gtf generated with a different -G file (/mnt/Storage/home/wangyiman/source/bySpecies/danRer11_2/danRer11_2.ensGene.ExonUniq.gtf) than the first sample (/mnt/Storage/home/wangyiman/source/bySpecies/danRer11_2/ensGene/danRer11_2.ensGene.ExonUniq.gtf)\n",
      "Warning: sample file RNA_seq_muscle_rep3_ensGene_coverage.ExonUniq.gtf generated with a different -G file (/mnt/Storage/home/wangyiman/source/bySpecies/danRer11_2/danRer11_2.ensGene.ExonUniq.gtf) than the first sample (/mnt/Storage/home/wangyiman/source/bySpecies/danRer11_2/ensGene/danRer11_2.ensGene.ExonUniq.gtf)\n",
      "Warning: sample file RNA_seq_retina_muller_rep1_ensGene_coverage.ExonUniq.gtf generated with a different -G file (/mnt/Storage/home/wangyiman/source/bySpecies/danRer11_2/danRer11_2.ensGene.ExonUniq.gtf) than the first sample (/mnt/Storage/home/wangyiman/source/bySpecies/danRer11_2/ensGene/danRer11_2.ensGene.ExonUniq.gtf)\n",
      "Warning: sample file RNA_seq_retina_muller_rep2_ensGene_coverage.ExonUniq.gtf generated with a different -G file (/mnt/Storage/home/wangyiman/source/bySpecies/danRer11_2/danRer11_2.ensGene.ExonUniq.gtf) than the first sample (/mnt/Storage/home/wangyiman/source/bySpecies/danRer11_2/ensGene/danRer11_2.ensGene.ExonUniq.gtf)\n",
      "Warning: sample file RNA_seq_retina_muller_rep3_ensGene_coverage.ExonUniq.gtf generated with a different -G file (/mnt/Storage/home/wangyiman/source/bySpecies/danRer11_2/danRer11_2.ensGene.ExonUniq.gtf) than the first sample (/mnt/Storage/home/wangyiman/source/bySpecies/danRer11_2/ensGene/danRer11_2.ensGene.ExonUniq.gtf)\n",
      "Warning: sample file RNA_seq_testis_rep1_ensGene_coverage.ExonUniq.gtf generated with a different -G file (/mnt/Storage/home/wangyiman/source/bySpecies/danRer11_2/danRer11_2.ensGene.ExonUniq.gtf) than the first sample (/mnt/Storage/home/wangyiman/source/bySpecies/danRer11_2/ensGene/danRer11_2.ensGene.ExonUniq.gtf)\n",
      "Warning: sample file RNA_seq_testis_rep2_ensGene_coverage.ExonUniq.gtf generated with a different -G file (/mnt/Storage/home/wangyiman/source/bySpecies/danRer11_2/danRer11_2.ensGene.ExonUniq.gtf) than the first sample (/mnt/Storage/home/wangyiman/source/bySpecies/danRer11_2/ensGene/danRer11_2.ensGene.ExonUniq.gtf)\n",
      "Warning: sample file RNA_seq_testis_rep3_ensGene_coverage.ExonUniq.gtf generated with a different -G file (/mnt/Storage/home/wangyiman/source/bySpecies/danRer11_2/danRer11_2.ensGene.ExonUniq.gtf) than the first sample (/mnt/Storage/home/wangyiman/source/bySpecies/danRer11_2/ensGene/danRer11_2.ensGene.ExonUniq.gtf)\n",
      "Warning: sample file RNA_seq_testis_rep4_ensGene_coverage.ExonUniq.gtf generated with a different -G file (/mnt/Storage/home/wangyiman/source/bySpecies/danRer11_2/danRer11_2.ensGene.ExonUniq.gtf) than the first sample (/mnt/Storage/home/wangyiman/source/bySpecies/danRer11_2/ensGene/danRer11_2.ensGene.ExonUniq.gtf)\n",
      "Warning: sample file RNA_seq_testis_rep5_ensGene_coverage.ExonUniq.gtf generated with a different -G file (/mnt/Storage/home/wangyiman/source/bySpecies/danRer11_2/danRer11_2.ensGene.ExonUniq.gtf) than the first sample (/mnt/Storage/home/wangyiman/source/bySpecies/danRer11_2/ensGene/danRer11_2.ensGene.ExonUniq.gtf)\n",
      "Warning: sample file RNA_seq_valve_rep1_ensGene_coverage.ExonUniq.gtf generated with a different -G file (/mnt/Storage/home/wangyiman/source/bySpecies/danRer11_2/danRer11_2.ensGene.ExonUniq.gtf) than the first sample (/mnt/Storage/home/wangyiman/source/bySpecies/danRer11_2/ensGene/danRer11_2.ensGene.ExonUniq.gtf)\n",
      "Warning: sample file RNA_seq_valve_rep2_ensGene_coverage.ExonUniq.gtf generated with a different -G file (/mnt/Storage/home/wangyiman/source/bySpecies/danRer11_2/danRer11_2.ensGene.ExonUniq.gtf) than the first sample (/mnt/Storage/home/wangyiman/source/bySpecies/danRer11_2/ensGene/danRer11_2.ensGene.ExonUniq.gtf)\n",
      "Warning: sample file RNA_seq_valve_rep3_ensGene_coverage.ExonUniq.gtf generated with a different -G file (/mnt/Storage/home/wangyiman/source/bySpecies/danRer11_2/danRer11_2.ensGene.ExonUniq.gtf) than the first sample (/mnt/Storage/home/wangyiman/source/bySpecies/danRer11_2/ensGene/danRer11_2.ensGene.ExonUniq.gtf)\n",
      "Warning: sample file RNA_seq_ventricle_rep2_ensGene_coverage.ExonUniq.gtf generated with a different -G file (/mnt/Storage/home/wangyiman/source/bySpecies/danRer11_2/danRer11_2.ensGene.ExonUniq.gtf) than the first sample (/mnt/Storage/home/wangyiman/source/bySpecies/danRer11_2/ensGene/danRer11_2.ensGene.ExonUniq.gtf)\n",
      "Warning: sample file RNA_seq_ventricle_rep3_ensGene_coverage.ExonUniq.gtf generated with a different -G file (/mnt/Storage/home/wangyiman/source/bySpecies/danRer11_2/danRer11_2.ensGene.ExonUniq.gtf) than the first sample (/mnt/Storage/home/wangyiman/source/bySpecies/danRer11_2/ensGene/danRer11_2.ensGene.ExonUniq.gtf)\n",
      "Warning: sample file RNA_seq_ventricle_rep4_ensGene_coverage.ExonUniq.gtf generated with a different -G file (/mnt/Storage/home/wangyiman/source/bySpecies/danRer11_2/danRer11_2.ensGene.ExonUniq.gtf) than the first sample (/mnt/Storage/home/wangyiman/source/bySpecies/danRer11_2/ensGene/danRer11_2.ensGene.ExonUniq.gtf)\n",
      "Warning: sample file RNA_seq_ventricle_rep5_ensGene_coverage.ExonUniq.gtf generated with a different -G file (/mnt/Storage/home/wangyiman/source/bySpecies/danRer11_2/danRer11_2.ensGene.ExonUniq.gtf) than the first sample (/mnt/Storage/home/wangyiman/source/bySpecies/danRer11_2/ensGene/danRer11_2.ensGene.ExonUniq.gtf)\n"
     ]
    }
   ],
   "source": [
    "%%bash\n",
    "run=false\n",
    "cd ~/maternal_loading/2.public_data/2_expression_value_ExonUniq_merge_oldNew/\n",
    "[ $run == \"true\" ] && sample_list_fi=../analysis_embryoExon_tissueExon/ovary_earlyEmbryo_sample_exon_readcnt_prepDE_sorted.txt && prepDE.py3 -i $sample_list_fi -g ../analysis_embryoExon_tissueExon/ovary_earlyEmbryo_exon_count_matrix.csv -t ../analysis_embryoExon_tissueExon/ovary_earlyEmbryo_exon_count_matrix.csv\n",
    "[ $run == \"true\" ] && sample_list_fi=../analysis_embryoExon_tissueExon/lateEmbryo_tissue_sample_exon_readcnt_prepDE_sorted.txt && prepDE.py3 -i $sample_list_fi -g ../analysis_embryoExon_tissueExon/lateEmbryo_tissue_exon_count_matrix.csv -t ../analysis_embryoExon_tissueExon/lateEmbryo_tissue_exon_count_matrix.csv\n"
   ]
  },
  {
   "cell_type": "code",
   "execution_count": 83,
   "metadata": {},
   "outputs": [],
   "source": [
    "# run = False\n",
    "# os.chdir('/mnt/Storage/home/wangyiman/maternal_loading/2.public_data/analysis_embryoExon_tissueExon')\n",
    "# if run == True :\n",
    "#     overay_early_df = pd.read_table('ovary_earlyEmbryo_exon_count_matrix.csv', header=0, sep=',', index_col=0)\n",
    "#     late_tissue_df = pd.read_table('lateEmbryo_tissue_exon_count_matrix.csv', header=0, sep=',', index_col=0)\n",
    "#     overay_early_df_reorder = overay_early_df[expr_3id_dict_T['ovary_earlyEmbryo_FPKM'].index.tolist()]\n",
    "#     overay_early_df_reorder.to_csv('ovary_earlyEmbryo_exon_count_matrix_reorder.csv', index=True)\n",
    "#     late_tissue_df_reorder = late_tissue_df[expr_3id_dict_T['lateEmbryo_tissue_FPKM'].index.tolist()]\n",
    "#     late_tissue_df_reorder.to_csv('lateEmbryo_tissue_exon_count_matrix_reorder.csv', index=True)"
   ]
  },
  {
   "cell_type": "markdown",
   "metadata": {},
   "source": [
    "# remove batch effect (CombatSeq)"
   ]
  },
  {
   "cell_type": "markdown",
   "metadata": {},
   "source": [
    "## remove batch effect (readcnt)"
   ]
  },
  {
   "cell_type": "markdown",
   "metadata": {},
   "source": [
    "util2_remove_batch_effect.R"
   ]
  },
  {
   "cell_type": "markdown",
   "metadata": {},
   "source": [
    "## readcnt to FPKM"
   ]
  },
  {
   "cell_type": "markdown",
   "metadata": {},
   "source": [
    "util3_ComBat_readcnt2FPKMandTPM.R"
   ]
  },
  {
   "cell_type": "markdown",
   "metadata": {},
   "source": []
  }
 ],
 "metadata": {
  "kernelspec": {
   "display_name": "Python [conda env:root] *",
   "language": "python",
   "name": "conda-root-py"
  },
  "language_info": {
   "codemirror_mode": {
    "name": "ipython",
    "version": 3
   },
   "file_extension": ".py",
   "mimetype": "text/x-python",
   "name": "python",
   "nbconvert_exporter": "python",
   "pygments_lexer": "ipython3",
   "version": "3.8.5"
  },
  "toc-autonumbering": true
 },
 "nbformat": 4,
 "nbformat_minor": 4
}
